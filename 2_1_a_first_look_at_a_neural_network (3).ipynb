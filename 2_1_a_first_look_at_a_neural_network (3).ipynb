{
  "cells": [
    {
      "cell_type": "code",
      "execution_count": 1,
      "metadata": {
        "colab": {
          "base_uri": "https://localhost:8080/",
          "height": 35
        },
        "id": "E1O117N5ZwQD",
        "outputId": "01a21733-59d6-4bf6-98fb-8cd4b56c17c2"
      },
      "outputs": [
        {
          "output_type": "execute_result",
          "data": {
            "text/plain": [
              "'2.9.0'"
            ],
            "application/vnd.google.colaboratory.intrinsic+json": {
              "type": "string"
            }
          },
          "metadata": {},
          "execution_count": 1
        }
      ],
      "source": [
        "import keras\n",
        "keras.__version__"
      ]
    },
    {
      "cell_type": "markdown",
      "metadata": {
        "id": "Y9ApVv-zZwQI"
      },
      "source": [
        "<p dir=\"rtl\" align=\"right\">\n",
        "<font size=\"+2\" face=\"homa\">\n",
        "  <b>\n",
        "  نخستین نگاه به شبکه عصبی \n",
        "  <br><br>\n",
        "  <font size=\"+1\" face=\"homa\">\n",
        "  فصل ۲ قسمت ۱ \n",
        "  </b>\n",
        "\n",
        "<hr>\n",
        "\n",
        "<p dir=\"rtl\" align=\"justify\">\n",
        "<font face=\"homa\">\n",
        " ابتدا، با یک مثال عملی شبکه عصبی شروع می‌کنیم که از کتابخانه کراس پایتون برای یادگیری دسته‌بندی ارقام دست‌نوشته استفاده می‌کند. در صورتی که هیچ تجربه‌ای از کراس یا کتابخانه‌های مشابه نداشته باشید، نخواهید توانست بلافاصله این مثال را درک کنید. شاید، هنوز حتی کراس را نصب نکرده‌اید؛ اشکالی ندارد. در فصل بعدی، هرکدام از اجزای مثال را مرور کرده و به طور مفصل توضیح خواهیم داد؛ بنابراین، اگر برخی از مراحل به نظرتان دلخواه یا جادویی می‌رسند نگران نباشید. بالاخره باید از جایی شروع کنید.\n",
        "\n",
        "<br>\n",
        "مسئله‌ای که می‌خواهیم در اینجا حل کنیم، دسته‌بندی تصاویر سیاه ‌و سفید  ارقام دست‌نوشته (۲۸×۲۸ پیکسل) به ۱۰ دسته (۰ تا ۹) مربوط به خودشان است. ما از مجموعه ‌داده MNIST استفاده خواهیم کرد که در جامعه یادگیری ماشین مشهور بوده و قدمت آن به ‌اندازه قدمت خود این رشته است و بارها و بارها مورد مطالعه قرارگرفته است. این مجموعه ‌داده متشکل از شصت هزار تصویر آموزشی به ‌علاوه ده هزار تصویر برای آزمایش است که موسسه ملی استاندارد و فناوری (بخش NIST از عنوان MNIST) در دهه ۱۹۸۰ آن‌ها را جمع‌آوری نموده است. می‌توان «حل کردن» MNIST را «سلام دنیا»ی یادگیری عمیق دانست. این کاری است که برای تشخیص کارکرد صحیح الگوریتم‌ها انجام می‌شود. با کار کردن در زمینه یادگیری ماشین خواهید دید که بارها و بارها در مقالات علمی، وبلاگ‌ها و غیره با MNIST روبرو می‌شوید."
      ]
    },
    {
      "cell_type": "markdown",
      "metadata": {
        "id": "E2ZMxlWDZwQK"
      },
      "source": [
        "<p dir=\"rtl\" align=\"justify\">\n",
        "<font face=\"Vazir\">\n",
        "مجموعه ‌داده MNIST، به شکل مجموعه‌ای از چهار آرایه نام‌پای ، پیشاپیش در کراس بارگذاری شده است.\n",
        "</font>\n",
        "</p>"
      ]
    },
    {
      "cell_type": "code",
      "execution_count": 2,
      "metadata": {
        "id": "Fl4IuXmvZwQL",
        "colab": {
          "base_uri": "https://localhost:8080/"
        },
        "outputId": "87142792-11dc-47b7-d5b9-0c3aba617f50"
      },
      "outputs": [
        {
          "output_type": "stream",
          "name": "stdout",
          "text": [
            "Downloading data from https://storage.googleapis.com/tensorflow/tf-keras-datasets/mnist.npz\n",
            "11490434/11490434 [==============================] - 0s 0us/step\n"
          ]
        }
      ],
      "source": [
        "from keras.datasets import mnist\n",
        "\n",
        "(train_images, train_labels), (test_images, test_labels) = mnist.load_data()"
      ]
    },
    {
      "cell_type": "markdown",
      "metadata": {
        "id": "gTbRBTcqZwQM"
      },
      "source": [
        "<p dir=\"rtl\" align=\"justify\">\n",
        "<font face=\"homa\">\n",
        "train_images و train_labels از مجموعه آموزشی، داده‌هایی هستند که مدل یاد خواهد گرفت. سپس، مدل با مجموعه آزمایش  test_images و test_labels مورد آزمایش قرار خواهد گرفت.\n",
        "تصاویر به عنوان آرایه‌های نام‌پای کدگذاری می‌شوند و برچسب‌ها آرایه‌ا‌ی از ارقام هستند که دامنه‌شان از صفر تا ۹ است. تصاویر و برچسب‌ها یک‌به‌یک با همدیگر مطابقت دارند.\n",
        "<br><br>\n",
        "داده‌های آموزشی به شکل زیر می‌باشند:"
      ]
    },
    {
      "cell_type": "code",
      "execution_count": 3,
      "metadata": {
        "colab": {
          "base_uri": "https://localhost:8080/"
        },
        "id": "qZhahCf1ZwQM",
        "outputId": "8d53e5b0-9b2f-4584-c697-6bb421222b72"
      },
      "outputs": [
        {
          "output_type": "execute_result",
          "data": {
            "text/plain": [
              "(60000, 28, 28)"
            ]
          },
          "metadata": {},
          "execution_count": 3
        }
      ],
      "source": [
        "train_images.shape"
      ]
    },
    {
      "cell_type": "code",
      "execution_count": 4,
      "metadata": {
        "colab": {
          "base_uri": "https://localhost:8080/"
        },
        "id": "5XfJlzKvZwQN",
        "outputId": "29d90e7d-13fc-4e34-b130-ae664602f877"
      },
      "outputs": [
        {
          "output_type": "execute_result",
          "data": {
            "text/plain": [
              "60000"
            ]
          },
          "metadata": {},
          "execution_count": 4
        }
      ],
      "source": [
        "len(train_labels)"
      ]
    },
    {
      "cell_type": "code",
      "execution_count": 5,
      "metadata": {
        "colab": {
          "base_uri": "https://localhost:8080/"
        },
        "id": "hL0g_e6DZwQO",
        "outputId": "ac6a4382-daf0-4263-87ce-b269b7079ac8",
        "scrolled": false
      },
      "outputs": [
        {
          "output_type": "execute_result",
          "data": {
            "text/plain": [
              "array([5, 0, 4, ..., 5, 6, 8], dtype=uint8)"
            ]
          },
          "metadata": {},
          "execution_count": 5
        }
      ],
      "source": [
        "train_labels"
      ]
    },
    {
      "cell_type": "markdown",
      "metadata": {
        "id": "hvvXOFTGZwQO"
      },
      "source": [
        "<p dir=\"rtl\" align=\"justify\">\n",
        "<font face=\"homa\">\n",
        "و داده‌های آزمایش بدین قرار هستند:"
      ]
    },
    {
      "cell_type": "code",
      "execution_count": 6,
      "metadata": {
        "colab": {
          "base_uri": "https://localhost:8080/"
        },
        "id": "pjmaHbJnZwQP",
        "outputId": "fe9de464-52bd-4b9d-bac4-1eba490e7ebd"
      },
      "outputs": [
        {
          "output_type": "execute_result",
          "data": {
            "text/plain": [
              "(10000, 28, 28)"
            ]
          },
          "metadata": {},
          "execution_count": 6
        }
      ],
      "source": [
        "test_images.shape"
      ]
    },
    {
      "cell_type": "code",
      "execution_count": 7,
      "metadata": {
        "colab": {
          "base_uri": "https://localhost:8080/"
        },
        "id": "ddO8WVhCZwQQ",
        "outputId": "a626f706-f5df-4ee9-b17c-ee9ec8cae0d4"
      },
      "outputs": [
        {
          "output_type": "execute_result",
          "data": {
            "text/plain": [
              "10000"
            ]
          },
          "metadata": {},
          "execution_count": 7
        }
      ],
      "source": [
        "len(test_labels)"
      ]
    },
    {
      "cell_type": "code",
      "execution_count": 8,
      "metadata": {
        "colab": {
          "base_uri": "https://localhost:8080/"
        },
        "id": "rnH0v6qyZwQQ",
        "outputId": "75ac7ab2-828e-4ac8-8316-4209ca1ce800"
      },
      "outputs": [
        {
          "output_type": "execute_result",
          "data": {
            "text/plain": [
              "array([7, 2, 1, ..., 4, 5, 6], dtype=uint8)"
            ]
          },
          "metadata": {},
          "execution_count": 8
        }
      ],
      "source": [
        "test_labels"
      ]
    },
    {
      "cell_type": "markdown",
      "metadata": {
        "id": "920QcqhSZwQQ"
      },
      "source": [
        "<p dir=\"rtl\" align=\"justify\">\n",
        "<font face=\"homa\">\n",
        "روند کار بدین شکل خواهد بود: ابتدا، داده‌های آموزشی را به عنوان ورودی به شبکه عصبی خواهیم داد؛ train_images و train_labels. سپس، شبکه ارتباط تصاویر و برچسب‌ها به همدیگر را یاد خواهد گرفت. نهایتاً، از شبکه خواهیم خواست تا پیش‌بینی‌هایی را برای test_images تولید کند و همخوانی یا عدم همخوانی این پیش‌بینی‌ها با برچسب‌های test_labels را بررسی خواهیم کرد.\n",
        "<br><br>\n",
        "حال می‌خواهیم شبکه را بسازیم. مجدداً به خاطر داشته باشید که هنوز از شما انتظار نمی‌رود که همه مسائل این مثال را درک کنید."
      ]
    },
    {
      "cell_type": "code",
      "execution_count": 9,
      "metadata": {
        "collapsed": true,
        "id": "pLUfNkdAZwQR"
      },
      "outputs": [],
      "source": [
        "from keras import models\n",
        "from keras import layers\n",
        "\n",
        "network = models.Sequential()\n",
        "network.add(layers.Dense(512, activation='relu', input_shape=(28 * 28,)))\n",
        "network.add(layers.Dense(10, activation='softmax'))\n"
      ]
    },
    {
      "cell_type": "markdown",
      "metadata": {
        "id": "svf6Pb0bZwQR"
      },
      "source": [
        "<p dir=\"rtl\" align=\"justify\">\n",
        "<font face=\"homa\">\n",
        "اصلی‌ترین بلوک سازنده شبکه‌های عصبی، لایه است. لایه، عبارت است از ماژول پردازش داده‌ها که می‌توان آن‌ را فیلتر داده‌ها دانست. داده‌ها وارد شبکه شده و به شکل مناسب‌تری از آن خارج می‌شوند. بالأخص، لایه‌ها از داده‌های وارد شده بازنمایی‌ها  را استخراج می‌کنند (در بهترین حالت، بازنمایی‌هایی که برای مسئله موردنظر ما معنادارتر هستند). یادگیری عمیق عمدتاً شامل به هم پیوستن لایه‌های ساده‌ای است که نوعی عصاره‌گیری مرحله‌به‌مرحله  را اجرا خواهند کرد. مدل یادگیری عمیق شبیه یک غربال برای پردازش داده‌هاست، لایه‌ها به عنوان فیلترهای داده‌ای عمل می‌کنند که رفته‌رفته پالایش می‌شوند.\n",
        "<br><br>\n",
        "در اینجا، شبکه ما متشکل از دولایه متراکم  متوالی است، اتصال بین این لایه‌ها متراکم است و از این رو لایه‌های تمام متصل  نیز نامیده می‌شوند دومین (آخرین) لایه، یک‌لایه با ۱۰-خروجی است که سافت‌مکس  نامیده می‌شود، یعنی آرایه‌ای با ۱۰ امتیاز احتمال (که مجموعشان برابر یک است) را باز خواهد گرداند. هر امتیاز، عبارت از احتمالی خواهد بود که بیانگر احتمال تعلق تصویر مورد نظر به یکی از کلاس‌های ۱۰ رقمی ما را نشان می‌دهد.\n",
        "<br><br>\n",
        "به‌منظور آماده کردن شبکه برای آموزش، باید سه مورد زیر را به عنوان بخشی از مرحله کامپایل  در نظر بگیریم:\n",
        "<br>\n",
        "\n",
        "<ul dir=\"rtl\">\n",
        "  <li>تابع هزینه: شبکه چگونه خواهد توانست عملکرد خود در مورد داده‌های آموزشی را ارزیابی نماید و بدین ترتیب چگونه خواهد توانست خودش را به مسیر درست هدایت کند.</li>\n",
        "</ul>\n",
        "\n",
        "<ul dir=\"rtl\">\n",
        "  <li>\tبهینه‌ساز: مکانیسمی است که شبکه به ‌واسطه آن خود را به‌روز خواهد کرد. به‌روزرسانی بر مبنای تابع هزینه و داده‌هایی است که شبکه به عنوان ورودی دریافت می‌کند.</li>\n",
        "</ul>\n",
        "\n",
        "<ul dir=\"rtl\">\n",
        "  <li>\tمعیار‌هایی که در طول آموزش و آزمایش ثبت می‌شوند: در اینجا، تنها معیار دقت را مورد استفاده قرار می‌دهیم (تعداد تصاویری که به‌ درستی دسته‌بندی شده‌اند).</li>\n",
        "</ul>\n",
        "\n",
        "<p dir=\"rtl\" align=\"justify\">\n",
        "<font face=\"Vazir\">\n",
        "هدف دقیق تابع هزینه و بهینه‌ساز در دو فصل بعدی کاملاً روشن خواهد شد."
      ]
    },
    {
      "cell_type": "code",
      "execution_count": 10,
      "metadata": {
        "collapsed": true,
        "id": "KrkUlw5LZwQS"
      },
      "outputs": [],
      "source": [
        "network.compile(optimizer='rmsprop',\n",
        "                loss='categorical_crossentropy',\n",
        "                metrics=['accuracy'])"
      ]
    },
    {
      "cell_type": "markdown",
      "metadata": {
        "id": "qTZPHGtwZwQS"
      },
      "source": [
        "<p dir=\"rtl\" align=\"justify\">\n",
        "<font face=\"homa\">\n",
        "قبل از آموزش، داده‌ها پیش‌پردازش می‌شوند؛ یعنی شکل آن‌ها به صورتی تغییر داده می‌شود که شبکه انتظارش را دارد و نیز مقادیر آن به ‌گونه‌ای مقیاس بندی می‌شود که در بازه [0,1] قرار بگیرند. به عنوان مثال، تصاویر آموزشی ما قبلاً در آرایه‌ای به شکل (28 ,28 ,60000) و نوع unit8 و با مقادیری در بازه [0,255] ذخیره شده بودند. ما آن‌ها را به صورت آرایه float32 به شکل (28*28 ,60000) با مقادیر بین 0 و 1 تبدیل می‌کنیم."
      ]
    },
    {
      "cell_type": "code",
      "execution_count": 11,
      "metadata": {
        "collapsed": true,
        "id": "4IUkwG9sZwQS"
      },
      "outputs": [],
      "source": [
        "train_images = train_images.reshape((60000, 28 * 28))\n",
        "train_images = train_images.astype('float32') / 255\n",
        "\n",
        "test_images = test_images.reshape((10000, 28 * 28))\n",
        "test_images = test_images.astype('float32') / 255"
      ]
    },
    {
      "cell_type": "markdown",
      "metadata": {
        "id": "ANzUDqYBZwQT"
      },
      "source": [
        "<p dir=\"rtl\" align=\"justify\">\n",
        "<font face=\"homa\">\n",
        "همچنین، باید برچسب‌ها را بر اساس دسته‌ای که به آن تعلق دارند کدگذاری کنیم؛ این گام را در فصل ۳ توضیح خواهیم داد."
      ]
    },
    {
      "cell_type": "code",
      "execution_count": 12,
      "metadata": {
        "colab": {
          "base_uri": "https://localhost:8080/"
        },
        "id": "kGF4HoElZwQT",
        "outputId": "f4890cb0-a6db-4eee-a849-1377b5fba328"
      },
      "outputs": [
        {
          "output_type": "execute_result",
          "data": {
            "text/plain": [
              "array([[0., 0., 0., ..., 0., 0., 0.],\n",
              "       [1., 0., 0., ..., 0., 0., 0.],\n",
              "       [0., 0., 0., ..., 0., 0., 0.],\n",
              "       ...,\n",
              "       [0., 0., 0., ..., 0., 0., 0.],\n",
              "       [0., 0., 0., ..., 0., 0., 0.],\n",
              "       [0., 0., 0., ..., 0., 1., 0.]], dtype=float32)"
            ]
          },
          "metadata": {},
          "execution_count": 12
        }
      ],
      "source": [
        "from tensorflow.keras.utils import to_categorical\n",
        "\n",
        "train_labels = to_categorical(train_labels)\n",
        "test_labels = to_categorical(test_labels)\n",
        "train_labels"
      ]
    },
    {
      "cell_type": "markdown",
      "metadata": {
        "id": "Ywe5p7spZwQT"
      },
      "source": [
        "<p dir=\"rtl\" align=\"justify\">\n",
        "<font face=\"homa\">\n",
        "حال آماده آموزش شبکه هستیم. در کراس آموزش از طریق فراخوانی متد fit صورت می‌گیرد. ما مدل را براساس داده‌های آموزشی‌اش برازش  می‌کنیم:"
      ]
    },
    {
      "cell_type": "code",
      "execution_count": 13,
      "metadata": {
        "colab": {
          "base_uri": "https://localhost:8080/"
        },
        "id": "CAfT4OXvZwQU",
        "outputId": "0ac8b18f-1878-4ba0-db26-6694e7e128b6"
      },
      "outputs": [
        {
          "output_type": "stream",
          "name": "stdout",
          "text": [
            "Epoch 1/5\n",
            "469/469 [==============================] - 4s 4ms/step - loss: 0.2567 - accuracy: 0.9252\n",
            "Epoch 2/5\n",
            "469/469 [==============================] - 2s 4ms/step - loss: 0.1026 - accuracy: 0.9703\n",
            "Epoch 3/5\n",
            "469/469 [==============================] - 2s 4ms/step - loss: 0.0677 - accuracy: 0.9799\n",
            "Epoch 4/5\n",
            "469/469 [==============================] - 5s 11ms/step - loss: 0.0492 - accuracy: 0.9852\n",
            "Epoch 5/5\n",
            "469/469 [==============================] - 3s 7ms/step - loss: 0.0372 - accuracy: 0.9888\n"
          ]
        },
        {
          "output_type": "execute_result",
          "data": {
            "text/plain": [
              "<keras.callbacks.History at 0x7fdef0206dd0>"
            ]
          },
          "metadata": {},
          "execution_count": 13
        }
      ],
      "source": [
        "network.fit(train_images, train_labels, epochs=5, batch_size=128)"
      ]
    },
    {
      "cell_type": "markdown",
      "metadata": {
        "id": "ZdDP2YhjZwQU"
      },
      "source": [
        "<p dir=\"rtl\" align=\"justify\">\n",
        "<font face=\"homa\">\n",
        "دو کمیت در طول آموزش نمایش داده می‌شوند: خطا و دقت شبکه روی داده‌های آموزشی. \n",
        "<br><br>\n",
        "ما به‌ سرعت به دقت ۹۸۹/. (۹۸.۹٪) در داده‌های آموزشی رسیدیم. اکنون اجازه دهید که مدل را در مجموعه آزمایش نیز بررسی کنیم:"
      ]
    },
    {
      "cell_type": "code",
      "execution_count": 14,
      "metadata": {
        "colab": {
          "base_uri": "https://localhost:8080/"
        },
        "id": "wqILoUCiZwQU",
        "outputId": "fdcd46fa-ce96-4ec4-8baa-67af42b05a3a"
      },
      "outputs": [
        {
          "output_type": "stream",
          "name": "stdout",
          "text": [
            "313/313 [==============================] - 1s 3ms/step - loss: 0.0712 - accuracy: 0.9798\n"
          ]
        }
      ],
      "source": [
        "test_loss, test_acc = network.evaluate(test_images, test_labels)"
      ]
    },
    {
      "cell_type": "code",
      "execution_count": 15,
      "metadata": {
        "colab": {
          "base_uri": "https://localhost:8080/"
        },
        "id": "e8kRoGAKZwQV",
        "outputId": "9ff8c94d-0293-4915-b132-787e7ec3c7c7"
      },
      "outputs": [
        {
          "output_type": "stream",
          "name": "stdout",
          "text": [
            "test_acc: 0.9797999858856201\n"
          ]
        }
      ],
      "source": [
        "print('test_acc:', test_acc)"
      ]
    },
    {
      "cell_type": "code",
      "source": [
        "import matplotlib.pyplot as plt\n",
        "import numpy as np\n",
        "\n",
        "img_inx = np.random.randint(0, len(test_images))\n",
        "\n",
        "pre = np.round(network.predict(test_images[img_inx:img_inx + 1]), 2)\n",
        "plt.imshow(np.reshape(test_images[img_inx], [28, 28]), cmap='gray')\n",
        "\n",
        "print(f'Lable: {test_labels[img_inx]}')\n",
        "print(f'Predicted Lable: {pre}')"
      ],
      "metadata": {
        "colab": {
          "base_uri": "https://localhost:8080/",
          "height": 317
        },
        "id": "OocSdNBkhldh",
        "outputId": "c4af9145-b957-4e8c-e204-8c2458a3582e"
      },
      "execution_count": 50,
      "outputs": [
        {
          "output_type": "stream",
          "name": "stdout",
          "text": [
            "1/1 [==============================] - 0s 22ms/step\n",
            "Lable: [0. 0. 0. 0. 0. 1. 0. 0. 0. 0.]\n",
            "Predicted Lable: [[0. 0. 0. 0. 0. 1. 0. 0. 0. 0.]]\n"
          ]
        },
        {
          "output_type": "display_data",
          "data": {
            "text/plain": [
              "<Figure size 432x288 with 1 Axes>"
            ],
            "image/png": "[encoded data removed]"
          },
          "metadata": {
            "needs_background": "light"
          }
        }
      ]
    },
    {
      "cell_type": "markdown",
      "metadata": {
        "id": "dlXEReMsZwQV"
      },
      "source": [
        "<p dir=\"rtl\" align=\"justify\">\n",
        "<font face=\"homa\">\n",
        "میزان دقت مجموعه آزمایش ۹۷.۹٪ می‌شود که خیلی کمتر از میزان دقت مجموعه آموزش است. این شکاف بین دقت آموزش و دقت آزمایش نمونه‌ای از بیش برازش است؛ یعنی گویای این واقعیت است که مدل‌های یادگیری ماشین روی ‌داده‌های جدید، نسبت به داده‌های آموزشی خودشان، عملکرد بدتری دارند. بیش برازش  عنوانی مهم است که در فصل ۳ در مورد آن بحث شده است.\n",
        "<br><br>\n",
        "در مثال اول دیدیم که چگونه می‌توان برای دسته‌بندی ارقام دست‌نوشته در کمتر از ۲۰ خط کد پایتون، یک شبکه عصبی ساخته و آن را آموزش داد. در فصل بعدی، هر کدی که به صورت گذرا اینجا مرور کردیم، به ‌تفصیل بیان خواهیم کرد و همه آنچه را که در پشت پرده‌ می‌گذرد به طور کامل توضیح خواهیم داد. مطالبی که در فصل بعدی یاد خواهید گرفت عبارت‌ هستند از: تنسورها که ذخیره کننده داده‌ها بوده و به عنوان ورودی به شبکه ارسال می‌شوند؛ عملیات تنسورها که لایه‌ها از آن ساخته‌شده‌اند؛ و گرادیان نزولی که امکان یادگیری از مثال‌های آموزشی را برای شبکه شما ممکن می‌سازد."
      ]
    }
  ],
  "metadata": {
    "accelerator": "GPU",
    "colab": {
      "collapsed_sections": [],
      "provenance": []
    },
    "gpuClass": "standard",
    "kernelspec": {
      "display_name": "Python 3",
      "language": "python",
      "name": "python3"
    },
    "language_info": {
      "codemirror_mode": {
        "name": "ipython",
        "version": 3
      },
      "file_extension": ".py",
      "mimetype": "text/x-python",
      "name": "python",
      "nbconvert_exporter": "python",
      "pygments_lexer": "ipython3",
      "version": "3.8.8"
    },
    "vscode": {
      "interpreter": {
        "hash": "5b3ded1ccb95c1d9bd405e7b823d9e85424cde40fbb5985eb47e999ef50e15b4"
      }
    }
  },
  "nbformat": 4,
  "nbformat_minor": 0
}