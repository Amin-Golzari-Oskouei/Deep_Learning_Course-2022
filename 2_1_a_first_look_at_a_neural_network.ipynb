{
  "cells": [
    {
      "cell_type": "code",
      "execution_count": null,
      "metadata": {
        "colab": {
          "base_uri": "https://localhost:8080/",
          "height": 35
        },
        "id": "E1O117N5ZwQD",
        "outputId": "0382fa95-2eba-42ac-b676-c7592b59ec93"
      },
      "outputs": [
        {
          "data": {
            "application/vnd.google.colaboratory.intrinsic+json": {
              "type": "string"
            },
            "text/plain": [
              "'2.8.0'"
            ]
          },
          "execution_count": 1,
          "metadata": {},
          "output_type": "execute_result"
        }
      ],
      "source": [
        "import keras\n",
        "keras.__version__"
      ]
    },
    {
      "cell_type": "markdown",
      "metadata": {
        "id": "Y9ApVv-zZwQI"
      },
      "source": [
        "<p dir=\"rtl\" align=\"right\">\n",
        "<font size=\"+2\" face=\"homa\">\n",
        "  <b>\n",
        "  نخستین نگاه به شبکه عصبی \n",
        "  <br><br>\n",
        "  <font size=\"+1\" face=\"homa\">\n",
        "  فصل ۲ قسمت ۱ \n",
        "  </b>\n",
        "\n",
        "<hr>\n",
        "\n",
        "<p dir=\"rtl\" align=\"justify\">\n",
        "<font face=\"homa\">\n",
        " ابتدا، با یک مثال عملی شبکه عصبی شروع می‌کنیم که از کتابخانه کراس پایتون برای یادگیری دسته‌بندی ارقام دست‌نوشته استفاده می‌کند. در صورتی که هیچ تجربه‌ای از کراس یا کتابخانه‌های مشابه نداشته باشید، نخواهید توانست بلافاصله این مثال را درک کنید. شاید، هنوز حتی کراس را نصب نکرده‌اید؛ اشکالی ندارد. در فصل بعدی، هرکدام از اجزای مثال را مرور کرده و به طور مفصل توضیح خواهیم داد؛ بنابراین، اگر برخی از مراحل به نظرتان دلخواه یا جادویی می‌رسند نگران نباشید. بالاخره باید از جایی شروع کنید.\n",
        "\n",
        "<br>\n",
        "مسئله‌ای که می‌خواهیم در اینجا حل کنیم، دسته‌بندی تصاویر سیاه ‌و سفید  ارقام دست‌نوشته (۲۸×۲۸ پیکسل) به ۱۰ دسته (۰ تا ۹) مربوط به خودشان است. ما از مجموعه ‌داده MNIST استفاده خواهیم کرد که در جامعه یادگیری ماشین مشهور بوده و قدمت آن به ‌اندازه قدمت خود این رشته است و بارها و بارها مورد مطالعه قرارگرفته است. این مجموعه ‌داده متشکل از شصت هزار تصویر آموزشی به ‌علاوه ده هزار تصویر برای آزمایش است که موسسه ملی استاندارد و فناوری (بخش NIST از عنوان MNIST) در دهه ۱۹۸۰ آن‌ها را جمع‌آوری نموده است. می‌توان «حل کردن» MNIST را «سلام دنیا»ی یادگیری عمیق دانست. این کاری است که برای تشخیص کارکرد صحیح الگوریتم‌ها انجام می‌شود. با کار کردن در زمینه یادگیری ماشین خواهید دید که بارها و بارها در مقالات علمی، وبلاگ‌ها و غیره با MNIST روبرو می‌شوید."
      ]
    },
    {
      "cell_type": "markdown",
      "metadata": {
        "id": "E2ZMxlWDZwQK"
      },
      "source": [
        "<p dir=\"rtl\" align=\"justify\">\n",
        "<font face=\"Vazir\">\n",
        "مجموعه ‌داده MNIST، به شکل مجموعه‌ای از چهار آرایه نام‌پای ، پیشاپیش در کراس بارگذاری شده است.\n",
        "</font>\n",
        "</p>"
      ]
    },
    {
      "cell_type": "code",
      "execution_count": null,
      "metadata": {
        "id": "Fl4IuXmvZwQL"
      },
      "outputs": [],
      "source": [
        "from keras.datasets import mnist\n",
        "\n",
        "(train_images, train_labels), (test_images, test_labels) = mnist.load_data()"
      ]
    },
    {
      "cell_type": "markdown",
      "metadata": {
        "id": "gTbRBTcqZwQM"
      },
      "source": [
        "<p dir=\"rtl\" align=\"justify\">\n",
        "<font face=\"homa\">\n",
        "train_images و train_labels از مجموعه آموزشی، داده‌هایی هستند که مدل یاد خواهد گرفت. سپس، مدل با مجموعه آزمایش  test_images و test_labels مورد آزمایش قرار خواهد گرفت.\n",
        "تصاویر به عنوان آرایه‌های نام‌پای کدگذاری می‌شوند و برچسب‌ها آرایه‌ا‌ی از ارقام هستند که دامنه‌شان از صفر تا ۹ است. تصاویر و برچسب‌ها یک‌به‌یک با همدیگر مطابقت دارند.\n",
        "<br><br>\n",
        "داده‌های آموزشی به شکل زیر می‌باشند:"
      ]
    },
    {
      "cell_type": "code",
      "execution_count": null,
      "metadata": {
        "colab": {
          "base_uri": "https://localhost:8080/"
        },
        "id": "qZhahCf1ZwQM",
        "outputId": "218e8ae5-16fe-4d64-86df-2a40afe9e6c2"
      },
      "outputs": [
        {
          "data": {
            "text/plain": [
              "(60000, 28, 28)"
            ]
          },
          "execution_count": 3,
          "metadata": {},
          "output_type": "execute_result"
        }
      ],
      "source": [
        "train_images.shape"
      ]
    },
    {
      "cell_type": "code",
      "execution_count": null,
      "metadata": {
        "colab": {
          "base_uri": "https://localhost:8080/"
        },
        "id": "5XfJlzKvZwQN",
        "outputId": "34f61a75-147e-4fc7-985d-b0454fca8b28"
      },
      "outputs": [
        {
          "data": {
            "text/plain": [
              "60000"
            ]
          },
          "execution_count": 4,
          "metadata": {},
          "output_type": "execute_result"
        }
      ],
      "source": [
        "len(train_labels)"
      ]
    },
    {
      "cell_type": "code",
      "execution_count": null,
      "metadata": {
        "colab": {
          "base_uri": "https://localhost:8080/"
        },
        "id": "hL0g_e6DZwQO",
        "outputId": "f0afb040-ba02-4187-d443-373d4b4b049b",
        "scrolled": false
      },
      "outputs": [
        {
          "data": {
            "text/plain": [
              "array([5, 0, 4, ..., 5, 6, 8], dtype=uint8)"
            ]
          },
          "execution_count": 5,
          "metadata": {},
          "output_type": "execute_result"
        }
      ],
      "source": [
        "train_labels"
      ]
    },
    {
      "cell_type": "markdown",
      "metadata": {
        "id": "hvvXOFTGZwQO"
      },
      "source": [
        "<p dir=\"rtl\" align=\"justify\">\n",
        "<font face=\"homa\">\n",
        "و داده‌های آزمایش بدین قرار هستند:"
      ]
    },
    {
      "cell_type": "code",
      "execution_count": null,
      "metadata": {
        "colab": {
          "base_uri": "https://localhost:8080/"
        },
        "id": "pjmaHbJnZwQP",
        "outputId": "5c8cc865-1c9a-498d-a412-acee7ccd4910"
      },
      "outputs": [
        {
          "data": {
            "text/plain": [
              "(10000, 28, 28)"
            ]
          },
          "execution_count": 6,
          "metadata": {},
          "output_type": "execute_result"
        }
      ],
      "source": [
        "test_images.shape"
      ]
    },
    {
      "cell_type": "code",
      "execution_count": null,
      "metadata": {
        "colab": {
          "base_uri": "https://localhost:8080/"
        },
        "id": "ddO8WVhCZwQQ",
        "outputId": "f7ca8a81-fe1e-49ab-e9ae-b5537b4fd97b"
      },
      "outputs": [
        {
          "data": {
            "text/plain": [
              "10000"
            ]
          },
          "execution_count": 7,
          "metadata": {},
          "output_type": "execute_result"
        }
      ],
      "source": [
        "len(test_labels)"
      ]
    },
    {
      "cell_type": "code",
      "execution_count": null,
      "metadata": {
        "colab": {
          "base_uri": "https://localhost:8080/"
        },
        "id": "rnH0v6qyZwQQ",
        "outputId": "1a856d96-88ef-4bd4-d5c2-474649e8422c"
      },
      "outputs": [
        {
          "data": {
            "text/plain": [
              "array([7, 2, 1, ..., 4, 5, 6], dtype=uint8)"
            ]
          },
          "execution_count": 8,
          "metadata": {},
          "output_type": "execute_result"
        }
      ],
      "source": [
        "test_labels"
      ]
    },
    {
      "cell_type": "markdown",
      "metadata": {
        "id": "920QcqhSZwQQ"
      },
      "source": [
        "<p dir=\"rtl\" align=\"justify\">\n",
        "<font face=\"homa\">\n",
        "روند کار بدین شکل خواهد بود: ابتدا، داده‌های آموزشی را به عنوان ورودی به شبکه عصبی خواهیم داد؛ train_images و train_labels. سپس، شبکه ارتباط تصاویر و برچسب‌ها به همدیگر را یاد خواهد گرفت. نهایتاً، از شبکه خواهیم خواست تا پیش‌بینی‌هایی را برای test_images تولید کند و همخوانی یا عدم همخوانی این پیش‌بینی‌ها با برچسب‌های test_labels را بررسی خواهیم کرد.\n",
        "<br><br>\n",
        "حال می‌خواهیم شبکه را بسازیم. مجدداً به خاطر داشته باشید که هنوز از شما انتظار نمی‌رود که همه مسائل این مثال را درک کنید."
      ]
    },
    {
      "cell_type": "code",
      "execution_count": null,
      "metadata": {
        "collapsed": true,
        "id": "pLUfNkdAZwQR"
      },
      "outputs": [],
      "source": [
        "from keras import models\n",
        "from keras import layers\n",
        "\n",
        "network = models.Sequential()\n",
        "network.add(layers.Dense(512, activation='relu', input_shape=(28 * 28,)))\n",
        "network.add(layers.Dense(10, activation='softmax'))\n"
      ]
    },
    {
      "cell_type": "markdown",
      "metadata": {
        "id": "svf6Pb0bZwQR"
      },
      "source": [
        "<p dir=\"rtl\" align=\"justify\">\n",
        "<font face=\"homa\">\n",
        "اصلی‌ترین بلوک سازنده شبکه‌های عصبی، لایه است. لایه، عبارت است از ماژول پردازش داده‌ها که می‌توان آن‌ را فیلتر داده‌ها دانست. داده‌ها وارد شبکه شده و به شکل مناسب‌تری از آن خارج می‌شوند. بالأخص، لایه‌ها از داده‌های وارد شده بازنمایی‌ها  را استخراج می‌کنند (در بهترین حالت، بازنمایی‌هایی که برای مسئله موردنظر ما معنادارتر هستند). یادگیری عمیق عمدتاً شامل به هم پیوستن لایه‌های ساده‌ای است که نوعی عصاره‌گیری مرحله‌به‌مرحله  را اجرا خواهند کرد. مدل یادگیری عمیق شبیه یک غربال برای پردازش داده‌هاست، لایه‌ها به عنوان فیلترهای داده‌ای عمل می‌کنند که رفته‌رفته پالایش می‌شوند.\n",
        "<br><br>\n",
        "در اینجا، شبکه ما متشکل از دولایه متراکم  متوالی است، اتصال بین این لایه‌ها متراکم است و از این رو لایه‌های تمام متصل  نیز نامیده می‌شوند دومین (آخرین) لایه، یک‌لایه با ۱۰-خروجی است که سافت‌مکس  نامیده می‌شود، یعنی آرایه‌ای با ۱۰ امتیاز احتمال (که مجموعشان برابر یک است) را باز خواهد گرداند. هر امتیاز، عبارت از احتمالی خواهد بود که بیانگر احتمال تعلق تصویر مورد نظر به یکی از کلاس‌های ۱۰ رقمی ما را نشان می‌دهد.\n",
        "<br><br>\n",
        "به‌منظور آماده کردن شبکه برای آموزش، باید سه مورد زیر را به عنوان بخشی از مرحله کامپایل  در نظر بگیریم:\n",
        "<br>\n",
        "\n",
        "<ul dir=\"rtl\">\n",
        "  <li>تابع هزینه: شبکه چگونه خواهد توانست عملکرد خود در مورد داده‌های آموزشی را ارزیابی نماید و بدین ترتیب چگونه خواهد توانست خودش را به مسیر درست هدایت کند.</li>\n",
        "</ul>\n",
        "\n",
        "<ul dir=\"rtl\">\n",
        "  <li>\tبهینه‌ساز: مکانیسمی است که شبکه به ‌واسطه آن خود را به‌روز خواهد کرد. به‌روزرسانی بر مبنای تابع هزینه و داده‌هایی است که شبکه به عنوان ورودی دریافت می‌کند.</li>\n",
        "</ul>\n",
        "\n",
        "<ul dir=\"rtl\">\n",
        "  <li>\tمعیار‌هایی که در طول آموزش و آزمایش ثبت می‌شوند: در اینجا، تنها معیار دقت را مورد استفاده قرار می‌دهیم (تعداد تصاویری که به‌ درستی دسته‌بندی شده‌اند).</li>\n",
        "</ul>\n",
        "\n",
        "<p dir=\"rtl\" align=\"justify\">\n",
        "<font face=\"Vazir\">\n",
        "هدف دقیق تابع هزینه و بهینه‌ساز در دو فصل بعدی کاملاً روشن خواهد شد."
      ]
    },
    {
      "cell_type": "code",
      "execution_count": null,
      "metadata": {
        "collapsed": true,
        "id": "KrkUlw5LZwQS"
      },
      "outputs": [],
      "source": [
        "network.compile(optimizer='rmsprop',\n",
        "                loss='categorical_crossentropy',\n",
        "                metrics=['accuracy'])"
      ]
    },
    {
      "cell_type": "markdown",
      "metadata": {
        "id": "qTZPHGtwZwQS"
      },
      "source": [
        "<p dir=\"rtl\" align=\"justify\">\n",
        "<font face=\"homa\">\n",
        "قبل از آموزش، داده‌ها پیش‌پردازش می‌شوند؛ یعنی شکل آن‌ها به صورتی تغییر داده می‌شود که شبکه انتظارش را دارد و نیز مقادیر آن به ‌گونه‌ای مقیاس بندی می‌شود که در بازه [0,1] قرار بگیرند. به عنوان مثال، تصاویر آموزشی ما قبلاً در آرایه‌ای به شکل (28 ,28 ,60000) و نوع unit8 و با مقادیری در بازه [0,255] ذخیره شده بودند. ما آن‌ها را به صورت آرایه float32 به شکل (28*28 ,60000) با مقادیر بین 0 و 1 تبدیل می‌کنیم."
      ]
    },
    {
      "cell_type": "code",
      "execution_count": null,
      "metadata": {
        "collapsed": true,
        "id": "4IUkwG9sZwQS"
      },
      "outputs": [],
      "source": [
        "train_images = train_images.reshape((60000, 28 * 28))\n",
        "train_images = train_images.astype('float32') / 255\n",
        "\n",
        "test_images = test_images.reshape((10000, 28 * 28))\n",
        "test_images = test_images.astype('float32') / 255"
      ]
    },
    {
      "cell_type": "markdown",
      "metadata": {
        "id": "ANzUDqYBZwQT"
      },
      "source": [
        "<p dir=\"rtl\" align=\"justify\">\n",
        "<font face=\"homa\">\n",
        "همچنین، باید برچسب‌ها را بر اساس دسته‌ای که به آن تعلق دارند کدگذاری کنیم؛ این گام را در فصل ۳ توضیح خواهیم داد."
      ]
    },
    {
      "cell_type": "code",
      "execution_count": null,
      "metadata": {
        "colab": {
          "base_uri": "https://localhost:8080/"
        },
        "id": "kGF4HoElZwQT",
        "outputId": "21d1c522-227d-46d8-9568-aab95e657f2e"
      },
      "outputs": [
        {
          "data": {
            "text/plain": [
              "array([[0., 0., 0., ..., 0., 0., 0.],\n",
              "       [1., 0., 0., ..., 0., 0., 0.],\n",
              "       [0., 0., 0., ..., 0., 0., 0.],\n",
              "       ...,\n",
              "       [0., 0., 0., ..., 0., 0., 0.],\n",
              "       [0., 0., 0., ..., 0., 0., 0.],\n",
              "       [0., 0., 0., ..., 0., 1., 0.]], dtype=float32)"
            ]
          },
          "execution_count": 12,
          "metadata": {},
          "output_type": "execute_result"
        }
      ],
      "source": [
        "from tensorflow.keras.utils import to_categorical\n",
        "\n",
        "train_labels = to_categorical(train_labels)\n",
        "test_labels = to_categorical(test_labels)\n",
        "train_labels"
      ]
    },
    {
      "cell_type": "markdown",
      "metadata": {
        "id": "Ywe5p7spZwQT"
      },
      "source": [
        "<p dir=\"rtl\" align=\"justify\">\n",
        "<font face=\"homa\">\n",
        "حال آماده آموزش شبکه هستیم. در کراس آموزش از طریق فراخوانی متد fit صورت می‌گیرد. ما مدل را براساس داده‌های آموزشی‌اش برازش  می‌کنیم:"
      ]
    },
    {
      "cell_type": "code",
      "execution_count": null,
      "metadata": {
        "colab": {
          "base_uri": "https://localhost:8080/"
        },
        "id": "CAfT4OXvZwQU",
        "outputId": "e46cba1c-4711-43e2-a022-d5ec8c0d9ffc"
      },
      "outputs": [
        {
          "name": "stdout",
          "output_type": "stream",
          "text": [
            "Epoch 1/5\n",
            "469/469 [==============================] - 3s 5ms/step - loss: 0.2552 - accuracy: 0.9253\n",
            "Epoch 2/5\n",
            "469/469 [==============================] - 3s 6ms/step - loss: 0.1027 - accuracy: 0.9701\n",
            "Epoch 3/5\n",
            "469/469 [==============================] - 2s 5ms/step - loss: 0.0683 - accuracy: 0.9794\n",
            "Epoch 4/5\n",
            "469/469 [==============================] - 2s 5ms/step - loss: 0.0497 - accuracy: 0.9848\n",
            "Epoch 5/5\n",
            "469/469 [==============================] - 1s 3ms/step - loss: 0.0369 - accuracy: 0.9892\n"
          ]
        },
        {
          "data": {
            "text/plain": [
              "<keras.callbacks.History at 0x7f62240c8710>"
            ]
          },
          "execution_count": 13,
          "metadata": {},
          "output_type": "execute_result"
        }
      ],
      "source": [
        "network.fit(train_images, train_labels, epochs=5, batch_size=128)"
      ]
    },
    {
      "cell_type": "markdown",
      "metadata": {
        "id": "ZdDP2YhjZwQU"
      },
      "source": [
        "<p dir=\"rtl\" align=\"justify\">\n",
        "<font face=\"homa\">\n",
        "دو کمیت در طول آموزش نمایش داده می‌شوند: خطا و دقت شبکه روی داده‌های آموزشی. \n",
        "<br><br>\n",
        "ما به‌ سرعت به دقت ۹۸۹/. (۹۸.۹٪) در داده‌های آموزشی رسیدیم. اکنون اجازه دهید که مدل را در مجموعه آزمایش نیز بررسی کنیم:"
      ]
    },
    {
      "cell_type": "code",
      "execution_count": null,
      "metadata": {
        "colab": {
          "base_uri": "https://localhost:8080/"
        },
        "id": "wqILoUCiZwQU",
        "outputId": "8c35e9fd-5e5e-47a5-9cf2-793068472eac"
      },
      "outputs": [
        {
          "name": "stdout",
          "output_type": "stream",
          "text": [
            "313/313 [==============================] - 1s 2ms/step - loss: 0.0616 - accuracy: 0.9820\n"
          ]
        }
      ],
      "source": [
        "test_loss, test_acc = network.evaluate(test_images, test_labels)"
      ]
    },
    {
      "cell_type": "code",
      "execution_count": null,
      "metadata": {
        "colab": {
          "base_uri": "https://localhost:8080/"
        },
        "id": "e8kRoGAKZwQV",
        "outputId": "7ab5f86e-88ed-4933-cfb0-18e718236e8a"
      },
      "outputs": [
        {
          "name": "stdout",
          "output_type": "stream",
          "text": [
            "test_acc: 0.9819999933242798\n"
          ]
        }
      ],
      "source": [
        "print('test_acc:', test_acc)"
      ]
    },
    {
      "cell_type": "markdown",
      "metadata": {
        "id": "dlXEReMsZwQV"
      },
      "source": [
        "<p dir=\"rtl\" align=\"justify\">\n",
        "<font face=\"homa\">\n",
        "میزان دقت مجموعه آزمایش ۹۷.۹٪ می‌شود که خیلی کمتر از میزان دقت مجموعه آموزش است. این شکاف بین دقت آموزش و دقت آزمایش نمونه‌ای از بیش برازش است؛ یعنی گویای این واقعیت است که مدل‌های یادگیری ماشین روی ‌داده‌های جدید، نسبت به داده‌های آموزشی خودشان، عملکرد بدتری دارند. بیش برازش  عنوانی مهم است که در فصل ۳ در مورد آن بحث شده است.\n",
        "<br><br>\n",
        "در مثال اول دیدیم که چگونه می‌توان برای دسته‌بندی ارقام دست‌نوشته در کمتر از ۲۰ خط کد پایتون، یک شبکه عصبی ساخته و آن را آموزش داد. در فصل بعدی، هر کدی که به صورت گذرا اینجا مرور کردیم، به ‌تفصیل بیان خواهیم کرد و همه آنچه را که در پشت پرده‌ می‌گذرد به طور کامل توضیح خواهیم داد. مطالبی که در فصل بعدی یاد خواهید گرفت عبارت‌ هستند از: تنسورها که ذخیره کننده داده‌ها بوده و به عنوان ورودی به شبکه ارسال می‌شوند؛ عملیات تنسورها که لایه‌ها از آن ساخته‌شده‌اند؛ و گرادیان نزولی که امکان یادگیری از مثال‌های آموزشی را برای شبکه شما ممکن می‌سازد."
      ]
    }
  ],
  "metadata": {
    "accelerator": "GPU",
    "colab": {
      "collapsed_sections": [],
      "name": "2_1_a_first_look_at_a_neural_network.ipynb",
      "provenance": [],
      "toc_visible": true
    },
    "gpuClass": "standard",
    "kernelspec": {
      "display_name": "Python 3",
      "language": "python",
      "name": "python3"
    },
    "language_info": {
      "codemirror_mode": {
        "name": "ipython",
        "version": 3
      },
      "file_extension": ".py",
      "mimetype": "text/x-python",
      "name": "python",
      "nbconvert_exporter": "python",
      "pygments_lexer": "ipython3",
      "version": "3.8.8"
    },
    "vscode": {
      "interpreter": {
        "hash": "5b3ded1ccb95c1d9bd405e7b823d9e85424cde40fbb5985eb47e999ef50e15b4"
      }
    }
  },
  "nbformat": 4,
  "nbformat_minor": 0
}