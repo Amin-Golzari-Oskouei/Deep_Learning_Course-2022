{
  "cells": [
    {
      "cell_type": "code",
      "execution_count": 6,
      "metadata": {
        "colab": {
          "base_uri": "https://localhost:8080/",
          "height": 35
        },
        "id": "9pPSyqRuHp4h",
        "outputId": "b7b137e6-5807-4c75-ca70-d070129f5c7a"
      },
      "outputs": [
        {
          "output_type": "execute_result",
          "data": {
            "text/plain": [
              "'2.9.0'"
            ],
            "application/vnd.google.colaboratory.intrinsic+json": {
              "type": "string"
            }
          },
          "metadata": {},
          "execution_count": 6
        }
      ],
      "source": [
        "import keras\n",
        "keras.__version__"
      ]
    },
    {
      "cell_type": "markdown",
      "source": [
        "<p dir=\"rtl\" align=\"right\">\n",
        "<font size=\"+2\" face=\"homa\">\n",
        "  <b>\n",
        "مقدمه‌ای بر شبکه‌های کانولوشنی\n",
        "  <br><br>\n",
        "  <font size=\"+1\" face=\"homa\">\n",
        "  فصل ۵ قسمت ۱ \n",
        "  </b>\n",
        "\n",
        "<hr>\n",
        "\n",
        "<p dir=\"rtl\" align=\"justify\">\n",
        "<font face=\"homa\">\n",
        "در ابتدا، نگاه عملی به یک مثال شبکه کانولوشنی ساده خواهیم داشت. در این مثال از شبکه کانولوشنی برای دسته‌بندی ارقام MNIST استفاده می‌شود؛ کاری که در فصل 2 با شبکه تمام متصل (Dense) انجام دادیم (دقت آزمایش ما 8/97 درصد بود). با وجود ابتدایی بودن شبکه کانولوشنی، دقت آن چشم‌گیرتر از مدل تمام متصل -که در فصل 2 مشاهده کردیم- خواهد بود.\n",
        "<br>\n",
        "  <b>\n",
        "مجموعه ‌داده MNIST\n",
        "  </b>\n",
        "<br>\n",
        "کد زیر ساختار یک شبکه کانولوشنی پایه را به شما نشان می‌دهد. این شبکه پشته‌ای از لایه‌های conv2D و MaxPooling2D است..\n",
        "<br>\n",
        "موضوع مهم، شکل تنسورهای ورودی به شبکه کانولوشنی است (image_height, image_width, image_channels) (که حاوی بعد دسته نیست). در این مورد، پیکربندی شبکه کانولوشنی به صورتی خواهد بود که ورودی‌هایی را با اندازه (28,28,1) پردازش کند که اندازه تصاویر MNIST است.\n",
        " <br>"
      ],
      "metadata": {
        "id": "q2ijnXvlIMkw"
      }
    },
    {
      "cell_type": "code",
      "execution_count": 7,
      "metadata": {
        "id": "I6CCYf44Hp4s"
      },
      "outputs": [],
      "source": [
        "from keras import layers\n",
        "from keras import models\n",
        "\n",
        "model = models.Sequential()\n",
        "model.add(layers.Conv2D(32, (3, 3), activation='relu', input_shape=(28, 28, 1)))\n",
        "model.add(layers.MaxPooling2D((2, 2)))\n",
        "model.add(layers.Conv2D(64, (3, 3), activation='relu'))\n",
        "model.add(layers.MaxPooling2D((2, 2)))\n",
        "model.add(layers.Conv2D(64, (3, 3), activation='relu'))"
      ]
    },
    {
      "cell_type": "markdown",
      "source": [
        "<p dir=\"rtl\" align=\"justify\">\n",
        "<font face=\"homa\">\n",
        "حال می‌خواهیم معماری شبکه کانولوشنی را تا اینجای کار نشان دهیم:\n",
        "<br><br>"
      ],
      "metadata": {
        "id": "TOHh_MJjJu8u"
      }
    },
    {
      "cell_type": "code",
      "execution_count": 8,
      "metadata": {
        "colab": {
          "base_uri": "https://localhost:8080/"
        },
        "id": "54LlujEkHp4w",
        "outputId": "01f8fe62-bd69-48de-c57a-c6289d1e3634"
      },
      "outputs": [
        {
          "output_type": "stream",
          "name": "stdout",
          "text": [
            "Model: \"sequential_1\"\n",
            "_________________________________________________________________\n",
            " Layer (type)                Output Shape              Param #   \n",
            "=================================================================\n",
            " conv2d_3 (Conv2D)           (None, 26, 26, 32)        320       \n",
            "                                                                 \n",
            " max_pooling2d_2 (MaxPooling  (None, 13, 13, 32)       0         \n",
            " 2D)                                                             \n",
            "                                                                 \n",
            " conv2d_4 (Conv2D)           (None, 11, 11, 64)        18496     \n",
            "                                                                 \n",
            " max_pooling2d_3 (MaxPooling  (None, 5, 5, 64)         0         \n",
            " 2D)                                                             \n",
            "                                                                 \n",
            " conv2d_5 (Conv2D)           (None, 3, 3, 64)          36928     \n",
            "                                                                 \n",
            "=================================================================\n",
            "Total params: 55,744\n",
            "Trainable params: 55,744\n",
            "Non-trainable params: 0\n",
            "_________________________________________________________________\n"
          ]
        }
      ],
      "source": [
        "model.summary()"
      ]
    },
    {
      "cell_type": "markdown",
      "source": [
        "<p dir=\"rtl\" align=\"justify\">\n",
        "<font face=\"homa\">\n",
        "می‌توان دید که خروجی هر لایه Conv2D و MAXPooling2D یک تنسور سه بعدی با شکل (height, width, channels) است. با پیشروی در عمق شبکه، ابعاد ارتفاع و عرض کوچک‌تر می‌شوند. تعداد کانال‌ها، اولین آرگومان لایه Conv2D است (32 یا 64).\n",
        "<br>\n",
        "مرحله بعد وارد کردن آخرین تنسور خروجی (با ابعاد (64, 3, 3)) به دسته‌بند تمام متصل است که قبلاً با آن آشنا شدید: پشته‌ای از لایه‌های تمام متصل. این دسته‌بند¬ها، ورودی خود را به صورت بردار تک بعدی است، دریافت می‌کنند، در حالی که خروجی فعلی تنسور سه بعدی است. ابتدا باید خروجی‌های سه بعدی را به شکل مسطح درآورده و یک بعدی کنیم و سپس چند لایه Dense در ادامه اضافه کنیم.\n",
        "\n",
        "<br><br>"
      ],
      "metadata": {
        "id": "KT356HxCJ3Tm"
      }
    },
    {
      "cell_type": "code",
      "execution_count": 9,
      "metadata": {
        "collapsed": true,
        "id": "MtA3H7izHp4z"
      },
      "outputs": [],
      "source": [
        "model.add(layers.Flatten())\n",
        "model.add(layers.Dense(64, activation='relu'))\n",
        "model.add(layers.Dense(10, activation='softmax'))"
      ]
    },
    {
      "cell_type": "markdown",
      "source": [
        "<p dir=\"rtl\" align=\"justify\">\n",
        "<font face=\"homa\">\n",
        "دسته‌بندی با 10-خروجی را با استفاده از لایه نهایی با 10 خروجی و فعال‌سازی سافت مکس انجام خواهیم داد. حال شبکه به این شکل دیده می‌شود:\n",
        "<br><br>"
      ],
      "metadata": {
        "id": "kquTUSUnKDqW"
      }
    },
    {
      "cell_type": "code",
      "execution_count": 10,
      "metadata": {
        "colab": {
          "base_uri": "https://localhost:8080/"
        },
        "id": "Y7d_t11cHp41",
        "outputId": "c1f59f46-443d-4e57-828a-a62af888102a"
      },
      "outputs": [
        {
          "output_type": "stream",
          "name": "stdout",
          "text": [
            "Model: \"sequential_1\"\n",
            "_________________________________________________________________\n",
            " Layer (type)                Output Shape              Param #   \n",
            "=================================================================\n",
            " conv2d_3 (Conv2D)           (None, 26, 26, 32)        320       \n",
            "                                                                 \n",
            " max_pooling2d_2 (MaxPooling  (None, 13, 13, 32)       0         \n",
            " 2D)                                                             \n",
            "                                                                 \n",
            " conv2d_4 (Conv2D)           (None, 11, 11, 64)        18496     \n",
            "                                                                 \n",
            " max_pooling2d_3 (MaxPooling  (None, 5, 5, 64)         0         \n",
            " 2D)                                                             \n",
            "                                                                 \n",
            " conv2d_5 (Conv2D)           (None, 3, 3, 64)          36928     \n",
            "                                                                 \n",
            " flatten (Flatten)           (None, 576)               0         \n",
            "                                                                 \n",
            " dense (Dense)               (None, 64)                36928     \n",
            "                                                                 \n",
            " dense_1 (Dense)             (None, 10)                650       \n",
            "                                                                 \n",
            "=================================================================\n",
            "Total params: 93,322\n",
            "Trainable params: 93,322\n",
            "Non-trainable params: 0\n",
            "_________________________________________________________________\n"
          ]
        }
      ],
      "source": [
        "model.summary()"
      ]
    },
    {
      "cell_type": "markdown",
      "source": [
        "<p dir=\"rtl\" align=\"justify\">\n",
        "<font face=\"homa\">\n",
        "همانطور که مشاهده می‌کنید، خروجی‌های (64, 3, 3) قبل از وارد شدن به دو لایه Dense به‌صورت بردارهایی با شکل (, 576) مسطح شده‌اند.\n",
        "<br>\n",
        "حال می‌خواهیم شبکه کانولوشنی را بروی ارقام MNIST آموزش دهیم. بسیاری از کدهای مثال MNIST در فصل 2 را مجدداً به کار خواهیم برد.\n",
        "<br>"
      ],
      "metadata": {
        "id": "o72uhRINKMcu"
      }
    },
    {
      "cell_type": "code",
      "execution_count": 11,
      "metadata": {
        "colab": {
          "base_uri": "https://localhost:8080/"
        },
        "id": "jEc_PXIEHp44",
        "outputId": "de67e10b-9535-4227-e21a-b8c267de4ace"
      },
      "outputs": [
        {
          "output_type": "stream",
          "name": "stdout",
          "text": [
            "Downloading data from https://storage.googleapis.com/tensorflow/tf-keras-datasets/mnist.npz\n",
            "11490434/11490434 [==============================] - 0s 0us/step\n"
          ]
        }
      ],
      "source": [
        "from keras.datasets import mnist\n",
        "from keras.utils import to_categorical\n",
        "\n",
        "(train_images, train_labels), (test_images, test_labels) = mnist.load_data()\n",
        "\n",
        "train_images = train_images.reshape((60000, 28, 28, 1))\n",
        "train_images = train_images.astype('float32') / 255\n",
        "\n",
        "test_images = test_images.reshape((10000, 28, 28, 1))\n",
        "test_images = test_images.astype('float32') / 255\n",
        "\n",
        "train_labels = to_categorical(train_labels)\n",
        "test_labels = to_categorical(test_labels)"
      ]
    },
    {
      "cell_type": "code",
      "execution_count": 12,
      "metadata": {
        "colab": {
          "base_uri": "https://localhost:8080/"
        },
        "id": "PJhAEImoHp46",
        "outputId": "eaf35ab3-9a85-4fdd-b976-777861693069"
      },
      "outputs": [
        {
          "output_type": "stream",
          "name": "stdout",
          "text": [
            "Epoch 1/5\n",
            "938/938 [==============================] - 61s 64ms/step - loss: 0.1689 - accuracy: 0.9467\n",
            "Epoch 2/5\n",
            "938/938 [==============================] - 54s 57ms/step - loss: 0.0483 - accuracy: 0.9846\n",
            "Epoch 3/5\n",
            "938/938 [==============================] - 55s 59ms/step - loss: 0.0336 - accuracy: 0.9896\n",
            "Epoch 4/5\n",
            "938/938 [==============================] - 55s 58ms/step - loss: 0.0242 - accuracy: 0.9922\n",
            "Epoch 5/5\n",
            "938/938 [==============================] - 53s 56ms/step - loss: 0.0200 - accuracy: 0.9940\n"
          ]
        },
        {
          "output_type": "execute_result",
          "data": {
            "text/plain": [
              "<keras.callbacks.History at 0x7f8710f30190>"
            ]
          },
          "metadata": {},
          "execution_count": 12
        }
      ],
      "source": [
        "model.compile(optimizer='rmsprop',\n",
        "              loss='categorical_crossentropy',\n",
        "              metrics=['accuracy'])\n",
        "model.fit(train_images, train_labels, epochs=5, batch_size=64)"
      ]
    },
    {
      "cell_type": "markdown",
      "source": [
        "<p dir=\"rtl\" align=\"justify\">\n",
        "<font face=\"homa\">\n",
        "برای ارزیابی مدل روی نمونه‌های آزمایش:\n",
        "<br><br>"
      ],
      "metadata": {
        "id": "ZUxubTK2KX_N"
      }
    },
    {
      "cell_type": "code",
      "execution_count": 13,
      "metadata": {
        "colab": {
          "base_uri": "https://localhost:8080/"
        },
        "id": "81X61d8GHp48",
        "outputId": "70fedca8-f927-4b32-9282-4ecb3d1463d0"
      },
      "outputs": [
        {
          "output_type": "stream",
          "name": "stdout",
          "text": [
            "313/313 [==============================] - 4s 11ms/step - loss: 0.0302 - accuracy: 0.9903\n"
          ]
        }
      ],
      "source": [
        "test_loss, test_acc = model.evaluate(test_images, test_labels)"
      ]
    },
    {
      "cell_type": "code",
      "execution_count": 14,
      "metadata": {
        "colab": {
          "base_uri": "https://localhost:8080/"
        },
        "id": "lkpCcW9ZHp49",
        "outputId": "1fc9172e-04e3-4cf9-dbee-c0ec1233572d"
      },
      "outputs": [
        {
          "output_type": "execute_result",
          "data": {
            "text/plain": [
              "0.9902999997138977"
            ]
          },
          "metadata": {},
          "execution_count": 14
        }
      ],
      "source": [
        "test_acc"
      ]
    },
    {
      "cell_type": "markdown",
      "source": [
        "<p dir=\"rtl\" align=\"justify\">\n",
        "<font face=\"homa\">\n",
        "در حالی که دقت روی مجموعه داده آزمایش شبکه تمام متصل در فصل 2 برابر با 97/8 درصد بود، دقت شبکه کانولوشنی اولیه برابر با 99/3 درصد است: نرخ خطا را تا 68 درصد (نسبی) پایین آوردیم. بد نیست!\n",
        "<br>\n"
      ],
      "metadata": {
        "id": "CLjNQvJEKbmu"
      }
    }
  ],
  "metadata": {
    "kernelspec": {
      "display_name": "Python 3",
      "language": "python",
      "name": "python3"
    },
    "language_info": {
      "codemirror_mode": {
        "name": "ipython",
        "version": 3
      },
      "file_extension": ".py",
      "mimetype": "text/x-python",
      "name": "python",
      "nbconvert_exporter": "python",
      "pygments_lexer": "ipython3",
      "version": "3.8.8"
    },
    "colab": {
      "provenance": []
    }
  },
  "nbformat": 4,
  "nbformat_minor": 0
}