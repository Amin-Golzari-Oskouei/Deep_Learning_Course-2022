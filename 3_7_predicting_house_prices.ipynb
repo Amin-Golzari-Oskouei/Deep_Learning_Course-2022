{
  "cells": [
    {
      "cell_type": "code",
      "execution_count": 1,
      "metadata": {
        "colab": {
          "base_uri": "https://localhost:8080/",
          "height": 35
        },
        "id": "w7fpeHxY2hwD",
        "outputId": "73790032-0802-4a38-ba33-36ce8677cc38"
      },
      "outputs": [
        {
          "output_type": "execute_result",
          "data": {
            "text/plain": [
              "'2.8.0'"
            ],
            "application/vnd.google.colaboratory.intrinsic+json": {
              "type": "string"
            }
          },
          "metadata": {},
          "execution_count": 1
        }
      ],
      "source": [
        "import keras\n",
        "keras.__version__"
      ]
    },
    {
      "cell_type": "markdown",
      "source": [
        "<p dir=\"rtl\" align=\"right\">\n",
        "<font size=\"+2\" face=\"homa\">\n",
        "  <b>\n",
        "پیش‌بینی قیمت خانه‌ها: مثال رگرسیون\n",
        "  <br><br>\n",
        "  <font size=\"+1\" face=\"homa\">\n",
        "  فصل ۳ قسمت ۵ \n",
        "  </b>\n",
        "\n",
        "<hr>\n",
        "\n",
        "<p dir=\"rtl\" align=\"justify\">\n",
        "<font face=\"homa\">\n",
        "دو مثال قبلی، مسئله‌های دسته‌بندی بودند که هدف آن‌ها پیش‌بینی یک برچسب مشخص برای نمونه‌های ورودی بود. رگرسیون، نوع دیگری از مسائل یادگیری ماشین است که به جای پیش‌بینی یک برچسب گسسته، شامل پیش‌بینی یک مقدار پیوسته است. به عنوان مثال، پیش‌بینی دمای هوای فردا، با داده‌های هواشناختی یا پیش‌بینی زمان تکمیل یک پروژه نرم‌افزار با استفاده از مشخصات آن.\n",
        "<br>\n",
        "نکته: رگرسیون را با الگوریتم رگرسیون لجستیک اشتباه نگیرید. رگرسیون لجستیک، یک الگوریتم رگرسیون نیست بلکه الگوریتم دسته‌بندی است.\n",
        "<br>\n",
        "  <b>\n",
        "مجموعه ‌داده قیمت مسکن در شهر بوستون\n",
        "  </b>\n",
        "<br>\n",
        "با استفاده از داده‌های حومه شهر بوستون که متعلق به اواسط دهه 1970 است سعی خواهیم کرد قیمت متوسط مسکن را در این شهر پیش‌بینی کنیم. داده‌های این مجموعه، شامل ویژگی‌هایی همچون میزان جرم و جنایت، میزان مالیات محلی و غیره است. \n",
        "<br>\n",
        " مجموعه ‌داده¬ای که از آن استفاده می‌کنیم دو تفاوت جالب با دو مثال قبلی دارد. داده‌های آن نسبتاً کم‌تر هستند: تنها شامل 506 داده است که به 404 نمونه آموزشی و 102 نمونه آزمایش تقسیم‌ شده‌اند و هر ویژگی در نمونه‌های ورودی (به عنوان مثال، میزان جرم و جنایت) مقیاس متفاوتی دارد. به عنوان مثال، برخی از مقادیر به صورت درصد هستند و بین صفر و یک قرار می‌گیرند، برخی از مقادیر بین 1 تا 12، برخی بین صفر و 100 هستند.\n",
        "<br>\n",
        " حال باید داده‌ها را بررسی کنیم:"
      ],
      "metadata": {
        "id": "jH0iK8pI2yc4"
      }
    },
    {
      "cell_type": "code",
      "execution_count": 2,
      "metadata": {
        "collapsed": true,
        "colab": {
          "base_uri": "https://localhost:8080/"
        },
        "id": "w8MaiXHn2hwL",
        "outputId": "a0e29c81-caa7-4c46-b824-e97a9a8789e8"
      },
      "outputs": [
        {
          "output_type": "stream",
          "name": "stdout",
          "text": [
            "Downloading data from https://storage.googleapis.com/tensorflow/tf-keras-datasets/boston_housing.npz\n",
            "57344/57026 [==============================] - 0s 0us/step\n",
            "65536/57026 [==================================] - 0s 0us/step\n"
          ]
        }
      ],
      "source": [
        "from keras.datasets import boston_housing\n",
        "\n",
        "(train_data, train_targets), (test_data, test_targets) =  boston_housing.load_data()"
      ]
    },
    {
      "cell_type": "code",
      "execution_count": 3,
      "metadata": {
        "colab": {
          "base_uri": "https://localhost:8080/"
        },
        "id": "b2tKeHvf2hwM",
        "outputId": "ca4b93f5-cab3-4869-8000-06a8e1caac21"
      },
      "outputs": [
        {
          "output_type": "execute_result",
          "data": {
            "text/plain": [
              "(404, 13)"
            ]
          },
          "metadata": {},
          "execution_count": 3
        }
      ],
      "source": [
        "train_data.shape"
      ]
    },
    {
      "cell_type": "code",
      "execution_count": 4,
      "metadata": {
        "colab": {
          "base_uri": "https://localhost:8080/"
        },
        "id": "5-kowFB32hwM",
        "outputId": "4624cf1c-a4a8-44da-f201-2f2ca9252755"
      },
      "outputs": [
        {
          "output_type": "execute_result",
          "data": {
            "text/plain": [
              "(102, 13)"
            ]
          },
          "metadata": {},
          "execution_count": 4
        }
      ],
      "source": [
        "test_data.shape"
      ]
    },
    {
      "cell_type": "markdown",
      "source": [
        "<p dir=\"rtl\" align=\"justify\">\n",
        "<font face=\"homa\">\n",
        "همان‌طور که مشاهده می‌کنید، 404 نمونه آموزشی و 102 نمونه آزمایشی داریم که هرکدام 13 ویژگی عددی دارند؛ مانند سرانه میزان جرم و جنایت، تعداد متوسط اتاق‌ها در هر خانه، دسترسی به بزرگراه‌ها و غیره.\n",
        "<br>\n",
        "\n"
      ],
      "metadata": {
        "id": "7K4lvuEn3kcu"
      }
    },
    {
      "cell_type": "markdown",
      "metadata": {
        "id": "Kn2yjalK2hwN"
      },
      "source": [
        "1. Per capita crime rate.\n",
        "2. Proportion of residential land zoned for lots over 25,000 square feet.\n",
        "3. Proportion of non-retail business acres per town.\n",
        "4. Charles River dummy variable (= 1 if tract bounds river; 0 otherwise).\n",
        "5. Nitric oxides concentration (parts per 10 million).\n",
        "6. Average number of rooms per dwelling.\n",
        "7. Proportion of owner-occupied units built prior to 1940.\n",
        "8. Weighted distances to five Boston employment centres.\n",
        "9. Index of accessibility to radial highways.\n",
        "10. Full-value property-tax rate per $10,000.\n",
        "11. Pupil-teacher ratio by town.\n",
        "12. 1000 * (Bk - 0.63) ** 2 where Bk is the proportion of Black people by town.\n",
        "13. % lower status of the population."
      ]
    },
    {
      "cell_type": "code",
      "execution_count": 5,
      "metadata": {
        "colab": {
          "base_uri": "https://localhost:8080/"
        },
        "id": "r5PxN05q2hwP",
        "outputId": "9e79e659-2a33-4f4d-fd10-74e6d62159bf"
      },
      "outputs": [
        {
          "output_type": "execute_result",
          "data": {
            "text/plain": [
              "array([15.2, 42.3, 50. , 21.1, 17.7, 18.5, 11.3, 15.6, 15.6, 14.4, 12.1,\n",
              "       17.9, 23.1, 19.9, 15.7,  8.8, 50. , 22.5, 24.1, 27.5, 10.9, 30.8,\n",
              "       32.9, 24. , 18.5, 13.3, 22.9, 34.7, 16.6, 17.5, 22.3, 16.1, 14.9,\n",
              "       23.1, 34.9, 25. , 13.9, 13.1, 20.4, 20. , 15.2, 24.7, 22.2, 16.7,\n",
              "       12.7, 15.6, 18.4, 21. , 30.1, 15.1, 18.7,  9.6, 31.5, 24.8, 19.1,\n",
              "       22. , 14.5, 11. , 32. , 29.4, 20.3, 24.4, 14.6, 19.5, 14.1, 14.3,\n",
              "       15.6, 10.5,  6.3, 19.3, 19.3, 13.4, 36.4, 17.8, 13.5, 16.5,  8.3,\n",
              "       14.3, 16. , 13.4, 28.6, 43.5, 20.2, 22. , 23. , 20.7, 12.5, 48.5,\n",
              "       14.6, 13.4, 23.7, 50. , 21.7, 39.8, 38.7, 22.2, 34.9, 22.5, 31.1,\n",
              "       28.7, 46. , 41.7, 21. , 26.6, 15. , 24.4, 13.3, 21.2, 11.7, 21.7,\n",
              "       19.4, 50. , 22.8, 19.7, 24.7, 36.2, 14.2, 18.9, 18.3, 20.6, 24.6,\n",
              "       18.2,  8.7, 44. , 10.4, 13.2, 21.2, 37. , 30.7, 22.9, 20. , 19.3,\n",
              "       31.7, 32. , 23.1, 18.8, 10.9, 50. , 19.6,  5. , 14.4, 19.8, 13.8,\n",
              "       19.6, 23.9, 24.5, 25. , 19.9, 17.2, 24.6, 13.5, 26.6, 21.4, 11.9,\n",
              "       22.6, 19.6,  8.5, 23.7, 23.1, 22.4, 20.5, 23.6, 18.4, 35.2, 23.1,\n",
              "       27.9, 20.6, 23.7, 28. , 13.6, 27.1, 23.6, 20.6, 18.2, 21.7, 17.1,\n",
              "        8.4, 25.3, 13.8, 22.2, 18.4, 20.7, 31.6, 30.5, 20.3,  8.8, 19.2,\n",
              "       19.4, 23.1, 23. , 14.8, 48.8, 22.6, 33.4, 21.1, 13.6, 32.2, 13.1,\n",
              "       23.4, 18.9, 23.9, 11.8, 23.3, 22.8, 19.6, 16.7, 13.4, 22.2, 20.4,\n",
              "       21.8, 26.4, 14.9, 24.1, 23.8, 12.3, 29.1, 21. , 19.5, 23.3, 23.8,\n",
              "       17.8, 11.5, 21.7, 19.9, 25. , 33.4, 28.5, 21.4, 24.3, 27.5, 33.1,\n",
              "       16.2, 23.3, 48.3, 22.9, 22.8, 13.1, 12.7, 22.6, 15. , 15.3, 10.5,\n",
              "       24. , 18.5, 21.7, 19.5, 33.2, 23.2,  5. , 19.1, 12.7, 22.3, 10.2,\n",
              "       13.9, 16.3, 17. , 20.1, 29.9, 17.2, 37.3, 45.4, 17.8, 23.2, 29. ,\n",
              "       22. , 18. , 17.4, 34.6, 20.1, 25. , 15.6, 24.8, 28.2, 21.2, 21.4,\n",
              "       23.8, 31. , 26.2, 17.4, 37.9, 17.5, 20. ,  8.3, 23.9,  8.4, 13.8,\n",
              "        7.2, 11.7, 17.1, 21.6, 50. , 16.1, 20.4, 20.6, 21.4, 20.6, 36.5,\n",
              "        8.5, 24.8, 10.8, 21.9, 17.3, 18.9, 36.2, 14.9, 18.2, 33.3, 21.8,\n",
              "       19.7, 31.6, 24.8, 19.4, 22.8,  7.5, 44.8, 16.8, 18.7, 50. , 50. ,\n",
              "       19.5, 20.1, 50. , 17.2, 20.8, 19.3, 41.3, 20.4, 20.5, 13.8, 16.5,\n",
              "       23.9, 20.6, 31.5, 23.3, 16.8, 14. , 33.8, 36.1, 12.8, 18.3, 18.7,\n",
              "       19.1, 29. , 30.1, 50. , 50. , 22. , 11.9, 37.6, 50. , 22.7, 20.8,\n",
              "       23.5, 27.9, 50. , 19.3, 23.9, 22.6, 15.2, 21.7, 19.2, 43.8, 20.3,\n",
              "       33.2, 19.9, 22.5, 32.7, 22. , 17.1, 19. , 15. , 16.1, 25.1, 23.7,\n",
              "       28.7, 37.2, 22.6, 16.4, 25. , 29.8, 22.1, 17.4, 18.1, 30.3, 17.5,\n",
              "       24.7, 12.6, 26.5, 28.7, 13.3, 10.4, 24.4, 23. , 20. , 17.8,  7. ,\n",
              "       11.8, 24.4, 13.8, 19.4, 25.2, 19.4, 19.4, 29.1])"
            ]
          },
          "metadata": {},
          "execution_count": 5
        }
      ],
      "source": [
        "train_targets"
      ]
    },
    {
      "cell_type": "markdown",
      "source": [
        "<p dir=\"rtl\" align=\"justify\">\n",
        "<font face=\"homa\">\n",
        "قیمت‌ها عموماً بین 10 و 50 هزار دلار هستند. شایان ذکر است که قیمت‌ها مربوط به اواسط دهه 1970 هستند و بر اساس تورم تنظیم‌ نشده‌اند.\n",
        "<br>\n",
        "\n"
      ],
      "metadata": {
        "id": "3aql-ZrQ4lWl"
      }
    },
    {
      "cell_type": "markdown",
      "source": [
        "<p dir=\"rtl\" align=\"right\">\n",
        "<font size=\"+2\" face=\"homa\">\n",
        "  <b>\n",
        "آماده‌سازی داده‌ها \n",
        "  <br><br>\n",
        "  <font size=\"+1\" face=\"homa\">\n",
        "  </b>\n",
        "\n",
        "<hr>\n",
        "\n",
        "<p dir=\"rtl\" align=\"justify\">\n",
        "<font face=\"homa\">\n",
        "واردکردن مقادیری با دامنه‌های کاملاً متفاوت در شبکه‌های عصبی می‌تواند مشکل‌ساز باشد. شاید شبکه بتواند به طور خودکار با چنین داده‌های ناهمگنی سازگار شود، اما مشخصاً با این کار، یادگیری بسیار مشکل‌تر خواهد شد. بهترین و متداول‌ترین روش برخورد با چنین داده‌هایی انجام نرمال‌سازی مبتنی بر ویژگی است؛ از هر ویژگی نمونه‌های ورودی (یک ستون در ماتریس نمونه‌های ورودی)، میانگین آن ویژگی را تفریق کرده و به انحراف معیارش تقسیم می‌کنیم، بدین ترتیب ویژگی در حوالی صفر متمرکز شده و انحراف معیار برابر یک خواهد داشت. این کار به‌آسانی در نام‌پای قابل انجام است. \n"
      ],
      "metadata": {
        "id": "J6mREYfU4rZ-"
      }
    },
    {
      "cell_type": "code",
      "execution_count": 6,
      "metadata": {
        "collapsed": true,
        "id": "-ZTqi3WI2hwR"
      },
      "outputs": [],
      "source": [
        "mean = train_data.mean(axis=0)\n",
        "train_data -= mean\n",
        "std = train_data.std(axis=0)\n",
        "train_data /= std\n",
        "\n",
        "test_data -= mean\n",
        "test_data /= std"
      ]
    },
    {
      "cell_type": "markdown",
      "source": [
        "<p dir=\"rtl\" align=\"justify\">\n",
        "<font face=\"homa\">\n",
        "توجه داشته باشید که کمیت‌های مورد استفاده برای نرمال‌سازی داده‌های آزمایش با استفاده از داده‌های آموزشی محاسبه می‌شوند. در روند کار، حتی در مورد چیزهایی به‌سادگی نرمال‌سازی داده‌ها، هرگز نباید از کمیتی استفاده کنید که بر اساس داده‌های آزمایش محاسبه شده است. \n",
        "<br>\n",
        "\n"
      ],
      "metadata": {
        "id": "OhrD4QbV40e2"
      }
    },
    {
      "cell_type": "markdown",
      "source": [
        "<p dir=\"rtl\" align=\"right\">\n",
        "<font size=\"+2\" face=\"homa\">\n",
        "  <b>\n",
        "ساخت شبکه \n",
        "  <br><br>\n",
        "  <font size=\"+1\" face=\"homa\">\n",
        "  </b>\n",
        "\n",
        "<hr>\n",
        "\n",
        "<p dir=\"rtl\" align=\"justify\">\n",
        "<font face=\"homa\">\n",
        "به دلیل تعداد بسیار کم نمونه‌ها، از شبکه‌ای بسیار کوچک با دو لایه پنهان، هرکدام با 64 واحد، استفاده خواهیم کرد. به طورکلی، هرچه تعداد داده‌های آموزشی کمتر باشد، خطر بیش برازش بیشتر خواهد بود و استفاده از شبکه کوچک یکی از راه‌های اجتناب از بیش برازش است. \n"
      ],
      "metadata": {
        "id": "5khKkhxH47fE"
      }
    },
    {
      "cell_type": "code",
      "execution_count": 7,
      "metadata": {
        "collapsed": true,
        "id": "YwHf7rjf2hwS"
      },
      "outputs": [],
      "source": [
        "from keras import models\n",
        "from keras import layers\n",
        "\n",
        "def build_model():\n",
        "    # Because we will need to instantiate\n",
        "    # the same model multiple times,\n",
        "    # we use a function to construct it.\n",
        "    model = models.Sequential()\n",
        "    model.add(layers.Dense(64, activation='relu',\n",
        "                           input_shape=(train_data.shape[1],)))\n",
        "    model.add(layers.Dense(64, activation='relu'))\n",
        "    model.add(layers.Dense(1))\n",
        "    model.compile(optimizer='rmsprop', loss='mse', metrics=['mae'])\n",
        "    return model"
      ]
    },
    {
      "cell_type": "markdown",
      "source": [
        "<p dir=\"rtl\" align=\"justify\">\n",
        "<font face=\"homa\">\n",
        "لایه آخر شبکه، یک واحد داشته و بدون تابع فعال‌ساز است (یک‌لایه خطی خواهد بود). چنین رویکردی، روال معمول انجام رگرسیون است (رگرسیونی که در آن سعی داریم یک مقدار پیوسته را پیش‌بینی کنیم). استفاده از تابع فعال‌ساز، دامنه را محدود می‌سازد؛ به عنوان مثال، در صورتی که از تابع فعال‌سازی سیگموید برای لایه آخر استفاده کنیم، شبکه فقط پیش‌بینی مقادیر بین صفر و یک را یاد خواهد گرفت. در اینجا، به خاطر خطی بودن، آخرین لایه، شبکه می‌تواند آزادانه مقادیر را در هر دامنه‌ای پیش‌بینی کند.\n",
        "<br>\n",
        "توجه داشته باشید که شبکه را با تابع هزینه mse یا همان میانگین مربعات خطا کامپایل می‌کنیم. استفاده از این تابع هزینه برای مسائل رگرسیون متداول است. \n",
        "<br>\n",
        "همچنین، معیار جدیدی در طول آموزش گزارش می‌شود. میانگین خطای مطلق  (MAE) که میانگین قدر مطلق تفاضل بین پیش‌بینی‌ها و خروجی‌ها است، بدون اینکه به توان دو رسیده باشد. به عنوان مثال، میانگین خطای مطلق 5/0 در این مسئله بدین معناست که پیش‌بینی‌های ما به طور متوسط تا 500 دلار اشتباه هستند."
      ],
      "metadata": {
        "id": "xbypksHC5GWc"
      }
    },
    {
      "cell_type": "markdown",
      "source": [
        "<p dir=\"rtl\" align=\"right\">\n",
        "<font size=\"+2\" face=\"homa\">\n",
        "  <b>\n",
        "اعتبارسنجی رویکرد با استفاده از اعتبارسنجی K بخشی \n",
        "  <br><br>\n",
        "  <font size=\"+1\" face=\"homa\">\n",
        "  </b>\n",
        "\n",
        "<hr>\n",
        "\n",
        "<p dir=\"rtl\" align=\"justify\">\n",
        "<font face=\"homa\">\n",
        "</b>\n",
        "برای ارزیابی شبکه در حین تنظیم پارامترها (مانند تعداد تکرار‌های مورداستفاده برای آموزش)، همانند مثال قبل، می‌توان داده‌ها را به دو دسته آموزش و اعتبارسنجی تقسیم کرد؛ اما به دلیل تعداد کم داده‌ها، مجموعه اعتبارسنجی بسیار کوچک (به عنوان مثال، در حدود 10 مثال) خواهد بود. در نتیجه، بسته به توزیع داده‌ها در مجموعه‌های آموزش و اعتبارسنجی، ارقام به ‌دست‌ آمده از اعتبارسنجی بسیار متغیر خواهند بود؛ به عبارتی نتایج اعتبارسنجی، به دلیل وابستگی زیاد به مجموعه اعتبارسنجی واریانس بالایی خواهند داشت؛ بنابراین نتایج ارزیابی مدل قابلیت اطمینان بالایی نخواهند داشت.\n",
        "<p dir=\"rtl\" align=\"justify\">\n",
        "<font face=\"homa\">\n",
        "</b>\n",
        "بهترین روش در چنین موقعیتی استفاده از اعتبارسنجی متقابل K بخشی  است . این روش شامل تقسیم مجموعه ‌داده به K بخش است (معمولاً 4 یا 5) که در هر بار به ترتیب هریک از K بخش به عنوان مجموعه اعتبارسنجی انتخاب‌ شده و از بقیه مجموعه ‌داده برای آموزش شبکه استفاده می‌شود. بدین ترتیب، نتیجه نهایی اعتبارسنجی برابر با میانگین نتایج به ‌دست ‌آمده از K اعتبارسنجی خواهد بود. پیاده‌سازی مفهوم فوق بسیار ساده است:\n"
      ],
      "metadata": {
        "id": "zQSjaONy5Yjs"
      }
    },
    {
      "cell_type": "markdown",
      "source": [
        "<p dir=\"rtl\" align=\"justify\">\n",
        "<font face=\"homa\">\n",
        "لایه آخر شبکه، یک واحد داشته و بدون تابع فعال‌ساز است (یک‌لایه خطی خواهد بود). چنین رویکردی، روال معمول انجام رگرسیون است (رگرسیونی که در آن سعی داریم یک مقدار پیوسته را پیش‌بینی کنیم). استفاده از تابع فعال‌ساز، دامنه را محدود می‌سازد؛ به عنوان مثال، در صورتی که از تابع فعال‌سازی سیگموید برای لایه آخر استفاده کنیم، شبکه فقط پیش‌بینی مقادیر بین صفر و یک را یاد خواهد گرفت. در اینجا، به خاطر خطی بودن، آخرین لایه، شبکه می‌تواند آزادانه مقادیر را در هر دامنه‌ای پیش‌بینی کند.\n",
        "<br>\n",
        "توجه داشته باشید که شبکه را با تابع هزینه mse یا همان میانگین مربعات خطا کامپایل می‌کنیم. استفاده از این تابع هزینه برای مسائل رگرسیون متداول است. \n",
        "<br>\n",
        "همچنین، معیار جدیدی در طول آموزش گزارش می‌شود. میانگین خطای مطلق  (MAE) که میانگین قدر مطلق تفاضل بین پیش‌بینی‌ها و خروجی‌ها است، بدون اینکه به توان دو رسیده باشد. به عنوان مثال، میانگین خطای مطلق 5/0 در این مسئله بدین معناست که پیش‌بینی‌های ما به طور متوسط تا 500 دلار اشتباه هستند."
      ],
      "metadata": {
        "id": "7NsAnsNG6Nza"
      }
    },
    {
      "cell_type": "code",
      "execution_count": 8,
      "metadata": {
        "colab": {
          "base_uri": "https://localhost:8080/"
        },
        "id": "jMjiXXL42hwU",
        "outputId": "a5a4ada2-7e51-4bc0-c4fb-f1f0af41fbb0"
      },
      "outputs": [
        {
          "output_type": "stream",
          "name": "stdout",
          "text": [
            "processing fold # 0\n",
            "processing fold # 1\n",
            "processing fold # 2\n",
            "processing fold # 3\n"
          ]
        }
      ],
      "source": [
        "import numpy as np\n",
        "\n",
        "k = 4\n",
        "num_val_samples = len(train_data) // k\n",
        "num_epochs = 100\n",
        "all_scores = []\n",
        "for i in range(k):\n",
        "    print('processing fold #', i)\n",
        "    # Prepare the validation data: data from partition # k\n",
        "    val_data = train_data[i * num_val_samples: (i + 1) * num_val_samples]\n",
        "    val_targets = train_targets[i * num_val_samples: (i + 1) * num_val_samples]\n",
        "\n",
        "    # Prepare the training data: data from all other partitions\n",
        "    partial_train_data = np.concatenate(\n",
        "        [train_data[:i * num_val_samples],\n",
        "         train_data[(i + 1) * num_val_samples:]],\n",
        "        axis=0)\n",
        "    partial_train_targets = np.concatenate(\n",
        "        [train_targets[:i * num_val_samples],\n",
        "         train_targets[(i + 1) * num_val_samples:]],\n",
        "        axis=0)\n",
        "\n",
        "    # Build the Keras model (already compiled)\n",
        "    model = build_model()\n",
        "    # Train the model (in silent mode, verbose=0)\n",
        "    model.fit(partial_train_data, partial_train_targets,\n",
        "              epochs=num_epochs, batch_size=1, verbose=0)\n",
        "    # Evaluate the model on the validation data\n",
        "    val_mse, val_mae = model.evaluate(val_data, val_targets, verbose=0)\n",
        "    all_scores.append(val_mae)"
      ]
    },
    {
      "cell_type": "code",
      "execution_count": 9,
      "metadata": {
        "colab": {
          "base_uri": "https://localhost:8080/"
        },
        "id": "yrZiIvjg2hwU",
        "outputId": "349a9adb-8344-4a9a-c2cc-834b1fae32d8"
      },
      "outputs": [
        {
          "output_type": "execute_result",
          "data": {
            "text/plain": [
              "[2.155872344970703, 2.737171173095703, 2.8500094413757324, 2.6129889488220215]"
            ]
          },
          "metadata": {},
          "execution_count": 9
        }
      ],
      "source": [
        "all_scores"
      ]
    },
    {
      "cell_type": "code",
      "execution_count": 10,
      "metadata": {
        "colab": {
          "base_uri": "https://localhost:8080/"
        },
        "id": "3aud1ZRK2hwU",
        "outputId": "1890a0e0-1ccf-45c2-afc5-da9c069e8218"
      },
      "outputs": [
        {
          "output_type": "execute_result",
          "data": {
            "text/plain": [
              "2.58901047706604"
            ]
          },
          "metadata": {},
          "execution_count": 10
        }
      ],
      "source": [
        "np.mean(all_scores)"
      ]
    },
    {
      "cell_type": "markdown",
      "source": [
        "<p dir=\"rtl\" align=\"justify\">\n",
        "<font face=\"homa\">\n",
        "اجراهای مختلف، نتایج اعتبارسنجی متفاوتی را در بازه 6/2 تا 2/3 نشان می‌دهند. در صورتی که بعد از محاسبه میانگین به متوسط (0/3) می‌رسیم که معیار قابل‌اطمینانی در مقایسه با نتیجه هر یک از بخش‌ها است. همین اطمینان از نتیجه اعتبارسنجی، هدفی است که روش اعتبارسنجی متقابل K بخشی به دنبال آن است. در مورد این مسئله خاص، به طور متوسط تا 3000 دلار خطا داریم که با توجه به دامنه 10 تا 50 هزار دلاری قیمت‌ها، رقم قابل‌توجهی است.\n",
        "<br>\n",
        "حال می‌خواهیم شبکه را کمی بیشتر آموزش دهیم و تعداد تکرار را به 500 افزایش می‌دهیم. برای ثبت عملکرد مدل در هر تکرار، حلقه آموزش را اصلاح خواهیم کرد تا لگاریتم نتیجه اعتبارسنجی برای هر تکرار را ذخیره کنیم."
      ],
      "metadata": {
        "id": "Ptw4r6p_6Zn6"
      }
    },
    {
      "cell_type": "code",
      "execution_count": 11,
      "metadata": {
        "collapsed": true,
        "id": "7R1IsbgU2hwV"
      },
      "outputs": [],
      "source": [
        "from keras import backend as K\n",
        "\n",
        "# Some memory clean-up\n",
        "K.clear_session()"
      ]
    },
    {
      "cell_type": "code",
      "execution_count": 14,
      "metadata": {
        "colab": {
          "base_uri": "https://localhost:8080/"
        },
        "id": "pEaja3hs2hwV",
        "outputId": "c4e7d761-1dcb-49bb-bc2c-d454494db65a"
      },
      "outputs": [
        {
          "output_type": "stream",
          "name": "stdout",
          "text": [
            "processing fold # 0\n",
            "processing fold # 1\n",
            "processing fold # 2\n",
            "processing fold # 3\n"
          ]
        }
      ],
      "source": [
        "num_epochs = 500\n",
        "all_mae_histories = []\n",
        "for i in range(k):\n",
        "    print('processing fold #', i)\n",
        "    # Prepare the validation data: data from partition # k\n",
        "    val_data = train_data[i * num_val_samples: (i + 1) * num_val_samples]\n",
        "    val_targets = train_targets[i * num_val_samples: (i + 1) * num_val_samples]\n",
        "\n",
        "    # Prepare the training data: data from all other partitions\n",
        "    partial_train_data = np.concatenate(\n",
        "        [train_data[:i * num_val_samples],\n",
        "         train_data[(i + 1) * num_val_samples:]],\n",
        "        axis=0)\n",
        "    partial_train_targets = np.concatenate(\n",
        "        [train_targets[:i * num_val_samples],\n",
        "         train_targets[(i + 1) * num_val_samples:]],\n",
        "        axis=0)\n",
        "\n",
        "    # Build the Keras model (already compiled)\n",
        "    model = build_model()\n",
        "    # Train the model (in silent mode, verbose=0)\n",
        "    history = model.fit(partial_train_data, partial_train_targets,\n",
        "                        validation_data=(val_data, val_targets),\n",
        "                        epochs=num_epochs, batch_size=1, verbose=0)\n",
        "    mae_history = history.history['val_mae']\n",
        "    all_mae_histories.append(mae_history)"
      ]
    },
    {
      "cell_type": "markdown",
      "source": [
        "<p dir=\"rtl\" align=\"justify\">\n",
        "<font face=\"homa\">\n",
        "درنهایت می‌توان خطای MAE را برای هر تکرار و برای تمامی بخش‌ها محاسبه کرد.\n",
        "<br>\n"
      ],
      "metadata": {
        "id": "vloJ5qVk6g5a"
      }
    },
    {
      "cell_type": "code",
      "execution_count": 15,
      "metadata": {
        "collapsed": true,
        "id": "aGcNXprc2hwW"
      },
      "outputs": [],
      "source": [
        "average_mae_history = [\n",
        "    np.mean([x[i] for x in all_mae_histories]) for i in range(num_epochs)]"
      ]
    },
    {
      "cell_type": "markdown",
      "source": [
        "<p dir=\"rtl\" align=\"justify\">\n",
        "<font face=\"homa\">\n",
        "به نمودار آن در شکل توجه کنید. \n",
        "<br>\n"
      ],
      "metadata": {
        "id": "vhvu4b-46ug6"
      }
    },
    {
      "cell_type": "code",
      "execution_count": 16,
      "metadata": {
        "colab": {
          "base_uri": "https://localhost:8080/",
          "height": 282
        },
        "id": "2YEZiNtf2hwW",
        "outputId": "0964e1bc-7dc8-46ff-d111-c517e4734344"
      },
      "outputs": [
        {
          "output_type": "display_data",
          "data": {
            "text/plain": [
              "<Figure size 432x288 with 1 Axes>"
            ],
            "image/png": "[encoded data removed]"
          },
          "metadata": {
            "needs_background": "light"
          }
        }
      ],
      "source": [
        "import matplotlib.pyplot as plt\n",
        "\n",
        "plt.plot(range(1, len(average_mae_history) + 1), average_mae_history)\n",
        "plt.xlabel('Epochs')\n",
        "plt.ylabel('Validation MAE')\n",
        "plt.show()"
      ]
    },
    {
      "cell_type": "markdown",
      "source": [
        "<p dir=\"rtl\" align=\"justify\">\n",
        "<font face=\"homa\">\n",
        " به خاطر مقیاس نامناسب و تا حدودی بالا بودن واریانس، ممکن است درک نمودار کمی مشکل باشد. پس به صورت زیر عمل می‌کنیم:\n",
        "<br>\n",
        "*\t10 نقطه اول را که مقیاس‌ متفاوتی نسبت به بقیه منحنی دارند را حذف می‌کنیم.\n",
        "<br>\n",
        "*\tهر نقطه را با میانگین نمایی نقطه‌های قبلی جایگزین می‌کنیم تا منحنی یکدستی به دست بیاید.\n",
        "<br>"
      ],
      "metadata": {
        "id": "BY6MCPkZ60za"
      }
    },
    {
      "cell_type": "code",
      "execution_count": 17,
      "metadata": {
        "colab": {
          "base_uri": "https://localhost:8080/",
          "height": 283
        },
        "id": "AXJlPk8i2hwX",
        "outputId": "de7c0d7a-5fec-4fe2-8312-034dc67a12c1"
      },
      "outputs": [
        {
          "output_type": "display_data",
          "data": {
            "text/plain": [
              "<Figure size 432x288 with 1 Axes>"
            ],
            "image/png": "[encoded data removed]"
          },
          "metadata": {
            "needs_background": "light"
          }
        }
      ],
      "source": [
        "def smooth_curve(points, factor=0.9):\n",
        "  smoothed_points = []\n",
        "  for point in points:\n",
        "    if smoothed_points:\n",
        "      previous = smoothed_points[-1]\n",
        "      smoothed_points.append(previous * factor + point * (1 - factor))\n",
        "    else:\n",
        "      smoothed_points.append(point)\n",
        "  return smoothed_points\n",
        "\n",
        "smooth_mae_history = smooth_curve(average_mae_history[10:])\n",
        "\n",
        "plt.plot(range(1, len(smooth_mae_history) + 1), smooth_mae_history)\n",
        "plt.xlabel('Epochs')\n",
        "plt.ylabel('Validation MAE')\n",
        "plt.show()"
      ]
    },
    {
      "cell_type": "markdown",
      "source": [
        "<p dir=\"rtl\" align=\"justify\">\n",
        "<font face=\"homa\">\n",
        "بر اساس این نمودار، کاهش خطای MAE حاصل از اعتبارسنجی بعد از 80 تکرار به طور چشم‌گیری متوقف می‌شود. بعد از این نقطه، بیش‌برازش آغاز می‌شود.\n",
        "<br>\n",
        "بعد از اتمام تنظیم سایر پارامترهای مدل (علاوه بر تعداد تکرار‌ها، می‌توانید اندازه لایه‌های پنهان را نیز تنظیم کنید)، می‌توان بر اساس تمامی داده‌های آموزشی، مدل نهایی را با بهترین پارامترها آموزش داد و در نهایت عملکرد آن را روی داده‌های آزمایش سنجید."
      ],
      "metadata": {
        "id": "_wEAme6D7IwS"
      }
    },
    {
      "cell_type": "code",
      "execution_count": 18,
      "metadata": {
        "colab": {
          "base_uri": "https://localhost:8080/"
        },
        "id": "vYU8IeR72hwX",
        "outputId": "d553765d-38f3-4207-fbe4-3d03eacf27a6"
      },
      "outputs": [
        {
          "output_type": "stream",
          "name": "stdout",
          "text": [
            "4/4 [==============================] - 1s 163ms/step - loss: 18.8938 - mae: 2.6460\n"
          ]
        }
      ],
      "source": [
        "# Get a fresh, compiled model.\n",
        "model = build_model()\n",
        "# Train it on the entirety of the data.\n",
        "model.fit(train_data, train_targets,\n",
        "          epochs=80, batch_size=16, verbose=0)\n",
        "test_mse_score, test_mae_score = model.evaluate(test_data, test_targets)"
      ]
    },
    {
      "cell_type": "code",
      "execution_count": 19,
      "metadata": {
        "colab": {
          "base_uri": "https://localhost:8080/"
        },
        "id": "xlIZC4F52hwY",
        "outputId": "1da37e59-e30b-464c-9a61-ae4c40146a36"
      },
      "outputs": [
        {
          "output_type": "execute_result",
          "data": {
            "text/plain": [
              "2.6460440158843994"
            ]
          },
          "metadata": {},
          "execution_count": 19
        }
      ],
      "source": [
        "test_mae_score"
      ]
    },
    {
      "cell_type": "markdown",
      "source": [
        "<p dir=\"rtl\" align=\"justify\">\n",
        "<font face=\"homa\">\n",
        "هنوز تا دو هزار و 550 دلار خطا وجود دارد."
      ],
      "metadata": {
        "id": "9JdS74oV7TAh"
      }
    },
    {
      "cell_type": "markdown",
      "source": [
        "<p dir=\"rtl\" align=\"right\">\n",
        "<font size=\"+2\" face=\"homa\">\n",
        "  <b>\n",
        "جمع‌بندی\n",
        "  <br><br>\n",
        "  <font size=\"+1\" face=\"homa\">\n",
        "  </b>\n",
        "\n",
        "<hr>\n",
        "\n",
        "<p dir=\"rtl\" align=\"justify\">\n",
        "<font face=\"homa\">\n",
        "مواردی که باید از این مثال بیاموزید به شرح زیر هستند:\n",
        "<br>\n",
        "*\tتوابع هزینه رگرسیون با توابع هزینه دسته‌بندی متفاوت هستند. تابع هزینه متداول در رگرسیون، میانگین مربعات خطا (MSE) است.\n",
        "<br>\n",
        "*\tبه همین ترتیب، معیارهای اعتبارسنجی رگرسیون متفاوت از معیارهای به کار رفته در دسته‌بندی هستند؛ طبیعتاً، مفهوم دقت در رگرسیون کاربردی ندارد. معیار معمول رگرسیون، میانگین خطای مطلق (MAE) است.\n",
        "<br>\n",
        "*\tزمانی که ویژگی‌های ورودی دامنه‌های متفاوتی دارند، هر ویژگی باید به صورت مستقل و به عنوان گامی از پیش‌پردازش مقیاس‌بندی شود.\n",
        "<br>\n",
        "*\tبرای کار با برچسب‌ها در دسته‌بندی چند کلاسی از دو روش زیر می‌توان استفاده کرد:\n",
        "<br>\n",
        "*\tزمانی که داده‌های در دسترس کم هستند، استفاده از اعتبارسنجی K بخشی روش بسیار خوبی برای ارزیابی مطمئن مدل است.\n",
        "<br>\n",
        "*\tزمانی که داده‌های آموزشی کم هستند، برای اجتناب از بیش‌برازش شدید، استفاده از شبکه کوچک با لایه‌های پنهان کم (معمولاً فقط یک یا دولایه) ترجیح داده می‌شود.\n",
        "<br><br>\n",
        "\tحال می‌توانید متداول‌ترین انواع کارهای یادگیری ماشین را روی داده‌های برداری انجام دهید:\n",
        "<br>\n",
        "   دسته‌بندی دودویی،\n",
        "<br>\n",
        "    دسته‌‌بندی چند کلاسی\n",
        "<br>\n",
        "     و رگرسیون اسکالر. \n",
        "<br>\n",
        "\n"
      ],
      "metadata": {
        "id": "Dsm7YYCl7bd5"
      }
    }
  ],
  "metadata": {
    "kernelspec": {
      "display_name": "Python 3",
      "language": "python",
      "name": "python3"
    },
    "language_info": {
      "codemirror_mode": {
        "name": "ipython",
        "version": 3
      },
      "file_extension": ".py",
      "mimetype": "text/x-python",
      "name": "python",
      "nbconvert_exporter": "python",
      "pygments_lexer": "ipython3",
      "version": "3.5.2"
    },
    "colab": {
      "name": "3.7-predicting-house-prices.ipynb",
      "provenance": []
    }
  },
  "nbformat": 4,
  "nbformat_minor": 0
}