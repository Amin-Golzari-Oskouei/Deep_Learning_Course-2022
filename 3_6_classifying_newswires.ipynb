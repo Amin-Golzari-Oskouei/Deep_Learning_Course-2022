{
  "cells": [
    {
      "cell_type": "code",
      "execution_count": 1,
      "metadata": {
        "id": "GanMevlHJfcQ",
        "outputId": "ee6684f4-df95-4f94-fa34-9a7f42f78ad7",
        "colab": {
          "base_uri": "https://localhost:8080/",
          "height": 35
        }
      },
      "outputs": [
        {
          "output_type": "execute_result",
          "data": {
            "text/plain": [
              "'2.8.0'"
            ],
            "application/vnd.google.colaboratory.intrinsic+json": {
              "type": "string"
            }
          },
          "metadata": {},
          "execution_count": 1
        }
      ],
      "source": [
        "import keras\n",
        "keras.__version__"
      ]
    },
    {
      "cell_type": "markdown",
      "source": [
        "<p dir=\"rtl\" align=\"right\">\n",
        "<font size=\"+2\" face=\"homa\">\n",
        "  <b>\n",
        "دسته‌بندی اخبار: مثال دسته‌بندی چند کلاسی\n",
        "  <br><br>\n",
        "  <font size=\"+1\" face=\"homa\">\n",
        "  فصل ۳ قسمت ۵ \n",
        "  </b>\n",
        "\n",
        "<hr>\n",
        "\n",
        "<p dir=\"rtl\" align=\"justify\">\n",
        "<font face=\"homa\">\n",
        "در قسمت قبلی، نحوه دسته‌بندی ورودی‌های برداری را به دو کلاس با استفاده از شبکه عصبی متراکم بررسی کردیم؛ اما زمانی که بیش از دو کلاس داریم، چه اتفاقی می‌افتد؟\n",
        "<br>\n",
        "  <b>\n",
        "مجموعه ‌داده رویترز\n",
        "  </b>\n",
        "<br>\n",
        "در این مثال از مجموعه ‌داده رویترز استفاده شده است. مجموعه‌ای از اخبار کوتاه و موضوع متناظر هر خبر که در سال 1986 توسط رویترز منتشر شده است؛ این مجموعه ‌داده بسیار ساده بوده و معمولاً در شروع یادگیری مبحث دسته‌بندی متن مورد استفاده قرار می‌گیرد. 46 موضوع مختلف در این مجموعه ‌داده موجود هستند که برخی از آن‌ها بیشتر از بقیه تکرار شده‌اند، اما از هر موضوع حداقل 10 نمونه در مجموعه آموزشی وجود دارد.\n",
        "<br>\n",
        " مجموعه ‌داده رویترز مانند IMDB و MNIST بخشی از پکیج کراس است که در اینجا به کنکاش در آن می‌پردازیم."
      ],
      "metadata": {
        "id": "OK8tPbmuJstm"
      }
    },
    {
      "cell_type": "code",
      "execution_count": 2,
      "metadata": {
        "collapsed": true,
        "id": "3B-ZWpZQJfcY",
        "colab": {
          "base_uri": "https://localhost:8080/"
        },
        "outputId": "2c7dfa78-7d83-474a-cd97-d7529d01485c"
      },
      "outputs": [
        {
          "output_type": "stream",
          "name": "stdout",
          "text": [
            "Downloading data from https://storage.googleapis.com/tensorflow/tf-keras-datasets/reuters.npz\n",
            "2113536/2110848 [==============================] - 0s 0us/step\n",
            "2121728/2110848 [==============================] - 1s 0us/step\n"
          ]
        }
      ],
      "source": [
        "from keras.datasets import reuters\n",
        "\n",
        "(train_data, train_labels), (test_data, test_labels) = reuters.load_data(num_words=10000)"
      ]
    },
    {
      "cell_type": "markdown",
      "source": [
        "<p dir=\"rtl\" align=\"justify\">\n",
        "<font face=\"homa\">\n",
        "مانند مجموعه ‌داده IMDB، آرگومان num_words=10000 داده‌ها را به 10000 کلمه پرتکرار محدود می‌کند.\n",
        "<br>\n",
        " این مجموعه ‌داده شامل 8982 نمونه آموزشی و 2246 نمونه آزمایش است:\n",
        "<br>\n"
      ],
      "metadata": {
        "id": "0Vq0J_VGKbJH"
      }
    },
    {
      "cell_type": "code",
      "execution_count": 3,
      "metadata": {
        "id": "zqfrn3RaJfcZ",
        "outputId": "07aa42f0-bb8d-407e-9b3e-a190f354c861",
        "colab": {
          "base_uri": "https://localhost:8080/"
        }
      },
      "outputs": [
        {
          "output_type": "execute_result",
          "data": {
            "text/plain": [
              "8982"
            ]
          },
          "metadata": {},
          "execution_count": 3
        }
      ],
      "source": [
        "len(train_data)"
      ]
    },
    {
      "cell_type": "code",
      "execution_count": 4,
      "metadata": {
        "id": "MAqVk8c8Jfca",
        "outputId": "7107b726-c18a-40a9-eeec-7d2aa1e6dd37",
        "colab": {
          "base_uri": "https://localhost:8080/"
        }
      },
      "outputs": [
        {
          "output_type": "execute_result",
          "data": {
            "text/plain": [
              "2246"
            ]
          },
          "metadata": {},
          "execution_count": 4
        }
      ],
      "source": [
        "len(test_data)"
      ]
    },
    {
      "cell_type": "markdown",
      "source": [
        "<p dir=\"rtl\" align=\"justify\">\n",
        "<font face=\"homa\">\n",
        "همانند نظرات IMDB، هر نمونه، لیستی از اعداد صحیح (اندیس‌های کلمه‌ها) است:\n",
        "<br>\n",
        "\n"
      ],
      "metadata": {
        "id": "jUOsEE4NKqdk"
      }
    },
    {
      "cell_type": "code",
      "execution_count": 5,
      "metadata": {
        "id": "lMm2t1sVJfcb",
        "outputId": "c869163d-824c-4f64-8356-a75704933122",
        "colab": {
          "base_uri": "https://localhost:8080/"
        }
      },
      "outputs": [
        {
          "output_type": "execute_result",
          "data": {
            "text/plain": [
              "[1,\n",
              " 245,\n",
              " 273,\n",
              " 207,\n",
              " 156,\n",
              " 53,\n",
              " 74,\n",
              " 160,\n",
              " 26,\n",
              " 14,\n",
              " 46,\n",
              " 296,\n",
              " 26,\n",
              " 39,\n",
              " 74,\n",
              " 2979,\n",
              " 3554,\n",
              " 14,\n",
              " 46,\n",
              " 4689,\n",
              " 4329,\n",
              " 86,\n",
              " 61,\n",
              " 3499,\n",
              " 4795,\n",
              " 14,\n",
              " 61,\n",
              " 451,\n",
              " 4329,\n",
              " 17,\n",
              " 12]"
            ]
          },
          "metadata": {},
          "execution_count": 5
        }
      ],
      "source": [
        "train_data[10]"
      ]
    },
    {
      "cell_type": "markdown",
      "source": [
        "<p dir=\"rtl\" align=\"justify\">\n",
        "<font face=\"homa\">\n",
        "در ادامه نحوه کدگشایی و تبدیل این اعداد به متن اولیه نشان داده شده است.\n",
        "<br>\n"
      ],
      "metadata": {
        "id": "exC-rxKZKzO0"
      }
    },
    {
      "cell_type": "code",
      "execution_count": 6,
      "metadata": {
        "collapsed": true,
        "id": "mqkyDzthJfcc",
        "colab": {
          "base_uri": "https://localhost:8080/"
        },
        "outputId": "582480f3-28a9-487c-fed0-fda73d00722d"
      },
      "outputs": [
        {
          "output_type": "stream",
          "name": "stdout",
          "text": [
            "Downloading data from https://storage.googleapis.com/tensorflow/tf-keras-datasets/reuters_word_index.json\n",
            "557056/550378 [==============================] - 0s 0us/step\n",
            "565248/550378 [==============================] - 0s 0us/step\n"
          ]
        }
      ],
      "source": [
        "word_index = reuters.get_word_index()\n",
        "reverse_word_index = dict([(value, key) for (key, value) in word_index.items()])\n",
        "# Note that our indices were offset by 3\n",
        "# because 0, 1 and 2 are reserved indices for \"padding\", \"start of sequence\", and \"unknown\".\n",
        "decoded_newswire = ' '.join([reverse_word_index.get(i - 3, '?') for i in train_data[0]])"
      ]
    },
    {
      "cell_type": "code",
      "execution_count": 7,
      "metadata": {
        "id": "rnOwQtblJfcd",
        "outputId": "76a28df9-2b7b-43a1-efa1-cab3e3d5aaf6",
        "colab": {
          "base_uri": "https://localhost:8080/",
          "height": 52
        }
      },
      "outputs": [
        {
          "output_type": "execute_result",
          "data": {
            "text/plain": [
              "'? ? ? said as a result of its december acquisition of space co it expects earnings per share in 1987 of 1 15 to 1 30 dlrs per share up from 70 cts in 1986 the company said pretax net should rise to nine to 10 mln dlrs from six mln dlrs in 1986 and rental operation revenues to 19 to 22 mln dlrs from 12 5 mln dlrs it said cash flow per share this year should be 2 50 to three dlrs reuter 3'"
            ],
            "application/vnd.google.colaboratory.intrinsic+json": {
              "type": "string"
            }
          },
          "metadata": {},
          "execution_count": 7
        }
      ],
      "source": [
        "decoded_newswire"
      ]
    },
    {
      "cell_type": "markdown",
      "source": [
        "<p dir=\"rtl\" align=\"justify\">\n",
        "<font face=\"homa\">\n",
        "برچسب مرتبط با یک نمونه داده که عددی صحیح بین 0 و 45 است و اندیس موضوعی آن را نشان می‌دهد.\n",
        "<br>\n"
      ],
      "metadata": {
        "id": "6bxz1gvbK0es"
      }
    },
    {
      "cell_type": "code",
      "execution_count": 8,
      "metadata": {
        "id": "D4cvR2pNJfce",
        "outputId": "96691a85-bd7c-4fb7-c9f1-dba37e9cd64b",
        "colab": {
          "base_uri": "https://localhost:8080/"
        }
      },
      "outputs": [
        {
          "output_type": "execute_result",
          "data": {
            "text/plain": [
              "3"
            ]
          },
          "metadata": {},
          "execution_count": 8
        }
      ],
      "source": [
        "train_labels[10]"
      ]
    },
    {
      "cell_type": "markdown",
      "source": [
        "<p dir=\"rtl\" align=\"right\">\n",
        "<font size=\"+2\" face=\"homa\">\n",
        "  <b>\n",
        "آماده‌سازی داده‌ها \n",
        "  <br><br>\n",
        "  <font size=\"+1\" face=\"homa\">\n",
        "  </b>\n",
        "\n",
        "<hr>\n",
        "\n",
        "<p dir=\"rtl\" align=\"justify\">\n",
        "<font face=\"homa\">\n",
        "دقیقاً با همان کدهای مثال قبل، می‌توان داده‌ها را به صورت برداری تبدیل کرد.\n"
      ],
      "metadata": {
        "id": "ULmpLYmSLJIO"
      }
    },
    {
      "cell_type": "code",
      "execution_count": 9,
      "metadata": {
        "collapsed": true,
        "id": "mf4-NJUGJfcf"
      },
      "outputs": [],
      "source": [
        "import numpy as np\n",
        "\n",
        "def vectorize_sequences(sequences, dimension=10000):\n",
        "    results = np.zeros((len(sequences), dimension))\n",
        "    for i, sequence in enumerate(sequences):\n",
        "        results[i, sequence] = 1.\n",
        "    return results\n",
        "\n",
        "# Our vectorized training data\n",
        "x_train = vectorize_sequences(train_data)\n",
        "# Our vectorized test data\n",
        "x_test = vectorize_sequences(test_data)"
      ]
    },
    {
      "cell_type": "markdown",
      "source": [
        "<p dir=\"rtl\" align=\"justify\">\n",
        "<font face=\"homa\">\n",
        "برای برداری کردن برچسب‌ها، دو راهکار وجود دارد: می‌توانید لیست برچسب‌ها را به صورت تنسور عدد صحیح بنویسید یا از کدگذاری تک-یک  استفاده کنید. کدگذاری تک-یک، فرمتی متداول برای داده‌های دسته‌ای است که کدگذاری دسته‌ای  نیز نامیده می‌شود. توضیحات تفصیلی کدگذاری تک-یک در قسمت 6-1 آمده است. در این مثال، کدگذاری تک-یک شده برچسب‌ها عبارت است از نگاشت هر برچسب به یک بردار تمام صفر که فقط اندیس موضوع متناظر در آن 1 است. در اینجا یک مثال ذکر می‌کنیم:\n",
        "<br>\n"
      ],
      "metadata": {
        "id": "VdW047IxLRAs"
      }
    },
    {
      "cell_type": "code",
      "execution_count": 10,
      "metadata": {
        "collapsed": true,
        "id": "jmS5BUkUJfcf"
      },
      "outputs": [],
      "source": [
        "def to_one_hot(labels, dimension=46):\n",
        "    results = np.zeros((len(labels), dimension))\n",
        "    for i, label in enumerate(labels):\n",
        "        results[i, label] = 1.\n",
        "    return results\n",
        "\n",
        "# Our vectorized training labels\n",
        "one_hot_train_labels = to_one_hot(train_labels)\n",
        "# Our vectorized test labels\n",
        "one_hot_test_labels = to_one_hot(test_labels)"
      ]
    },
    {
      "cell_type": "markdown",
      "source": [
        "<p dir=\"rtl\" align=\"justify\">\n",
        "<font face=\"homa\">\n",
        "توجه کنید که در کراس تابع آماده‌ای برای این کار وجود دارد که قبلاً در مثال MNIST مشاهده کرده‌اید:\n",
        "<br>\n"
      ],
      "metadata": {
        "id": "zKKetAbFLf6D"
      }
    },
    {
      "cell_type": "code",
      "execution_count": 11,
      "metadata": {
        "collapsed": true,
        "id": "ScK5WduKJfcg"
      },
      "outputs": [],
      "source": [
        "from keras.utils.np_utils import to_categorical\n",
        "\n",
        "one_hot_train_labels = to_categorical(train_labels)\n",
        "one_hot_test_labels = to_categorical(test_labels)"
      ]
    },
    {
      "cell_type": "markdown",
      "source": [
        "<p dir=\"rtl\" align=\"right\">\n",
        "<font size=\"+2\" face=\"homa\">\n",
        "  <b>\n",
        "ساخت شبکه\n",
        "  <br><br>\n",
        "  <font size=\"+1\" face=\"homa\">\n",
        "  </b>\n",
        "\n",
        "<hr>\n",
        "\n",
        "<p dir=\"rtl\" align=\"justify\">\n",
        "<font face=\"homa\">\n",
        "مسئله دسته‌بندی موضوعی به مسئله دسته‌بندی نظرات در مورد فیلم‌ها شباهت دارد: در هر دو مورد، هدف دسته‌بندی تکه‌های کوتاهی از متن است؛ اما در اینجا محدودیت جدیدی داریم: تعداد کلاس‌های خروجی از 2 به 46 رسیده است و تعداد بعد فضای خروجی بسیار بزرگ‌تر است.\n",
        "<br>\n",
        "در پشته لایه‌های Dense که از آن‌ها استفاده کرده‌ایم، هر لایه فقط می‌تواند به اطلاعاتی دسترسی داشته باشد که در خروجی لایه قبلی موجود هستند. اگر یک ‌لایه اطلاعاتی را در ارتباط با مسئله دسته‌بندی جا بیندازد، این اطلاعات هرگز توسط لایه‌های بعدی بازیابی نخواهد شد: به طور بالقوه هر لایه به گلوگاه اطلاعاتی بدل می‌شود. در مثال قبلی، از لایه‌های میانی 16 بعدی استفاده کردیم اما فضای 16 بعدی ممکن است برای یادگیری 46 کلاس مختلف، بیش ‌از اندازه محدود باشد. چنین لایه‌های کوچکی ممکن است به ‌مثابه گلوگاه اطلاعات عمل کرده و برای همیشه اطلاعات مرتبط را حذف کنند.\n",
        "<br>\n",
        "به همین دلیل، از لایه‌های بزرگ‌تر استفاده خواهیم کرد. حال می‌خواهیم با 46 واحد کار را انجام دهیم.\n",
        "<br>\n"
      ],
      "metadata": {
        "id": "iB7RTh44LoV6"
      }
    },
    {
      "cell_type": "code",
      "execution_count": 12,
      "metadata": {
        "collapsed": true,
        "id": "W_HgekPeJfch"
      },
      "outputs": [],
      "source": [
        "from keras import models\n",
        "from keras import layers\n",
        "\n",
        "model = models.Sequential()\n",
        "model.add(layers.Dense(64, activation='relu', input_shape=(10000,)))\n",
        "model.add(layers.Dense(64, activation='relu'))\n",
        "model.add(layers.Dense(46, activation='softmax'))"
      ]
    },
    {
      "cell_type": "markdown",
      "source": [
        "<p dir=\"rtl\" align=\"justify\">\n",
        "<font face=\"homa\">\n",
        "توجه به دو نکته دیگر در ارتباط با این معماری ضروری است:\n",
        "<br>\n",
        "*\tشبکه باید با لایه Dense به‌اندازه 46 به پایان برسد؛ یعنی، برای هر نمونه ورودی، شبکه یک بردار 46 بعدی را به ‌عنوان خروجی تولید خواهد کرد. هر درایه در این بردار (هر بعد) کلاس خروجی متفاوتی (موضوع متفاوتی) را کدگذاری خواهد کرد.\n",
        "<br>\n",
        "*\tلایه آخر از فعال‌سازی softmax استفاده می‌کند. این الگو که در مثال MNIST نیز مورد استفاده قرار گرفت بدین معناست که خروجی شبکه، توزیع احتمال در 46 کلاس خروجی مختلف خواهد بود، به عبارت دیگر برای هر نمونه ورودی، شبکه یک بردار خروجی 46 بعدی را تولید خواهد کرد که در آن output[i] احتمال متعلق بودن نمونه به کلاس i است. جمع 46 درایه برابر با 1 خواهد بود.\n",
        "<br>\n",
        "بهترین تابع هزینه‌ای که می‌توان در این مورد به کار برد categorical_crossentropy است. این تابع فاصله بین توزیع احتمال خروجی شبکه و توزیع حقیقی برچسب‌ها را اندازه می‌گیرد. با به حداقل رساندن فاصله بین این دو توزیع، شبکه یاد می‌گیرد که خروجی هرچه نزدیک‌تر به برچسب حقیقی را تولید کند.\n"
      ],
      "metadata": {
        "id": "DgguSTdKL8mj"
      }
    },
    {
      "cell_type": "code",
      "execution_count": 13,
      "metadata": {
        "collapsed": true,
        "id": "pco3_uD-Jfch"
      },
      "outputs": [],
      "source": [
        "model.compile(optimizer='rmsprop',\n",
        "              loss='categorical_crossentropy',\n",
        "              metrics=['accuracy'])"
      ]
    },
    {
      "cell_type": "markdown",
      "source": [
        "<p dir=\"rtl\" align=\"right\">\n",
        "<font size=\"+2\" face=\"homa\">\n",
        "  <b>\n",
        "اعتبارسنجی رویکرد\n",
        "  <br><br>\n",
        "  <font size=\"+1\" face=\"homa\">\n",
        "  </b>\n",
        "\n",
        "<hr>\n",
        "\n",
        "<p dir=\"rtl\" align=\"justify\">\n",
        "<font face=\"homa\">\n",
        "حال می‌خواهیم هزار نمونه را از داده‌های آموزشی جدا کنیم و به عنوان مجموعه اعتبارسنجی از آن‌ها استفاده کنیم.\n",
        "<br>\n"
      ],
      "metadata": {
        "id": "dRfZ-G8iMZZ3"
      }
    },
    {
      "cell_type": "code",
      "execution_count": 14,
      "metadata": {
        "collapsed": true,
        "id": "fIPZhB9XJfci"
      },
      "outputs": [],
      "source": [
        "x_val = x_train[:1000]\n",
        "partial_x_train = x_train[1000:]\n",
        "\n",
        "y_val = one_hot_train_labels[:1000]\n",
        "partial_y_train = one_hot_train_labels[1000:]"
      ]
    },
    {
      "cell_type": "markdown",
      "source": [
        "<p dir=\"rtl\" align=\"justify\">\n",
        "<font face=\"homa\">\n",
        "در اینجا شبکه را برای 20 تکرار آموزش می‌دهیم.\n",
        "<br>\n"
      ],
      "metadata": {
        "id": "rR33vjjtMjR5"
      }
    },
    {
      "cell_type": "code",
      "execution_count": 15,
      "metadata": {
        "id": "OufhcOKbJfci",
        "outputId": "c8306dd4-c9dd-4426-cf10-129555f67762",
        "colab": {
          "base_uri": "https://localhost:8080/"
        }
      },
      "outputs": [
        {
          "output_type": "stream",
          "name": "stdout",
          "text": [
            "Epoch 1/20\n",
            "16/16 [==============================] - 4s 129ms/step - loss: 2.5052 - accuracy: 0.5262 - val_loss: 1.6361 - val_accuracy: 0.6580\n",
            "Epoch 2/20\n",
            "16/16 [==============================] - 3s 182ms/step - loss: 1.3619 - accuracy: 0.7122 - val_loss: 1.2588 - val_accuracy: 0.7340\n",
            "Epoch 3/20\n",
            "16/16 [==============================] - 2s 101ms/step - loss: 1.0121 - accuracy: 0.7889 - val_loss: 1.1000 - val_accuracy: 0.7750\n",
            "Epoch 4/20\n",
            "16/16 [==============================] - 1s 48ms/step - loss: 0.7934 - accuracy: 0.8340 - val_loss: 0.9998 - val_accuracy: 0.7810\n",
            "Epoch 5/20\n",
            "16/16 [==============================] - 1s 79ms/step - loss: 0.6267 - accuracy: 0.8652 - val_loss: 0.9645 - val_accuracy: 0.7890\n",
            "Epoch 6/20\n",
            "16/16 [==============================] - 1s 81ms/step - loss: 0.4994 - accuracy: 0.8934 - val_loss: 0.8951 - val_accuracy: 0.8140\n",
            "Epoch 7/20\n",
            "16/16 [==============================] - 1s 71ms/step - loss: 0.4006 - accuracy: 0.9141 - val_loss: 0.8740 - val_accuracy: 0.8240\n",
            "Epoch 8/20\n",
            "16/16 [==============================] - 1s 70ms/step - loss: 0.3262 - accuracy: 0.9316 - val_loss: 0.8731 - val_accuracy: 0.8200\n",
            "Epoch 9/20\n",
            "16/16 [==============================] - 2s 104ms/step - loss: 0.2686 - accuracy: 0.9421 - val_loss: 0.8996 - val_accuracy: 0.8170\n",
            "Epoch 10/20\n",
            "16/16 [==============================] - 1s 60ms/step - loss: 0.2278 - accuracy: 0.9475 - val_loss: 0.8752 - val_accuracy: 0.8240\n",
            "Epoch 11/20\n",
            "16/16 [==============================] - 3s 166ms/step - loss: 0.1992 - accuracy: 0.9494 - val_loss: 0.9218 - val_accuracy: 0.8060\n",
            "Epoch 12/20\n",
            "16/16 [==============================] - 2s 107ms/step - loss: 0.1761 - accuracy: 0.9531 - val_loss: 0.9354 - val_accuracy: 0.8130\n",
            "Epoch 13/20\n",
            "16/16 [==============================] - 1s 75ms/step - loss: 0.1552 - accuracy: 0.9543 - val_loss: 0.9397 - val_accuracy: 0.8170\n",
            "Epoch 14/20\n",
            "16/16 [==============================] - 1s 64ms/step - loss: 0.1462 - accuracy: 0.9569 - val_loss: 0.9758 - val_accuracy: 0.8050\n",
            "Epoch 15/20\n",
            "16/16 [==============================] - 2s 60ms/step - loss: 0.1392 - accuracy: 0.9553 - val_loss: 1.0761 - val_accuracy: 0.7910\n",
            "Epoch 16/20\n",
            "16/16 [==============================] - 1s 89ms/step - loss: 0.1292 - accuracy: 0.9575 - val_loss: 1.0160 - val_accuracy: 0.8150\n",
            "Epoch 17/20\n",
            "16/16 [==============================] - 1s 70ms/step - loss: 0.1239 - accuracy: 0.9553 - val_loss: 1.0051 - val_accuracy: 0.8090\n",
            "Epoch 18/20\n",
            "16/16 [==============================] - 1s 66ms/step - loss: 0.1156 - accuracy: 0.9572 - val_loss: 1.0269 - val_accuracy: 0.8100\n",
            "Epoch 19/20\n",
            "16/16 [==============================] - 1s 64ms/step - loss: 0.1145 - accuracy: 0.9577 - val_loss: 1.0085 - val_accuracy: 0.8100\n",
            "Epoch 20/20\n",
            "16/16 [==============================] - 2s 123ms/step - loss: 0.1120 - accuracy: 0.9570 - val_loss: 1.0538 - val_accuracy: 0.8020\n"
          ]
        }
      ],
      "source": [
        "history = model.fit(partial_x_train,\n",
        "                    partial_y_train,\n",
        "                    epochs=20,\n",
        "                    batch_size=512,\n",
        "                    validation_data=(x_val, y_val))"
      ]
    },
    {
      "cell_type": "markdown",
      "source": [
        "<p dir=\"rtl\" align=\"justify\">\n",
        "<font face=\"homa\">\n",
        "و در آخر منحنی‌های خطا و دقت آن‌ را نشان می‌دهیم \n",
        "<br>\n"
      ],
      "metadata": {
        "id": "ZeDhOFMDMuG5"
      }
    },
    {
      "cell_type": "code",
      "execution_count": 16,
      "metadata": {
        "id": "L5hobEXEJfci",
        "outputId": "df249e12-d7ae-4608-c2b5-247d9164a12e",
        "colab": {
          "base_uri": "https://localhost:8080/",
          "height": 295
        }
      },
      "outputs": [
        {
          "output_type": "display_data",
          "data": {
            "text/plain": [
              "<Figure size 432x288 with 1 Axes>"
            ],
            "image/png": "[encoded data removed]"
          },
          "metadata": {
            "needs_background": "light"
          }
        }
      ],
      "source": [
        "import matplotlib.pyplot as plt\n",
        "\n",
        "loss = history.history['loss']\n",
        "val_loss = history.history['val_loss']\n",
        "\n",
        "epochs = range(1, len(loss) + 1)\n",
        "\n",
        "plt.plot(epochs, loss, 'bo', label='Training loss')\n",
        "plt.plot(epochs, val_loss, 'b', label='Validation loss')\n",
        "plt.title('Training and validation loss')\n",
        "plt.xlabel('Epochs')\n",
        "plt.ylabel('Loss')\n",
        "plt.legend()\n",
        "\n",
        "plt.show()"
      ]
    },
    {
      "cell_type": "code",
      "execution_count": 23,
      "metadata": {
        "id": "Q0Uigh3DJfcj",
        "outputId": "12a0f46f-d91f-4bf1-c245-a7b88204c6d0",
        "colab": {
          "base_uri": "https://localhost:8080/",
          "height": 295
        }
      },
      "outputs": [
        {
          "output_type": "display_data",
          "data": {
            "text/plain": [
              "<Figure size 432x288 with 1 Axes>"
            ],
            "image/png": "[encoded data removed]"
          },
          "metadata": {
            "needs_background": "light"
          }
        }
      ],
      "source": [
        "plt.clf()   # clear figure\n",
        "\n",
        "acc = history.history['accuracy']\n",
        "val_acc = history.history['val_accuracy']\n",
        "\n",
        "plt.plot(epochs, acc, 'bo', label='Training acc')\n",
        "plt.plot(epochs, val_acc, 'b', label='Validation acc')\n",
        "plt.title('Training and validation accuracy')\n",
        "plt.xlabel('Epochs')\n",
        "plt.ylabel('Loss')\n",
        "plt.legend()\n",
        "\n",
        "plt.show()"
      ]
    },
    {
      "cell_type": "markdown",
      "source": [
        "<p dir=\"rtl\" align=\"justify\">\n",
        "<font face=\"homa\">\n",
        "بعد از 9 تکرار، شبکه شروع به بیش‌برازش می‌کند. حال می‌خواهیم شبکه جدیدی را از نو برای 9 تکرار، آموزش داده و سپس آن‌ را روی مجموعه آزمایش ارزیابی کنیم.\n",
        "<br>\n"
      ],
      "metadata": {
        "id": "B1FCZ9ZsM2o6"
      }
    },
    {
      "cell_type": "code",
      "execution_count": 24,
      "metadata": {
        "id": "aBsujrCHJfcj",
        "outputId": "f55c25df-360c-44de-e4ba-aeda136583da",
        "colab": {
          "base_uri": "https://localhost:8080/"
        }
      },
      "outputs": [
        {
          "output_type": "stream",
          "name": "stdout",
          "text": [
            "Epoch 1/8\n",
            "16/16 [==============================] - 2s 78ms/step - loss: 2.6468 - accuracy: 0.5249 - val_loss: 1.7671 - val_accuracy: 0.6190\n",
            "Epoch 2/8\n",
            "16/16 [==============================] - 1s 75ms/step - loss: 1.4577 - accuracy: 0.6999 - val_loss: 1.3239 - val_accuracy: 0.7250\n",
            "Epoch 3/8\n",
            "16/16 [==============================] - 4s 263ms/step - loss: 1.0706 - accuracy: 0.7762 - val_loss: 1.1419 - val_accuracy: 0.7580\n",
            "Epoch 4/8\n",
            "16/16 [==============================] - 1s 88ms/step - loss: 0.8366 - accuracy: 0.8239 - val_loss: 1.0530 - val_accuracy: 0.7840\n",
            "Epoch 5/8\n",
            "16/16 [==============================] - 1s 61ms/step - loss: 0.6624 - accuracy: 0.8654 - val_loss: 0.9757 - val_accuracy: 0.8020\n",
            "Epoch 6/8\n",
            "16/16 [==============================] - 1s 65ms/step - loss: 0.5277 - accuracy: 0.8935 - val_loss: 0.9341 - val_accuracy: 0.8160\n",
            "Epoch 7/8\n",
            "16/16 [==============================] - 2s 106ms/step - loss: 0.4259 - accuracy: 0.9153 - val_loss: 0.9034 - val_accuracy: 0.8130\n",
            "Epoch 8/8\n",
            "16/16 [==============================] - 2s 136ms/step - loss: 0.3456 - accuracy: 0.9282 - val_loss: 0.9388 - val_accuracy: 0.8020\n",
            "71/71 [==============================] - 0s 6ms/step - loss: 1.0198 - accuracy: 0.7760\n"
          ]
        }
      ],
      "source": [
        "model = models.Sequential()\n",
        "model.add(layers.Dense(64, activation='relu', input_shape=(10000,)))\n",
        "model.add(layers.Dense(64, activation='relu'))\n",
        "model.add(layers.Dense(46, activation='softmax'))\n",
        "\n",
        "model.compile(optimizer='rmsprop',\n",
        "              loss='categorical_crossentropy',\n",
        "              metrics=['accuracy'])\n",
        "model.fit(partial_x_train,\n",
        "          partial_y_train,\n",
        "          epochs=8,\n",
        "          batch_size=512,\n",
        "          validation_data=(x_val, y_val))\n",
        "results = model.evaluate(x_test, one_hot_test_labels)"
      ]
    },
    {
      "cell_type": "code",
      "execution_count": 25,
      "metadata": {
        "id": "kWlvFsmwJfck",
        "outputId": "e4f509e2-1d18-467e-f079-e1c73b84cca7",
        "colab": {
          "base_uri": "https://localhost:8080/"
        }
      },
      "outputs": [
        {
          "output_type": "execute_result",
          "data": {
            "text/plain": [
              "[1.0197855234146118, 0.7760462760925293]"
            ]
          },
          "metadata": {},
          "execution_count": 25
        }
      ],
      "source": [
        "results"
      ]
    },
    {
      "cell_type": "markdown",
      "source": [
        "<p dir=\"rtl\" align=\"justify\">\n",
        "<font face=\"homa\">\n",
        "دقت این رویکرد در حدود 80 درصد است. در یک مسئله دسته‌بندی دودویی متوازن، دقت به‌ دست ‌آمده از دسته‌بندی کننده کاملاً تصادفی 50 درصد خواهد بود؛ اما در این مورد، نزدیک به 19 درصد است، بنابراین نتایج به‌دست‌آمده حداقل در مقایسه با روش پایه  تصادفی مناسب هستند:\n",
        "<br>"
      ],
      "metadata": {
        "id": "XjDdEwIwNOpJ"
      }
    },
    {
      "cell_type": "code",
      "execution_count": 26,
      "metadata": {
        "id": "3D5MmXHAJfck",
        "outputId": "9505ce3f-4947-40f1-9416-fe8d64d5b7cf",
        "colab": {
          "base_uri": "https://localhost:8080/"
        }
      },
      "outputs": [
        {
          "output_type": "execute_result",
          "data": {
            "text/plain": [
              "0.18477292965271594"
            ]
          },
          "metadata": {},
          "execution_count": 26
        }
      ],
      "source": [
        "import copy\n",
        "\n",
        "test_labels_copy = copy.copy(test_labels)\n",
        "np.random.shuffle(test_labels_copy)\n",
        "float(np.sum(np.array(test_labels) == np.array(test_labels_copy))) / len(test_labels)"
      ]
    },
    {
      "cell_type": "markdown",
      "source": [
        "<p dir=\"rtl\" align=\"right\">\n",
        "<font size=\"+2\" face=\"homa\">\n",
        "  <b>\n",
        "پیش‌بینی داده‌های جدید\n",
        "  <br><br>\n",
        "  <font size=\"+1\" face=\"homa\">\n",
        "  </b>\n",
        "\n",
        "<hr>\n",
        "\n",
        "<p dir=\"rtl\" align=\"justify\">\n",
        "<font face=\"homa\">\n",
        "می‌توان با فراخوانی متد predict (پیش‌بینی) از مدل آموزش داده شده، یک توزیع احتمال برای 46 موضوع مختلف تولید کرد. در ادامه پیش‌بینی‌ موضوع برای تمامی داده‌های آزمایش تولید شده است.\n",
        "<br>\n"
      ],
      "metadata": {
        "id": "L5OHV4qINWdx"
      }
    },
    {
      "cell_type": "code",
      "execution_count": 27,
      "metadata": {
        "collapsed": true,
        "id": "1XanQkdjJfcl"
      },
      "outputs": [],
      "source": [
        "predictions = model.predict(x_test)"
      ]
    },
    {
      "cell_type": "markdown",
      "source": [
        "<p dir=\"rtl\" align=\"justify\">\n",
        "<font face=\"homa\">\n",
        "هر آیتم در predictions برداری با 46 درایه است:\n",
        "<br>"
      ],
      "metadata": {
        "id": "HLXUBQ5LNhBI"
      }
    },
    {
      "cell_type": "code",
      "execution_count": 28,
      "metadata": {
        "id": "kZSD93DYJfcl",
        "outputId": "70863a12-6d7a-4be8-fcd2-e2c1392adfc8",
        "colab": {
          "base_uri": "https://localhost:8080/"
        }
      },
      "outputs": [
        {
          "output_type": "execute_result",
          "data": {
            "text/plain": [
              "(46,)"
            ]
          },
          "metadata": {},
          "execution_count": 28
        }
      ],
      "source": [
        "predictions[0].shape"
      ]
    },
    {
      "cell_type": "markdown",
      "source": [
        "<p dir=\"rtl\" align=\"justify\">\n",
        "<font face=\"homa\">\n",
        "جمع ضرایب در این بردار برابر با 1 است:\n",
        "<br>"
      ],
      "metadata": {
        "id": "T04k0CuiNmSy"
      }
    },
    {
      "cell_type": "code",
      "execution_count": 29,
      "metadata": {
        "id": "AjgeUHFRJfcl",
        "outputId": "8aa0dd62-8cb6-4451-8c0e-92854ca323d2",
        "colab": {
          "base_uri": "https://localhost:8080/"
        }
      },
      "outputs": [
        {
          "output_type": "execute_result",
          "data": {
            "text/plain": [
              "1.0000001"
            ]
          },
          "metadata": {},
          "execution_count": 29
        }
      ],
      "source": [
        "np.sum(predictions[0])"
      ]
    },
    {
      "cell_type": "markdown",
      "source": [
        "<p dir=\"rtl\" align=\"justify\">\n",
        "<font face=\"homa\">\n",
        "اندیس حاوی بزرگ‌ترین مقدار، کلاس پیش‌بینی شده است، یعنی همان کلاسی است که بالاترین احتمال را دارد:\n",
        "<br>"
      ],
      "metadata": {
        "id": "m3PNKrjVNvQ-"
      }
    },
    {
      "cell_type": "code",
      "execution_count": 30,
      "metadata": {
        "id": "jHp3lgCJJfcm",
        "outputId": "cfa4d4f3-ae76-42f3-da40-3ebdbbb737c8",
        "colab": {
          "base_uri": "https://localhost:8080/"
        }
      },
      "outputs": [
        {
          "output_type": "execute_result",
          "data": {
            "text/plain": [
              "3"
            ]
          },
          "metadata": {},
          "execution_count": 30
        }
      ],
      "source": [
        "np.argmax(predictions[0])"
      ]
    },
    {
      "cell_type": "markdown",
      "source": [
        "<p dir=\"rtl\" align=\"right\">\n",
        "<font size=\"+2\" face=\"homa\">\n",
        "  <b>\n",
        "روشی متفاوت برای کار با برچسب‌‌ها و تابع هزینه\n",
        "  <br><br>\n",
        "  <font size=\"+1\" face=\"homa\">\n",
        "  </b>\n",
        "\n",
        "<hr>\n",
        "\n",
        "<p dir=\"rtl\" align=\"justify\">\n",
        "<font face=\"homa\">\n",
        "قبلاً، متذکر شدیم که روش دیگر کدگذاری برچسب‌ها، تبدیل آن‌ها به ‌تنسور اعداد صحیح است:\n",
        "<br>\n"
      ],
      "metadata": {
        "id": "EuxIymq8N2vF"
      }
    },
    {
      "cell_type": "code",
      "execution_count": 31,
      "metadata": {
        "collapsed": true,
        "id": "Cb6BPSKoJfcm"
      },
      "outputs": [],
      "source": [
        "y_train = np.array(train_labels)\n",
        "y_test = np.array(test_labels)"
      ]
    },
    {
      "cell_type": "markdown",
      "source": [
        "<p dir=\"rtl\" align=\"justify\">\n",
        "<font face=\"homa\">\n",
        "تنها چیزی که در این رویکرد تغییر می‌کند، انتخاب تابع هزینه است. تابع هزینه categorical_crossentropy که در نمونه کد قبلی ذکر شد، نیاز به استفاده از کدگذاری دسته‌بندی دارد. برای برچسب‌هایی که عدد صحیح هستند باید از sparse_categorical_crossentopy استفاده شود:\n",
        "<br>"
      ],
      "metadata": {
        "id": "-LFWjqM3OBYY"
      }
    },
    {
      "cell_type": "code",
      "execution_count": 32,
      "metadata": {
        "collapsed": true,
        "id": "j1xc4h57Jfcn"
      },
      "outputs": [],
      "source": [
        "model.compile(optimizer='rmsprop', loss='sparse_categorical_crossentropy', metrics=['acc'])"
      ]
    },
    {
      "cell_type": "markdown",
      "source": [
        "<p dir=\"rtl\" align=\"justify\">\n",
        "<font face=\"homa\">\n",
        "این تابع هزینه جدید، از نظر ریاضی با categorical_crossentropy یکسان است و فقط رابط متفاوتی دارد.\n",
        "<br>"
      ],
      "metadata": {
        "id": "cqSYolyNOgsQ"
      }
    },
    {
      "cell_type": "markdown",
      "source": [
        "<p dir=\"rtl\" align=\"right\">\n",
        "<font size=\"+2\" face=\"homa\">\n",
        "  <b>\n",
        "اهمیت اندازه لایه‌های میانی\n",
        "  <br><br>\n",
        "  <font size=\"+1\" face=\"homa\">\n",
        "  </b>\n",
        "\n",
        "<hr>\n",
        "\n",
        "<p dir=\"rtl\" align=\"justify\">\n",
        "<font face=\"homa\">\n",
        "قبلاً عنوان کردیم که چون خروجی‌ نهایی 46 بعدی است، باید از کاربرد لایه‌های میانی با کمتر از 46 واحد پنهان، اجتناب کرد. حال به بررسی تأثیر لایه میانی با تعداد کمتر از ۴۶ واحد، مثلاً ۴، می‌پردازیم.\n",
        "<br>\n"
      ],
      "metadata": {
        "id": "Faz1g9qWOXQY"
      }
    },
    {
      "cell_type": "code",
      "execution_count": 33,
      "metadata": {
        "id": "ESnC405SJfcn",
        "outputId": "edfb90fb-d679-48de-b15d-663d4b0a35ea",
        "colab": {
          "base_uri": "https://localhost:8080/"
        }
      },
      "outputs": [
        {
          "output_type": "stream",
          "name": "stdout",
          "text": [
            "Epoch 1/20\n",
            "63/63 [==============================] - 7s 101ms/step - loss: 3.3645 - accuracy: 0.1515 - val_loss: 2.7108 - val_accuracy: 0.5430\n",
            "Epoch 2/20\n",
            "63/63 [==============================] - 1s 22ms/step - loss: 2.0443 - accuracy: 0.5816 - val_loss: 1.6823 - val_accuracy: 0.6010\n",
            "Epoch 3/20\n",
            "63/63 [==============================] - 1s 23ms/step - loss: 1.4112 - accuracy: 0.6518 - val_loss: 1.4651 - val_accuracy: 0.6550\n",
            "Epoch 4/20\n",
            "63/63 [==============================] - 3s 45ms/step - loss: 1.1859 - accuracy: 0.6928 - val_loss: 1.3674 - val_accuracy: 0.6610\n",
            "Epoch 5/20\n",
            "63/63 [==============================] - 2s 38ms/step - loss: 1.0491 - accuracy: 0.7360 - val_loss: 1.3361 - val_accuracy: 0.6690\n",
            "Epoch 6/20\n",
            "63/63 [==============================] - 2s 29ms/step - loss: 0.9491 - accuracy: 0.7645 - val_loss: 1.3181 - val_accuracy: 0.6980\n",
            "Epoch 7/20\n",
            "63/63 [==============================] - 2s 28ms/step - loss: 0.8610 - accuracy: 0.7866 - val_loss: 1.3243 - val_accuracy: 0.7180\n",
            "Epoch 8/20\n",
            "63/63 [==============================] - 2s 29ms/step - loss: 0.7895 - accuracy: 0.8076 - val_loss: 1.3727 - val_accuracy: 0.7040\n",
            "Epoch 9/20\n",
            "63/63 [==============================] - 1s 19ms/step - loss: 0.7290 - accuracy: 0.8212 - val_loss: 1.3756 - val_accuracy: 0.7170\n",
            "Epoch 10/20\n",
            "63/63 [==============================] - 2s 39ms/step - loss: 0.6755 - accuracy: 0.8343 - val_loss: 1.4051 - val_accuracy: 0.7230\n",
            "Epoch 11/20\n",
            "63/63 [==============================] - 2s 28ms/step - loss: 0.6331 - accuracy: 0.8430 - val_loss: 1.4388 - val_accuracy: 0.7180\n",
            "Epoch 12/20\n",
            "63/63 [==============================] - 4s 58ms/step - loss: 0.5888 - accuracy: 0.8503 - val_loss: 1.5053 - val_accuracy: 0.7210\n",
            "Epoch 13/20\n",
            "63/63 [==============================] - 2s 29ms/step - loss: 0.5578 - accuracy: 0.8603 - val_loss: 1.5672 - val_accuracy: 0.7180\n",
            "Epoch 14/20\n",
            "63/63 [==============================] - 2s 26ms/step - loss: 0.5249 - accuracy: 0.8648 - val_loss: 1.6125 - val_accuracy: 0.7200\n",
            "Epoch 15/20\n",
            "63/63 [==============================] - 1s 19ms/step - loss: 0.4999 - accuracy: 0.8717 - val_loss: 1.6879 - val_accuracy: 0.7110\n",
            "Epoch 16/20\n",
            "63/63 [==============================] - 2s 35ms/step - loss: 0.4765 - accuracy: 0.8720 - val_loss: 1.7213 - val_accuracy: 0.7150\n",
            "Epoch 17/20\n",
            "63/63 [==============================] - 2s 31ms/step - loss: 0.4555 - accuracy: 0.8775 - val_loss: 1.7818 - val_accuracy: 0.7140\n",
            "Epoch 18/20\n",
            "63/63 [==============================] - 2s 24ms/step - loss: 0.4365 - accuracy: 0.8812 - val_loss: 1.8552 - val_accuracy: 0.7060\n",
            "Epoch 19/20\n",
            "63/63 [==============================] - 1s 21ms/step - loss: 0.4194 - accuracy: 0.8870 - val_loss: 1.9281 - val_accuracy: 0.6990\n",
            "Epoch 20/20\n",
            "63/63 [==============================] - 2s 30ms/step - loss: 0.4031 - accuracy: 0.8921 - val_loss: 1.9518 - val_accuracy: 0.7100\n"
          ]
        },
        {
          "output_type": "execute_result",
          "data": {
            "text/plain": [
              "<keras.callbacks.History at 0x7f2f81030090>"
            ]
          },
          "metadata": {},
          "execution_count": 33
        }
      ],
      "source": [
        "model = models.Sequential()\n",
        "model.add(layers.Dense(64, activation='relu', input_shape=(10000,)))\n",
        "model.add(layers.Dense(4, activation='relu'))\n",
        "model.add(layers.Dense(46, activation='softmax'))\n",
        "\n",
        "model.compile(optimizer='rmsprop',\n",
        "              loss='categorical_crossentropy',\n",
        "              metrics=['accuracy'])\n",
        "model.fit(partial_x_train,\n",
        "          partial_y_train,\n",
        "          epochs=20,\n",
        "          batch_size=128,\n",
        "          validation_data=(x_val, y_val))"
      ]
    },
    {
      "cell_type": "markdown",
      "source": [
        "<p dir=\"rtl\" align=\"justify\">\n",
        "<font face=\"homa\">\n",
        "در این شرایط دقت اعتبارسنجی مدل تقریباً 71 درصد است، یعنی 8 درصد کاهش داشته است. این کاهش بیشتر به خاطر این واقعیت است که اطلاعات بسیار زیادی (اطلاعاتی که برای تفکیک فضای حالت 46 کلاس کافی باشند) در یک فضای میانی با ابعاد بسیار پایین فشرده می‌شوند. شبکه این توانایی را دارد که اکثر اطلاعات ضروری را به صورت بازنمایی‌های ۴ بعدی فشرده کند، اما نه همه آن‌ها را.\n",
        "<br>"
      ],
      "metadata": {
        "id": "jL5OkkGhOumh"
      }
    },
    {
      "cell_type": "markdown",
      "source": [
        "<p dir=\"rtl\" align=\"right\">\n",
        "<font size=\"+2\" face=\"homa\">\n",
        "  <b>\n",
        "آزمایش‌های بیشتر\n",
        "  <br><br>\n",
        "  <font size=\"+1\" face=\"homa\">\n",
        "  </b>\n",
        "\n",
        "<hr>\n",
        "\n",
        "<p dir=\"rtl\" align=\"justify\">\n",
        "<font face=\"homa\">\n",
        "*\tاستفاده از لایه‌های بزرگ‌تر یا کوچک‌تر را امتحان کنید: 32 واحدی، 128 واحدی و الی‌آخر\n",
        "<br>\n",
        "*\tاستفاده از یک یا سه لایه پنهان را امتحان کنید.\n",
        "<br>\n"
      ],
      "metadata": {
        "id": "Tr2sTHIyOxTf"
      }
    },
    {
      "cell_type": "markdown",
      "source": [
        "<p dir=\"rtl\" align=\"right\">\n",
        "<font size=\"+2\" face=\"homa\">\n",
        "  <b>\n",
        "جمع‌بندی\n",
        "  <br><br>\n",
        "  <font size=\"+1\" face=\"homa\">\n",
        "  </b>\n",
        "\n",
        "<hr>\n",
        "\n",
        "<p dir=\"rtl\" align=\"justify\">\n",
        "<font face=\"homa\">\n",
        "مواردی که باید از این مثال بیاموزید به شرح زیر است:\n",
        "<br>\n",
        "*\tاگر می‌خواهید یک مسئله N کلاسی را حل کنید، شبکه شما باید یک‌لایه Dense انتهایی با اندازه N داشته باشد.\n",
        "<br>\n",
        "*\tدر یک مسئله دسته‌بندی چند کلاسی و تک برچسبی، شبکه باید با فعال‌سازی softmax خاتمه یابد که خروجی آن عبارت است از توزیع احتمال برای تمامی N کلاس‌ خروجی.\n",
        "<br>\n",
        "*\tتابع آنتروپی متقابل دسته‌ای تقریباً همیشه تابع هزینه مورد استفاده در چنین مسائلی است. این تابع، فاصله بین توزیع احتمال خروجی شبکه را با توزیع حقیقی خروجی‌ها به حداقل می‌رساند.\n",
        "<br>\n",
        "*\tبرای کار با برچسب‌ها در دسته‌بندی چند کلاسی از دو روش زیر می‌توان استفاده کرد:\n",
        "<br>\n",
        "o\tکدگذاری برچسب‌ها از طریق کدگذاری دسته‌ای (که کدگذاری تک-یک نیز نامیده می‌شود) و استفاده از categorical-crossentropy به عنوان تابع هزینه.\n",
        "<br>\n",
        "o\tکدگذاری برچسب‌ها به عنوان اعداد صحیح و استفاده از تابع هزینه sparse_categorical_crossentropy.\n",
        "<br>\n",
        "*\tدر صورتی که لازم است داده‌ها را در گروه‌های متعددی دسته‌بندی کنید، باید از ایجاد گلوگاه‌های اطلاعات در شبکه، به‌واسطه لایه‌های میانی بسیار کوچک، اجتناب کنید."
      ],
      "metadata": {
        "id": "y4keGpWTOzGP"
      }
    }
  ],
  "metadata": {
    "kernelspec": {
      "display_name": "Python 3",
      "language": "python",
      "name": "python3"
    },
    "language_info": {
      "codemirror_mode": {
        "name": "ipython",
        "version": 3
      },
      "file_extension": ".py",
      "mimetype": "text/x-python",
      "name": "python",
      "nbconvert_exporter": "python",
      "pygments_lexer": "ipython3",
      "version": "3.5.2"
    },
    "colab": {
      "name": "3.6-classifying-newswires.ipynb",
      "provenance": []
    }
  },
  "nbformat": 4,
  "nbformat_minor": 0
}