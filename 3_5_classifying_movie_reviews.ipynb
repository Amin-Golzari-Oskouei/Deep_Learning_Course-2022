{
  "cells": [
    {
      "cell_type": "code",
      "execution_count": 1,
      "metadata": {
        "colab": {
          "base_uri": "https://localhost:8080/",
          "height": 35
        },
        "id": "9gr5BdQddB4X",
        "outputId": "9b17e144-bd25-4c24-c54b-ed6ea282f02e"
      },
      "outputs": [
        {
          "output_type": "execute_result",
          "data": {
            "text/plain": [
              "'2.8.0'"
            ],
            "application/vnd.google.colaboratory.intrinsic+json": {
              "type": "string"
            }
          },
          "metadata": {},
          "execution_count": 1
        }
      ],
      "source": [
        "import keras\n",
        "keras.__version__"
      ]
    },
    {
      "cell_type": "markdown",
      "source": [
        "<p dir=\"rtl\" align=\"right\">\n",
        "<font size=\"+2\" face=\"homa\">\n",
        "  <b>\n",
        "  دسته‌بندی نظرات کاربران در مورد فیلم‌ها: مثال دسته‌بندی دودویی \n",
        "  <br><br>\n",
        "  <font size=\"+1\" face=\"homa\">\n",
        "  فصل ۳ قسمت ۵ \n",
        "  </b>\n",
        "\n",
        "<hr>\n",
        "\n",
        "<p dir=\"rtl\" align=\"justify\">\n",
        "<font face=\"homa\">\n",
        "دسته‌بندی دو کلاسی یا دودویی احتمالاً پرکاربردترین مسئله یادگیری ماشین است. در این مثال، دسته‌بندی نظرات کاربران در دو گروه نظر مثبت یا منفی را فرا خواهید گرفت. \n",
        "<br>\n",
        "  <b>\n",
        "مجموعه ‌داده IMDB\n",
        "  </b>\n",
        "<br>\n",
        "در این مثال با مجموعه ‌داده IMDB کار خواهیم کرد که مجموعه‌ای از 50 هزار نظر منفی یا مثبت از پایگاه داده IMDB است. این مجموعه به 25 هزار نظر برای آموزش و 25 هزار نظر برای آزمایش تقسیم شده است و هر مجموعه حاوی 50 درصد نظر مثبت و 50 درصد نظر منفی است.\n",
        "<br>\n",
        " دلیل استفاده از مجموعه‌های جداگانه آموزش و آزمایش چیست؟ چون هرگز نباید برای بررسی کارایی یک مدل یادگیری ماشین از داده‌هایی استفاده کنید که قبلاً توسط آن‌ها آموزش انجام ‌شده است! چراکه عملکرد خوب یک مدل روی داده‌های آموزش‌دیده لزوماً بدین معنی نیست که روی داده‌هایی که هرگز ندیده است نیز همین عملکرد را خواهد داشت و از طرفی آنچه مهم است عملکرد خوب مدل روی داده‌های جدید است. (واضح است که ما برچسب داده‌های آموزشی را داریم و نیازی نیست که مدل آن‌ها را پیش‌بینی کند). به عنوان مثال، این احتمال وجود دارد که مدل تنها نگاشت بین نمونه‌های آموزشی و خروجی متناظر با آن‌ها را به خاطر سپرده باشد، در این صورت نخواهد توانست خروجی مورد انتظار داده‌هایی را که هرگز ندیده است پیش‌بینی کند. در فصل بعدی، این نکته را با جزییات بیشتری توضیح خواهیم داد.\n",
        " <br>\n",
        "مجموعه ‌داده IMDB هم مثل مجموعه ‌داده MNIST، در پکیج کراس  موجود بوده و از قبل پیش‌پردازش شده است: نظرات (دنباله از کلمات) به دنباله‌ای از اعداد صحیح تبدیل‌شده‌اند که در آن هر عدد صحیح نشان‌گر یک کلمه بخصوص در لغت‌نامه است.\n",
        "<br>\n",
        "کد زیر، مجموعه ‌داده را بارگذاری خواهد کرد (زمانی که برای اولین بار آن‌ها را اجرا می‌کنید، حدود 80 مگابایت (MB) از داده‌ها از وب روی کامپیوتر شما دانلود خواهد شد).\n"
      ],
      "metadata": {
        "id": "OTa_fwXIdx8y"
      }
    },
    {
      "cell_type": "code",
      "execution_count": 2,
      "metadata": {
        "colab": {
          "base_uri": "https://localhost:8080/"
        },
        "id": "NZu4I5mjdB4b",
        "outputId": "6c4144d0-06d7-4b11-d1cd-33e077ea034a"
      },
      "outputs": [
        {
          "output_type": "stream",
          "name": "stdout",
          "text": [
            "Downloading data from https://storage.googleapis.com/tensorflow/tf-keras-datasets/imdb.npz\n",
            "17465344/17464789 [==============================] - 0s 0us/step\n",
            "17473536/17464789 [==============================] - 0s 0us/step\n"
          ]
        }
      ],
      "source": [
        "from keras.datasets import imdb\n",
        "\n",
        "(train_data, train_labels), (test_data, test_labels) = imdb.load_data(num_words=10000)"
      ]
    },
    {
      "cell_type": "markdown",
      "source": [
        "<p dir=\"rtl\" align=\"justify\">\n",
        "<font face=\"homa\">\n",
        "آرگومان num_words=10000 به این معنی است که فقط از ده هزار کلمه‌ای که فراوانی تکرار آن‌ها بیشتر است در داده‌های آموزشی استفاده شده و کلمات نادر حذف می‌شوند. بدین ترتیب، مصرف حافظه داده‌های برداری مورد استفاده از حد مشخصی فراتر نخواهد رفت.\n",
        "<br><br>\n",
        "متغیرهای train_data و test_data لیست نظرات هستند؛ هر نظر در حقیقت لیستی از اندیس کلمات است (و از این طریق دنباله‌ای از کلمات را کدگذاری می‌کنند). train_labels و test_labels لیست‌هایی از 0 و 1 هستند که در آن 0 نمود نظر منفی و 1 نمود نظر مثبت است:"
      ],
      "metadata": {
        "id": "l-0FubOEg5nf"
      }
    },
    {
      "cell_type": "code",
      "execution_count": 3,
      "metadata": {
        "colab": {
          "base_uri": "https://localhost:8080/"
        },
        "id": "7Std3AVZdB4c",
        "outputId": "a7259780-014d-43bd-ad29-a92836215981"
      },
      "outputs": [
        {
          "output_type": "execute_result",
          "data": {
            "text/plain": [
              "[1,\n",
              " 14,\n",
              " 22,\n",
              " 16,\n",
              " 43,\n",
              " 530,\n",
              " 973,\n",
              " 1622,\n",
              " 1385,\n",
              " 65,\n",
              " 458,\n",
              " 4468,\n",
              " 66,\n",
              " 3941,\n",
              " 4,\n",
              " 173,\n",
              " 36,\n",
              " 256,\n",
              " 5,\n",
              " 25,\n",
              " 100,\n",
              " 43,\n",
              " 838,\n",
              " 112,\n",
              " 50,\n",
              " 670,\n",
              " 2,\n",
              " 9,\n",
              " 35,\n",
              " 480,\n",
              " 284,\n",
              " 5,\n",
              " 150,\n",
              " 4,\n",
              " 172,\n",
              " 112,\n",
              " 167,\n",
              " 2,\n",
              " 336,\n",
              " 385,\n",
              " 39,\n",
              " 4,\n",
              " 172,\n",
              " 4536,\n",
              " 1111,\n",
              " 17,\n",
              " 546,\n",
              " 38,\n",
              " 13,\n",
              " 447,\n",
              " 4,\n",
              " 192,\n",
              " 50,\n",
              " 16,\n",
              " 6,\n",
              " 147,\n",
              " 2025,\n",
              " 19,\n",
              " 14,\n",
              " 22,\n",
              " 4,\n",
              " 1920,\n",
              " 4613,\n",
              " 469,\n",
              " 4,\n",
              " 22,\n",
              " 71,\n",
              " 87,\n",
              " 12,\n",
              " 16,\n",
              " 43,\n",
              " 530,\n",
              " 38,\n",
              " 76,\n",
              " 15,\n",
              " 13,\n",
              " 1247,\n",
              " 4,\n",
              " 22,\n",
              " 17,\n",
              " 515,\n",
              " 17,\n",
              " 12,\n",
              " 16,\n",
              " 626,\n",
              " 18,\n",
              " 2,\n",
              " 5,\n",
              " 62,\n",
              " 386,\n",
              " 12,\n",
              " 8,\n",
              " 316,\n",
              " 8,\n",
              " 106,\n",
              " 5,\n",
              " 4,\n",
              " 2223,\n",
              " 5244,\n",
              " 16,\n",
              " 480,\n",
              " 66,\n",
              " 3785,\n",
              " 33,\n",
              " 4,\n",
              " 130,\n",
              " 12,\n",
              " 16,\n",
              " 38,\n",
              " 619,\n",
              " 5,\n",
              " 25,\n",
              " 124,\n",
              " 51,\n",
              " 36,\n",
              " 135,\n",
              " 48,\n",
              " 25,\n",
              " 1415,\n",
              " 33,\n",
              " 6,\n",
              " 22,\n",
              " 12,\n",
              " 215,\n",
              " 28,\n",
              " 77,\n",
              " 52,\n",
              " 5,\n",
              " 14,\n",
              " 407,\n",
              " 16,\n",
              " 82,\n",
              " 2,\n",
              " 8,\n",
              " 4,\n",
              " 107,\n",
              " 117,\n",
              " 5952,\n",
              " 15,\n",
              " 256,\n",
              " 4,\n",
              " 2,\n",
              " 7,\n",
              " 3766,\n",
              " 5,\n",
              " 723,\n",
              " 36,\n",
              " 71,\n",
              " 43,\n",
              " 530,\n",
              " 476,\n",
              " 26,\n",
              " 400,\n",
              " 317,\n",
              " 46,\n",
              " 7,\n",
              " 4,\n",
              " 2,\n",
              " 1029,\n",
              " 13,\n",
              " 104,\n",
              " 88,\n",
              " 4,\n",
              " 381,\n",
              " 15,\n",
              " 297,\n",
              " 98,\n",
              " 32,\n",
              " 2071,\n",
              " 56,\n",
              " 26,\n",
              " 141,\n",
              " 6,\n",
              " 194,\n",
              " 7486,\n",
              " 18,\n",
              " 4,\n",
              " 226,\n",
              " 22,\n",
              " 21,\n",
              " 134,\n",
              " 476,\n",
              " 26,\n",
              " 480,\n",
              " 5,\n",
              " 144,\n",
              " 30,\n",
              " 5535,\n",
              " 18,\n",
              " 51,\n",
              " 36,\n",
              " 28,\n",
              " 224,\n",
              " 92,\n",
              " 25,\n",
              " 104,\n",
              " 4,\n",
              " 226,\n",
              " 65,\n",
              " 16,\n",
              " 38,\n",
              " 1334,\n",
              " 88,\n",
              " 12,\n",
              " 16,\n",
              " 283,\n",
              " 5,\n",
              " 16,\n",
              " 4472,\n",
              " 113,\n",
              " 103,\n",
              " 32,\n",
              " 15,\n",
              " 16,\n",
              " 5345,\n",
              " 19,\n",
              " 178,\n",
              " 32]"
            ]
          },
          "metadata": {},
          "execution_count": 3
        }
      ],
      "source": [
        "train_data[0]"
      ]
    },
    {
      "cell_type": "code",
      "execution_count": 4,
      "metadata": {
        "colab": {
          "base_uri": "https://localhost:8080/"
        },
        "id": "C24y3DM9dB4c",
        "outputId": "cf705d05-eee3-487b-8683-023ac336a4b9"
      },
      "outputs": [
        {
          "output_type": "execute_result",
          "data": {
            "text/plain": [
              "1"
            ]
          },
          "metadata": {},
          "execution_count": 4
        }
      ],
      "source": [
        "train_labels[0]"
      ]
    },
    {
      "cell_type": "markdown",
      "source": [
        "<p dir=\"rtl\" align=\"justify\">\n",
        "<font face=\"homa\">\n",
        "از آنجایی ‌که مجموعه ‌داده را به 10 هزار کلمه پرتکرار محدود کردیم، هیچ‌کدام از اندیس‌های کلمه بزرگ‌تر از 10 هزار نخواهند بود:\n",
        "<br><br>\n"
      ],
      "metadata": {
        "id": "MxTWuAg_hRIn"
      }
    },
    {
      "cell_type": "code",
      "execution_count": 5,
      "metadata": {
        "colab": {
          "base_uri": "https://localhost:8080/"
        },
        "id": "hji9o3YGdB4d",
        "outputId": "b22e6b29-8cca-4a81-90fe-021a9931817c"
      },
      "outputs": [
        {
          "output_type": "execute_result",
          "data": {
            "text/plain": [
              "9999"
            ]
          },
          "metadata": {},
          "execution_count": 5
        }
      ],
      "source": [
        "max([max(sequence) for sequence in train_data])"
      ]
    },
    {
      "cell_type": "markdown",
      "source": [
        "<p dir=\"rtl\" align=\"justify\">\n",
        "<font face=\"homa\">\n",
        "برای فهم بیشتر، در ادامه نحوه کدگشایی سریع یکی از این نظرات و تبدیل آن به کلمات انگلیسی را نشان داده‌ایم:\n",
        "<br><br>\n"
      ],
      "metadata": {
        "id": "VBwRJmj2haE3"
      }
    },
    {
      "cell_type": "code",
      "execution_count": 6,
      "metadata": {
        "collapsed": true,
        "colab": {
          "base_uri": "https://localhost:8080/"
        },
        "id": "-S3UA3HhdB4d",
        "outputId": "2d4380d9-a5c8-4747-9645-aa5b31523bd1"
      },
      "outputs": [
        {
          "output_type": "stream",
          "name": "stdout",
          "text": [
            "Downloading data from https://storage.googleapis.com/tensorflow/tf-keras-datasets/imdb_word_index.json\n",
            "1646592/1641221 [==============================] - 0s 0us/step\n",
            "1654784/1641221 [==============================] - 1s 0us/step\n"
          ]
        }
      ],
      "source": [
        "# word_index is a dictionary mapping words to an integer index\n",
        "word_index = imdb.get_word_index()\n",
        "# We reverse it, mapping integer indices to words\n",
        "reverse_word_index = dict([(value, key) for (key, value) in word_index.items()])\n",
        "# We decode the review; note that our indices were offset by 3\n",
        "# because 0, 1 and 2 are reserved indices for \"padding\", \"start of sequence\", and \"unknown\".\n",
        "decoded_review = ' '.join([reverse_word_index.get(i - 3, '?') for i in train_data[0]])"
      ]
    },
    {
      "cell_type": "code",
      "execution_count": 7,
      "metadata": {
        "colab": {
          "base_uri": "https://localhost:8080/",
          "height": 87
        },
        "id": "CwyUeLkIdB4e",
        "outputId": "3c24c5ee-b5a9-46b2-c25c-5479cefe9e44"
      },
      "outputs": [
        {
          "output_type": "execute_result",
          "data": {
            "text/plain": [
              "\"? this film was just brilliant casting location scenery story direction everyone's really suited the part they played and you could just imagine being there robert ? is an amazing actor and now the same being director ? father came from the same scottish island as myself so i loved the fact there was a real connection with this film the witty remarks throughout the film were great it was just brilliant so much that i bought the film as soon as it was released for ? and would recommend it to everyone to watch and the fly fishing was amazing really cried at the end it was so sad and you know what they say if you cry at a film it must have been good and this definitely was also ? to the two little boy's that played the ? of norman and paul they were just brilliant children are often left out of the ? list i think because the stars that play them all grown up are such a big profile for the whole film but these children are amazing and should be praised for what they have done don't you think the whole story was so lovely because it was true and was someone's life after all that was shared with us all\""
            ],
            "application/vnd.google.colaboratory.intrinsic+json": {
              "type": "string"
            }
          },
          "metadata": {},
          "execution_count": 7
        }
      ],
      "source": [
        "decoded_review"
      ]
    },
    {
      "cell_type": "markdown",
      "source": [
        "<p dir=\"rtl\" align=\"right\">\n",
        "<font size=\"+2\" face=\"homa\">\n",
        "  <b>\n",
        "آماده‌سازی داده‌ها \n",
        "  <br><br>\n",
        "  <font size=\"+1\" face=\"homa\">\n",
        "  </b>\n",
        "\n",
        "<hr>\n",
        "\n",
        "<p dir=\"rtl\" align=\"justify\">\n",
        "<font face=\"homa\">\n",
        "ورودی شبکه عصبی نمی‌تواند از نوع لیست باشد؛ در نتیجه لیست‌های ورودی باید به تنسور تبدیل شوند. دو روش برای انجام این کار وجود دارد:\n",
        "<br>\n",
        "*\t یکسان‌سازی طول لیست‌ها با استفاده از پدینگ، تبدیل آن‌ها را به تنسوری از اعداد صحیح با شکل (samples, word_indices) و در انتها طراحی لایه اول شبکه به گونه‌ای که توانایی دریافت چنین تنسوری از اعداد صحیح را داشته باشد. (لایه Embedding که در این کتاب به طور تفصیلی توضیح داده خواهد شد).\n",
        "<br>\n",
        "*\t کدگذاری لیست‌ها به صورت تک-یک  تا به بردارهای متشکل از 0 و 1 تغییر یابند؛ یعنی، به عنوان مثال، تغییر دنباله [3, 5] به بردارهای ده هزار بعدی که همه آن‌ها 0 هستند، به‌استثنای اندیس‌های 3 و 5 که ۱ خواهند بود. بدین ترتیب، می‌توان یک‌لایه متراکم را به عنوان اولین لایه شبکه به کار برد که قابلیت کار روی داده‌های برداری از نوع float  را دارد.\n",
        " <br>\n",
        "حال، با استفاده از راه‌حل دوم می‌خواهیم داده‌ها را برداری کنیم که برای وضوح بیشتر، الگوریتم کدگذاری را به صورت دستی انجام می‌دهیم و از کدهای آماده استفاده نمی‌کنیم.\n"
      ],
      "metadata": {
        "id": "gC8WNvpLhnEW"
      }
    },
    {
      "cell_type": "code",
      "execution_count": 8,
      "metadata": {
        "collapsed": true,
        "id": "rxcTwB3EdB4e"
      },
      "outputs": [],
      "source": [
        "import numpy as np\n",
        "\n",
        "def vectorize_sequences(sequences, dimension=10000):\n",
        "    # Create an all-zero matrix of shape (len(sequences), dimension)\n",
        "    results = np.zeros((len(sequences), dimension))\n",
        "    for i, sequence in enumerate(sequences):\n",
        "        results[i, sequence] = 1.  # set specific indices of results[i] to 1s\n",
        "    return results\n",
        "\n",
        "# Our vectorized training data\n",
        "x_train = vectorize_sequences(train_data)\n",
        "# Our vectorized test data\n",
        "x_test = vectorize_sequences(test_data)"
      ]
    },
    {
      "cell_type": "markdown",
      "source": [
        "<p dir=\"rtl\" align=\"justify\">\n",
        "<font face=\"homa\">\n",
        "نمونه‌ها اکنون به صورت زیر هستند:\n",
        "<br><br>\n"
      ],
      "metadata": {
        "id": "mJMstVq9i4lE"
      }
    },
    {
      "cell_type": "code",
      "execution_count": 9,
      "metadata": {
        "colab": {
          "base_uri": "https://localhost:8080/"
        },
        "id": "zJHeL9_CdB4f",
        "outputId": "da7809a0-6dfb-46dc-eda3-b7d0ef8ebd76"
      },
      "outputs": [
        {
          "output_type": "execute_result",
          "data": {
            "text/plain": [
              "array([0., 1., 1., ..., 0., 0., 0.])"
            ]
          },
          "metadata": {},
          "execution_count": 9
        }
      ],
      "source": [
        "x_train[0]"
      ]
    },
    {
      "cell_type": "markdown",
      "source": [
        "<p dir=\"rtl\" align=\"justify\">\n",
        "<font face=\"homa\">\n",
        "همچنین باید برچسب‌ها را به صورت برداری تبدیل کنیم که به راحتی قابل انجام است:\n",
        "<br><br>"
      ],
      "metadata": {
        "id": "4V3jGsf4jAMd"
      }
    },
    {
      "cell_type": "code",
      "execution_count": 10,
      "metadata": {
        "collapsed": true,
        "id": "NEl-z2OSdB4f"
      },
      "outputs": [],
      "source": [
        "# Our vectorized labels\n",
        "y_train = np.asarray(train_labels).astype('float32')\n",
        "y_test = np.asarray(test_labels).astype('float32')"
      ]
    },
    {
      "cell_type": "markdown",
      "source": [
        "<p dir=\"rtl\" align=\"justify\">\n",
        "<font face=\"homa\">\n",
        "حالا داده‌ها برای وارد کردن به شبکه عصبی آماده هستند.\n",
        "<br><br>"
      ],
      "metadata": {
        "id": "QQlpFsywjFO7"
      }
    },
    {
      "cell_type": "markdown",
      "source": [
        "<p dir=\"rtl\" align=\"right\">\n",
        "<font size=\"+2\" face=\"homa\">\n",
        "  <b>\n",
        "ساخت شبکه\n",
        "  <br><br>\n",
        "  <font size=\"+1\" face=\"homa\">\n",
        "  </b>\n",
        "\n",
        "<hr>\n",
        "\n",
        "<p dir=\"rtl\" align=\"justify\">\n",
        "<font face=\"homa\">\n",
        "نمونه‌های ورودی، بردار و برچسب‌ها، اسکالر هستند (1s و 0s): این ساده‌ترین مثال ممکن است. نوع شبکه‌ای که روی چنین مسئله‌ای خوب عمل می‌کند، دنباله‌ای از لایه‌های تمام متصل (Dense) با فعال‌سازی‌های relu است:\n",
        "<br>\n",
        " Dense(16, activation='relu').\n",
        "<br>\n",
        "آرگومانی که در هنگام تعریف هر لایه متراکم (Dense) مشخص می‌شود (در اینجا عدد 16) تعداد واحدهای پنهان آن لایه است. هر واحد پنهان یک بعد در فضای بازنمایی لایه است. از فصل دو به خاطر دارید که هر لایه Dense با فعال‌سازی relu عملیات‌ تنسوری زیر را پیاده‌سازی می‌کند:\n",
        "<br>\n",
        "output = relu(dot(W, input) + b)\n",
        "<br>\n",
        "داشتن 16 واحد پنهان به معنای ماتریس وزن W با شکل (input_dimension, 16) است: ضرب نقطه‌ای با W، نمونه‌های ورودی را به فضای بازنمایی شده 16 بعدی نگاشت می¬کند (سپس، بردار بایاس b به نتیجه اضافه شده و عملیات relu روی نتیجه اعمال می‌شود). وابستگی فضای بازنمایی به تعداد بعد مشخص‌شده را می‌توانید با این پرسش که «هنگام یادگیری بازنمایی‌ها، چقدر به شبکه آزادی عمل می‌دهید»، درک کنید. داشتن واحدهای پنهان بیشتر (فضای بازنمایی با ابعاد بزرگ‌تر) به شبکه این امکان را می‌دهد که بازنمایی پیچیده‌تری را یاد بگیرد؛ اما از نظر محاسباتی شبکه را بسیار پرهزینه می‌کند و ممکن است به یادگیری الگوهای ناخواسته منجر شود (الگوهایی که کارایی شبکه را روی داده‌های آموزشی بهبود می‌دهد اما تأثیری روی داده‌های آزمایش نخواهد داشت).\n",
        " <br>\n",
        "در خصوص نحوه چینش لایه‌های Dense دو مسئله مهم وجود دارد:\n",
        " <br>\n",
        "*\tتعداد لایه‌های مورد استفاده\n",
        " <br>\n",
        "*\tانتخاب تعداد واحدهای پنهان برای هر لایه\n",
        " <br>\n",
        "در فصل 4، اصول لازم برای اتخاذ این تصمیم‌ها را یاد خواهید گرفت: در حال حاضر، باید در انتخاب معماری از روش زیر استفاده \n",
        "کنید:\n",
        " <br>\n",
        "*\tدو لایه میانی که هرکدام 16 واحد پنهان دارند\n",
        " <br>\n",
        "*\tلایه سوم که خروجی آن یک اسکالر است و مشخص‌ کننده پیش‌بینی شبکه از منفی یا مثبت بودن نظر دریافتی است. لایه‌های میانی از relu به عنوان تابع فعال‌سازی استفاده خواهند کرد و لایه نهایی از فعال‌سازی سیگموید  استفاده خواهد کرد تا یک احتمال را به عنوان خروجی تولید کند (عددی بین 0 و 1 که نشان می‌دهد میزان احتمال «1» بودن خروجی این نمونه چقدر است: یا به عبارتی چقدر احتمال دارد که نظر مثبت باشد). relu (واحد یک‌سویه شده خطی ) تابعی است که مقادیر منفی را صفر می‌کند (شکل 3-4)، در حالی ‌که سیگموید مقادیر ورودی را به‌ بازه [0, 1] می‌برد (شکل 3-5) و به همین دلیل به صورت یک خروجی احتمالی قابل تفسیر است.\n",
        "\n"
      ],
      "metadata": {
        "id": "WWqufY3ajN3L"
      }
    },
    {
      "cell_type": "markdown",
      "metadata": {
        "id": "jt_2sORkdB4g"
      },
      "source": [
        "<p dir=\"rtl\" align=\"justify\">\n",
        "<font face=\"homa\">\n",
        "نمای کلی شبکه را نشان می‌دهد. \n",
        "<br><br>\n",
        "\n",
        "![3-layer network](https://s3.amazonaws.com/book.keras.io/img/ch3/3_layer_network.png)"
      ]
    },
    {
      "cell_type": "markdown",
      "source": [
        "<p dir=\"rtl\" align=\"justify\">\n",
        "<font face=\"homa\">\n",
        "در ادامه کد پیاده‌سازی شبکه فوق در کراس ارائه ‌شده است که مشابه با مثال MNIST است.\n",
        "<br><br>"
      ],
      "metadata": {
        "id": "EhwiA0hzlWW4"
      }
    },
    {
      "cell_type": "code",
      "execution_count": 11,
      "metadata": {
        "collapsed": true,
        "id": "jgn5cLYBdB4g"
      },
      "outputs": [],
      "source": [
        "from keras import models\n",
        "from keras import layers\n",
        "\n",
        "model = models.Sequential()\n",
        "model.add(layers.Dense(16, activation='relu', input_shape=(10000,)))\n",
        "model.add(layers.Dense(16, activation='relu'))\n",
        "model.add(layers.Dense(1, activation='sigmoid'))"
      ]
    },
    {
      "cell_type": "markdown",
      "source": [
        "<p dir=\"rtl\" align=\"justify\">\n",
        "<font face=\"homa\">\n",
        "در گام آخر، باید یک تابع هزینه و یک بهینه‌ساز انتخاب شود. از آنجا‌ که با یک مسئله دسته‌بندی دودویی روبرو هستیم و خروجی شبکه‌ یک احتمال است (شبکه با یک ‌لایه یک واحدی با فعال‌ساز سیگموید به پایان برده می‌شود)، بهترین کار استفاده از تابع هزینه آنتروپی متقابل دودویی (binary_crossentropy) است. این تابع تنها انتخاب ممکن نیست: به عنوان مثال می‌توان از میانگین مربعات mean_squared_error)) استفاده کنید؛ اما هنگام کار با مدل‌هایی که خروجی آن‌ها به صورت احتمالی است، آنتروپی متقابل بهترین انتخاب است. آنتروپی متقابل کمیتی است که در حوزه نظریه اطلاعات معرفی ‌شده و فاصله بین توزیع‌های احتمال را اندازه می‌گیرد؛ یا در این مورد، فاصله بین توزیع برچسب‌های حقیقی و پیش‌بینی‌های شما را می‌سنجد.\n",
        "<br>\n",
        "در ادامه مرحله پیکربندی مدل با بهینه‌ساز rmsprop و تابع هزینه binary_crossentropy آمده است. توجه داشته باشید که در طول آموزش معیار دقت نیز گزارش داده می‌شود.\n",
        "<br>"
      ],
      "metadata": {
        "id": "XY61sOaAlmJQ"
      }
    },
    {
      "cell_type": "code",
      "execution_count": 12,
      "metadata": {
        "collapsed": true,
        "id": "kJxxrgAvdB4g"
      },
      "outputs": [],
      "source": [
        "model.compile(optimizer='rmsprop',\n",
        "              loss='binary_crossentropy',\n",
        "              metrics=['accuracy'])"
      ]
    },
    {
      "cell_type": "markdown",
      "source": [
        "<p dir=\"rtl\" align=\"justify\">\n",
        "<font face=\"homa\">\n",
        "علت اینکه می‌توان بهینه‌ساز، تابع هزینه و معیار‌ها را به عنوان رشته تعریف کرد، این است که rmsprop, binary_crossentropy و accuracy بخشی از پکیج کراس هستند. گاهی ممکن است بخواهید پارامترهای بهینه‌ساز را پیکربندی کنید یا یک تابع هزینه سفارشی  را به شبکه معرفی کنید. همان‌طور که در نمونه کد 3-5 نشان داده شده است، مورد اول را می‌توانید با انتخاب کلاس بهینه‌ساز و ارسال آن در قالب آرگومان optimizer انجام دهید. \n",
        "<br>\n"
      ],
      "metadata": {
        "id": "Ykmx9seumA0P"
      }
    },
    {
      "cell_type": "code",
      "execution_count": 14,
      "metadata": {
        "collapsed": true,
        "colab": {
          "base_uri": "https://localhost:8080/"
        },
        "id": "EB1yyYgmdB4h",
        "outputId": "c36b8284-bf9d-420e-d65d-41f8790905dd"
      },
      "outputs": [
        {
          "output_type": "stream",
          "name": "stderr",
          "text": [
            "/usr/local/lib/python3.7/dist-packages/keras/optimizer_v2/rmsprop.py:130: UserWarning: The `lr` argument is deprecated, use `learning_rate` instead.\n",
            "  super(RMSprop, self).__init__(name, **kwargs)\n"
          ]
        }
      ],
      "source": [
        "from tensorflow.keras import optimizers\n",
        "\n",
        "model.compile(optimizer=optimizers.RMSprop(lr=0.001),\n",
        "              loss='binary_crossentropy',\n",
        "              metrics=['accuracy'])"
      ]
    },
    {
      "cell_type": "markdown",
      "source": [
        "<p dir=\"rtl\" align=\"justify\">\n",
        "<font face=\"homa\">\n",
        ". مورد دوم، یعنی ارسال تابع هزینه و معیار سفارشی با مشخص کردن تابع مورد نظر در قالب آرگومان‌ loss و یا metrics قابل انجام است؛ این مورد نیز در نمونه کد 3-6 نشان داده شده است.\n",
        "<br>"
      ],
      "metadata": {
        "id": "tfqCprtTmPhi"
      }
    },
    {
      "cell_type": "code",
      "execution_count": 15,
      "metadata": {
        "collapsed": true,
        "id": "llJJX2h8dB4h"
      },
      "outputs": [],
      "source": [
        "from tensorflow.keras import losses\n",
        "from tensorflow.keras import metrics\n",
        "\n",
        "model.compile(optimizer=optimizers.RMSprop(lr=0.001),\n",
        "              loss=losses.binary_crossentropy,\n",
        "              metrics=[metrics.binary_accuracy])"
      ]
    },
    {
      "cell_type": "markdown",
      "source": [
        "<p dir=\"rtl\" align=\"right\">\n",
        "<font size=\"+2\" face=\"homa\">\n",
        "  <b>\n",
        "ارزیابی و اعتبارسنجی راهکار استفاده‌شده\n",
        "  <br><br>\n",
        "  <font size=\"+1\" face=\"homa\">\n",
        "  </b>\n",
        "\n",
        "<hr>\n",
        "\n",
        "<p dir=\"rtl\" align=\"justify\">\n",
        "<font face=\"homa\">\n",
        "در طول آموزش، به ‌منظور کنترل دقت مدل روی داده‌هایی که هرگز ندیده است، با جدا کردن 10 هزار نمونه از داده‌های آموزشی اصلی، یک مجموعه اعتبارسنجی ایجاد خواهیم کرد.\n",
        "<br>\n"
      ],
      "metadata": {
        "id": "2N6juk_tmfpX"
      }
    },
    {
      "cell_type": "code",
      "execution_count": 16,
      "metadata": {
        "collapsed": true,
        "id": "Kuoc-0fcdB4h"
      },
      "outputs": [],
      "source": [
        "x_val = x_train[:10000]\n",
        "partial_x_train = x_train[10000:]\n",
        "\n",
        "y_val = y_train[:10000]\n",
        "partial_y_train = y_train[10000:]"
      ]
    },
    {
      "cell_type": "markdown",
      "source": [
        "<p dir=\"rtl\" align=\"justify\">\n",
        "<font face=\"homa\">\n",
        "حالا مدل را برای 20 تکرار در زیر دسته‌های متشکل از 512 نمونه آموزش خواهیم داد (20 تکرار روی همه نمونه‌ها در تنسورهای x_train و y_train). در عین ‌حال، خطا و دقت 10 هزار نمونه‌ای نیز گزارش خواهد شد. برای داشتن چنین گزارشی، داده‌های اعتبارسنجی به عنوان آرگومان validation_data ارسال می‌شود.\n",
        "<br>"
      ],
      "metadata": {
        "id": "WXgIrWa7ms2v"
      }
    },
    {
      "cell_type": "code",
      "execution_count": 17,
      "metadata": {
        "colab": {
          "base_uri": "https://localhost:8080/"
        },
        "id": "R06ll7nhdB4i",
        "outputId": "9d6d8d4f-4b9b-43a1-fd57-d63cc589425f"
      },
      "outputs": [
        {
          "output_type": "stream",
          "name": "stdout",
          "text": [
            "Epoch 1/20\n",
            "30/30 [==============================] - 3s 55ms/step - loss: 0.5155 - binary_accuracy: 0.7892 - val_loss: 0.3891 - val_binary_accuracy: 0.8710\n",
            "Epoch 2/20\n",
            "30/30 [==============================] - 1s 35ms/step - loss: 0.3093 - binary_accuracy: 0.9003 - val_loss: 0.3245 - val_binary_accuracy: 0.8720\n",
            "Epoch 3/20\n",
            "30/30 [==============================] - 2s 64ms/step - loss: 0.2252 - binary_accuracy: 0.9275 - val_loss: 0.2777 - val_binary_accuracy: 0.8922\n",
            "Epoch 4/20\n",
            "30/30 [==============================] - 1s 46ms/step - loss: 0.1774 - binary_accuracy: 0.9422 - val_loss: 0.2726 - val_binary_accuracy: 0.8905\n",
            "Epoch 5/20\n",
            "30/30 [==============================] - 1s 43ms/step - loss: 0.1426 - binary_accuracy: 0.9544 - val_loss: 0.2789 - val_binary_accuracy: 0.8882\n",
            "Epoch 6/20\n",
            "30/30 [==============================] - 1s 39ms/step - loss: 0.1174 - binary_accuracy: 0.9635 - val_loss: 0.2955 - val_binary_accuracy: 0.8857\n",
            "Epoch 7/20\n",
            "30/30 [==============================] - 1s 41ms/step - loss: 0.0959 - binary_accuracy: 0.9720 - val_loss: 0.3199 - val_binary_accuracy: 0.8823\n",
            "Epoch 8/20\n",
            "30/30 [==============================] - 2s 57ms/step - loss: 0.0789 - binary_accuracy: 0.9771 - val_loss: 0.3398 - val_binary_accuracy: 0.8783\n",
            "Epoch 9/20\n",
            "30/30 [==============================] - 1s 41ms/step - loss: 0.0666 - binary_accuracy: 0.9823 - val_loss: 0.3581 - val_binary_accuracy: 0.8809\n",
            "Epoch 10/20\n",
            "30/30 [==============================] - 1s 50ms/step - loss: 0.0548 - binary_accuracy: 0.9856 - val_loss: 0.3867 - val_binary_accuracy: 0.8753\n",
            "Epoch 11/20\n",
            "30/30 [==============================] - 1s 42ms/step - loss: 0.0403 - binary_accuracy: 0.9915 - val_loss: 0.4228 - val_binary_accuracy: 0.8760\n",
            "Epoch 12/20\n",
            "30/30 [==============================] - 1s 40ms/step - loss: 0.0346 - binary_accuracy: 0.9929 - val_loss: 0.4413 - val_binary_accuracy: 0.8740\n",
            "Epoch 13/20\n",
            "30/30 [==============================] - 2s 55ms/step - loss: 0.0288 - binary_accuracy: 0.9936 - val_loss: 0.4714 - val_binary_accuracy: 0.8727\n",
            "Epoch 14/20\n",
            "30/30 [==============================] - 1s 44ms/step - loss: 0.0211 - binary_accuracy: 0.9966 - val_loss: 0.5033 - val_binary_accuracy: 0.8713\n",
            "Epoch 15/20\n",
            "30/30 [==============================] - 2s 72ms/step - loss: 0.0158 - binary_accuracy: 0.9980 - val_loss: 0.5589 - val_binary_accuracy: 0.8628\n",
            "Epoch 16/20\n",
            "30/30 [==============================] - 1s 44ms/step - loss: 0.0129 - binary_accuracy: 0.9987 - val_loss: 0.5816 - val_binary_accuracy: 0.8636\n",
            "Epoch 17/20\n",
            "30/30 [==============================] - 2s 74ms/step - loss: 0.0106 - binary_accuracy: 0.9990 - val_loss: 0.6253 - val_binary_accuracy: 0.8670\n",
            "Epoch 18/20\n",
            "30/30 [==============================] - 3s 90ms/step - loss: 0.0058 - binary_accuracy: 0.9998 - val_loss: 0.6425 - val_binary_accuracy: 0.8678\n",
            "Epoch 19/20\n",
            "30/30 [==============================] - 2s 77ms/step - loss: 0.0064 - binary_accuracy: 0.9995 - val_loss: 0.6751 - val_binary_accuracy: 0.8655\n",
            "Epoch 20/20\n",
            "30/30 [==============================] - 2s 61ms/step - loss: 0.0066 - binary_accuracy: 0.9990 - val_loss: 0.7063 - val_binary_accuracy: 0.8649\n"
          ]
        }
      ],
      "source": [
        "history = model.fit(partial_x_train,\n",
        "                    partial_y_train,\n",
        "                    epochs=20,\n",
        "                    batch_size=512,\n",
        "                    validation_data=(x_val, y_val))"
      ]
    },
    {
      "cell_type": "markdown",
      "source": [
        "<p dir=\"rtl\" align=\"justify\">\n",
        "<font face=\"homa\">\n",
        "با استفاده از CPU، این کار کمتر از 2 ثانیه برای هر تکرار طول خواهد کشید (آموزش در طول 20 ثانیه تمام خواهد شد). در پایان هر تکرار، وقفه کوتاهی برای محاسبه دقت روی ده هزار نمونه اعتبارسنجی به وجود خواهد آمد.\n",
        "<br>\n",
        "توجه داشته باشید که فراخواندن model.fit() شی‌ء history را بازمی‌گرداند. این شیء عضوی به نام history دارد که از نوع دیکشنری در پایتون است و حاوی همه اتفاقاتی است که در طول آموزش رخ داده است. محتویات این دیکشنری در زیر آمده است:"
      ],
      "metadata": {
        "id": "DkR0-ILtm12H"
      }
    },
    {
      "cell_type": "code",
      "execution_count": 18,
      "metadata": {
        "colab": {
          "base_uri": "https://localhost:8080/"
        },
        "id": "2JsT3T7gdB4i",
        "outputId": "50868166-8387-4701-e32b-d7611d4291dd"
      },
      "outputs": [
        {
          "output_type": "execute_result",
          "data": {
            "text/plain": [
              "dict_keys(['loss', 'binary_accuracy', 'val_loss', 'val_binary_accuracy'])"
            ]
          },
          "metadata": {},
          "execution_count": 18
        }
      ],
      "source": [
        "history_dict = history.history\n",
        "history_dict.keys()"
      ]
    },
    {
      "cell_type": "markdown",
      "source": [
        "<p dir=\"rtl\" align=\"justify\">\n",
        "<font face=\"homa\">\n",
        "دیکشنری، حاوی 4 بخش است که برای هر معیاری که در طول آموزش و اعتبارسنجی گزارش می‌شود یک بخش در نظر گرفته شده است. در دو نمونه کد زیر برای رسم نمودار خطای اعتبارسنجی و آموزش در کنار همدیگر (شکل 3-7) و نیز دقت اعتبارسنجی و آموزش از Matplotlib استفاده می‌کنیم."
      ],
      "metadata": {
        "id": "lgS_JqOinHx-"
      }
    },
    {
      "cell_type": "code",
      "execution_count": 20,
      "metadata": {
        "colab": {
          "base_uri": "https://localhost:8080/",
          "height": 295
        },
        "id": "D-8vgxJWdB4j",
        "outputId": "344ce6d6-aecb-4217-8e15-832e9428f173"
      },
      "outputs": [
        {
          "output_type": "display_data",
          "data": {
            "text/plain": [
              "<Figure size 432x288 with 1 Axes>"
            ],
            "image/png": "[encoded data removed]"
          },
          "metadata": {
            "needs_background": "light"
          }
        }
      ],
      "source": [
        "import matplotlib.pyplot as plt\n",
        "\n",
        "acc = history.history['binary_accuracy']\n",
        "val_acc = history.history['val_binary_accuracy']\n",
        "loss = history.history['loss']\n",
        "val_loss = history.history['val_loss']\n",
        "\n",
        "epochs = range(1, len(acc) + 1)\n",
        "\n",
        "# \"bo\" is for \"blue dot\"\n",
        "plt.plot(epochs, loss, 'bo', label='Training loss')\n",
        "# b is for \"solid blue line\"\n",
        "plt.plot(epochs, val_loss, 'b', label='Validation loss')\n",
        "plt.title('Training and validation loss')\n",
        "plt.xlabel('Epochs')\n",
        "plt.ylabel('Loss')\n",
        "plt.legend()\n",
        "\n",
        "plt.show()"
      ]
    },
    {
      "cell_type": "code",
      "execution_count": 22,
      "metadata": {
        "colab": {
          "base_uri": "https://localhost:8080/",
          "height": 295
        },
        "id": "0iswT5KpdB4j",
        "outputId": "3456f5c7-0ad5-4930-f14b-c0e750727da3"
      },
      "outputs": [
        {
          "output_type": "display_data",
          "data": {
            "text/plain": [
              "<Figure size 432x288 with 1 Axes>"
            ],
            "image/png": "[encoded data removed]"
          },
          "metadata": {
            "needs_background": "light"
          }
        }
      ],
      "source": [
        "plt.clf()   # clear figure\n",
        "acc_values = history_dict['binary_accuracy']\n",
        "val_acc_values = history_dict['val_binary_accuracy']\n",
        "\n",
        "plt.plot(epochs, acc, 'bo', label='Training acc')\n",
        "plt.plot(epochs, val_acc, 'b', label='Validation acc')\n",
        "plt.title('Training and validation accuracy')\n",
        "plt.xlabel('Epochs')\n",
        "plt.ylabel('Loss')\n",
        "plt.legend()\n",
        "\n",
        "plt.show()"
      ]
    },
    {
      "cell_type": "markdown",
      "source": [
        "<p dir=\"rtl\" align=\"justify\">\n",
        "<font face=\"homa\">\n",
        "همان‌طور که مشاهده می‌کنید، خطای آموزش با هر تکرار کاهش ‌یافته و دقت آن با هر تکرار افزایش می‌یابد. این همان چیزی است که هنگام اجرای بهینه‌سازی گرادیان نزولی انتظارش را داریم. کمیتی که سعی داریم آن را به حداقل برسانیم باید پس از هر تکرار کمتر شود؛ اما در مورد دقت و خطای اعتبارسنجی این‌طور نیست: در تکرار چهارم این مقادیر در خلاف جهت بهبود پیش رفته‌اند. این همان مشکلی است که قبلاً در مورد آن هشدار داده بودیم: مدلی که روی داده‌های آموزشی کارایی خوبی دارد، ضرورتاً در داده‌هایی که هرگز ندیده است عملکرد خوبی نخواهد داشت. به بیان واضح‌تر، چیزی که شاهدش هستید بیشبرازش  است: بعد از تکرار دوم، مدل روی داده‌های آموزشی بیش ‌از حد بهینه می‌شود و نهایتاً بازنمایی‌هایی یاد گرفته می‌شوند که مختص داده‌های آموزشی هستند و به داده‌های خارج از مجموعه آموزشی قابل ‌تعمیم نیستند.\n",
        "<br>\n",
        "در این مثال، برای اجتناب از بیش برازش، می‌توانید آموزش را بعد از سه تکرار متوقف کنید. به طور کلی، می‌توان برای مبارزه با بیش‌برازش از شگردهایی استفاده کرد که در فصل 4 به آن‌ها خواهیم پرداخت.\n",
        "<br>\n",
        "حال می‌خواهیم شبکه جدیدی را از نو برای 4 تکرار آموزش دهیم و سپس روی داده‌های آزمایش ارزیابی کنیم.\n"
      ],
      "metadata": {
        "id": "PJs-dQlinUAe"
      }
    },
    {
      "cell_type": "code",
      "execution_count": 23,
      "metadata": {
        "colab": {
          "base_uri": "https://localhost:8080/"
        },
        "id": "RguFPfyWdB4k",
        "outputId": "2dad8773-1937-455a-8aef-255068f533d8"
      },
      "outputs": [
        {
          "output_type": "stream",
          "name": "stdout",
          "text": [
            "Epoch 1/4\n",
            "49/49 [==============================] - 6s 76ms/step - loss: 0.4688 - accuracy: 0.8222\n",
            "Epoch 2/4\n",
            "49/49 [==============================] - 1s 30ms/step - loss: 0.2731 - accuracy: 0.9076\n",
            "Epoch 3/4\n",
            "49/49 [==============================] - 2s 50ms/step - loss: 0.2071 - accuracy: 0.9268\n",
            "Epoch 4/4\n",
            "49/49 [==============================] - 3s 58ms/step - loss: 0.1724 - accuracy: 0.9397\n",
            "782/782 [==============================] - 3s 3ms/step - loss: 0.3054 - accuracy: 0.8790\n"
          ]
        }
      ],
      "source": [
        "model = models.Sequential()\n",
        "model.add(layers.Dense(16, activation='relu', input_shape=(10000,)))\n",
        "model.add(layers.Dense(16, activation='relu'))\n",
        "model.add(layers.Dense(1, activation='sigmoid'))\n",
        "\n",
        "model.compile(optimizer='rmsprop',\n",
        "              loss='binary_crossentropy',\n",
        "              metrics=['accuracy'])\n",
        "\n",
        "model.fit(x_train, y_train, epochs=4, batch_size=512)\n",
        "results = model.evaluate(x_test, y_test)"
      ]
    },
    {
      "cell_type": "code",
      "execution_count": 24,
      "metadata": {
        "colab": {
          "base_uri": "https://localhost:8080/"
        },
        "id": "WcvPzuUsdB4k",
        "outputId": "199d68ba-9056-467c-ce8a-d4b22cfc247c"
      },
      "outputs": [
        {
          "output_type": "execute_result",
          "data": {
            "text/plain": [
              "[0.3053719401359558, 0.8789600133895874]"
            ]
          },
          "metadata": {},
          "execution_count": 24
        }
      ],
      "source": [
        "results"
      ]
    },
    {
      "cell_type": "markdown",
      "source": [
        "<p dir=\"rtl\" align=\"justify\">\n",
        "<font face=\"homa\">\n",
        "دقت این راهکار کاملاً ساده 88 درصد است. با روش‌های جدید باید بتوانید به 95 درصد نزدیک شوید."
      ],
      "metadata": {
        "id": "0jAtTPgSnqgO"
      }
    },
    {
      "cell_type": "markdown",
      "source": [
        "<p dir=\"rtl\" align=\"right\">\n",
        "<font size=\"+2\" face=\"homa\">\n",
        "  <b>\n",
        "استفاده از شبکه آموزش‌دیده برای پیش‌بینی داده‌های جدید\n",
        "  <br><br>\n",
        "  <font size=\"+1\" face=\"homa\">\n",
        "  </b>\n",
        "\n",
        "<hr>\n",
        "\n",
        "<p dir=\"rtl\" align=\"justify\">\n",
        "<font face=\"homa\">\n",
        "هدف از آموزش یک شبکه استفاده از آن در یک کاربرد است. می‌توان احتمال مثبت بودن نظرات را با استفاده از متد predict پیش‌بینی کرد:\n",
        "<br>\n"
      ],
      "metadata": {
        "id": "086hqgrdn2XV"
      }
    },
    {
      "cell_type": "code",
      "execution_count": 25,
      "metadata": {
        "colab": {
          "base_uri": "https://localhost:8080/"
        },
        "id": "MWV2M3FwdB4l",
        "outputId": "018545d6-535b-4042-aaf2-a7f8e5b21eba"
      },
      "outputs": [
        {
          "output_type": "execute_result",
          "data": {
            "text/plain": [
              "array([[0.2800914 ],\n",
              "       [0.9999199 ],\n",
              "       [0.97938967],\n",
              "       ...,\n",
              "       [0.1465052 ],\n",
              "       [0.10427454],\n",
              "       [0.7076094 ]], dtype=float32)"
            ]
          },
          "metadata": {},
          "execution_count": 25
        }
      ],
      "source": [
        "model.predict(x_test)"
      ]
    },
    {
      "cell_type": "markdown",
      "source": [
        "<p dir=\"rtl\" align=\"justify\">\n",
        "<font face=\"homa\">\n",
        "همان‌طور که مشاهده می‌کنید، شبکه در مورد برخی از نمونه‌ها مطمئن است (99/0 یا بیشتر، یا 01/0 یا کمتر) اما در مورد برخی دیگر اطمینان کمتری دارد (6/0، 4/0)."
      ],
      "metadata": {
        "id": "SMIuVh0goCP8"
      }
    },
    {
      "cell_type": "markdown",
      "source": [
        "<p dir=\"rtl\" align=\"right\">\n",
        "<font size=\"+2\" face=\"homa\">\n",
        "  <b>\n",
        "آزمایش‌های بیشتر\n",
        "  <br><br>\n",
        "  <font size=\"+1\" face=\"homa\">\n",
        "  </b>\n",
        "\n",
        "<hr>\n",
        "\n",
        "<p dir=\"rtl\" align=\"justify\">\n",
        "<font face=\"homa\">\n",
        "به کمک آزمایش‌های زیر می‌توانید اطمینان حاصل کنید انتخاب‌هایی که در مورد معماری شبکه اتخاذ کرده‌اید همگی معقول هستند، با این وجود برخی اصلاحات قابل اعمال هستند:\n",
        "<br>\n",
        "*\t در این مثال از دو لایه پنهان استفاده شد. یک یا سه لایه پنهان را امتحان کنید و تأثیر آن روی دقت مجموعه‌های آزمایش و اعتبارسنجی بررسی کنید.\n",
        "<br>\n",
        "*\tلایه‌هایی با واحدهای پنهان بیشتر یا کمتر را امتحان کنید: 32 واحد، 64 واحد و الی‌آخر.\n",
        "<br>\n",
        "*\tتابع هزینه mse را به‌جای binary_crossentropy امتحان کنید.\n",
        "<br>\n",
        "*\tفعال‌سازی tanh (فعال‌سازی که در روزهای اولیه شبکه‌های عصبی متداول بود) را به‌جای relu امتحان کنید.\n"
      ],
      "metadata": {
        "id": "NhDM_sQBoM_d"
      }
    },
    {
      "cell_type": "markdown",
      "source": [
        "<p dir=\"rtl\" align=\"right\">\n",
        "<font size=\"+2\" face=\"homa\">\n",
        "  <b>\n",
        "جمع‌بندی\n",
        "  <br><br>\n",
        "  <font size=\"+1\" face=\"homa\">\n",
        "  </b>\n",
        "\n",
        "<hr>\n",
        "\n",
        "<p dir=\"rtl\" align=\"justify\">\n",
        "<font face=\"homa\">\n",
        "مواردی که باید از این مثال بیاموزید به شرح زیر است:\n",
        "<br>\n",
        "*\tقبل از اینکه داده‌های خام را به‌ عنوان تنسور به شبکه عصبی وارد کنید، باید آن‌ها را پیش‌پردازش کنید. دنباله‌های کلمات را می‌توان به عنوان بردارهای دودویی کدگذاری کرد، اما گزینه‌های کدگذاری دیگری نیز وجود دارند.\n",
        "<br>\n",
        "*\tدنباله‌ای از لایه‌های Dense با فعال‌سازی‌های relu می‌توانند دامنه گسترده‌ای از مسائل را حل کنند (از جمله دسته‌بندی احساسات) و احتمالاً بارها از آن استفاده خواهید کرد.\n",
        "<br>\n",
        "*\tدر مسئله دسته‌بندی دودویی (دو کلاس خروجی)، شبکه باید با یک‌لایه Dense تک واحدی و تابع فعال‌سازی sigmoid خاتمه یابد: خروجی شبکه باید اسکالری بین 0 و 1 باشد که کدگذاری یک احتمال است.\n",
        "<br>\n",
        "*\tبرای چنین خروجی اسکالری که توسط یک تابع سیگموید روی مسئله دسته‌بندی دودویی تولید شده است، تابع هزینه به کار رفته باید binary_crossentropy باشد.\n",
        "<br>\n",
        "*\tمسئله هر چیزی باشد، بهینه‌ساز rmsprop اغلب انتخاب خوبی است؛ بنابراین، یکی از نگرانی‌هایتان کم می‌شود.\n",
        "<br>\n",
        "*\tشبکه‌های عصبی بعد از اینکه روی داده‌های آموزشی به عملکرد خوبی رسیدند، نهایتاً شروع به بیش برازش می‌کنند که موجب می‌شود روی داده‌هایی که قبلاً ندیده‌اند نتایج خیلی بدتری به دست بیاورند. همیشه گزارشی از دقت شبکه روی داده‌هایی که خارج از مجموعه آموزشی هستند در اختیار داشته باشید.\n",
        "<br>\n"
      ],
      "metadata": {
        "id": "ffFOuYcPoOTt"
      }
    }
  ],
  "metadata": {
    "kernelspec": {
      "display_name": "Python 3",
      "language": "python",
      "name": "python3"
    },
    "language_info": {
      "codemirror_mode": {
        "name": "ipython",
        "version": 3
      },
      "file_extension": ".py",
      "mimetype": "text/x-python",
      "name": "python",
      "nbconvert_exporter": "python",
      "pygments_lexer": "ipython3",
      "version": "3.6.3"
    },
    "colab": {
      "name": "3.5-classifying-movie-reviews.ipynb",
      "provenance": []
    }
  },
  "nbformat": 4,
  "nbformat_minor": 0
}