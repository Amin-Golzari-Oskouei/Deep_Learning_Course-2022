{
  "cells": [
    {
      "cell_type": "markdown",
      "source": [
        "<p dir=\"rtl\" align=\"right\">\n",
        "<font size=\"+2\" face=\"homa\">\n",
        "  <b>\n",
        "تشخیص ماسک\n",
        "  <br>\n",
        "  <font size=\"+1\" face=\"homa\">\n",
        "  </b>\n",
        "\n",
        "<p dir=\"rtl\" align=\"justify\">\n",
        "<font face=\"homa\">\n",
        " ابتدا، با یک مثال عملی شبکه عصبی شروع می‌کنیم که از کتابخانه کراس پایتون برای یادگیری دسته‌بندی افراد با ماسک، بدون ماسک و ماسک نامناسب استفاده می‌کند. \n",
        "\n",
        "<br>\n",
        "مسئله‌ای که می‌خواهیم در اینجا حل کنیم، دسته‌بندی تصاویر RGB   (۱۲۸×۱۲۸ پیکسل) به ۳ دسته (۰ تا ۲) است. ما از مجموعه ‌داده استفاده خواهیم کرد که تصاویر مربوط به دانشجویان دانشگاه شهید مدنی آذربایجان است. \n",
        "<br>\n",
        "0: بدون ماسک\n",
        "<br>\n",
        "1: با ماسک\n",
        "<br>\n",
        "2: ماسک ناقص\n",
        "<br>\n",
        "\n"
      ],
      "metadata": {
        "id": "O2NHZ27R_MoF"
      }
    },
    {
      "cell_type": "markdown",
      "source": [
        "<p dir=\"rtl\" align=\"right\">\n",
        "<font size=\"+2\" face=\"homa\">\n",
        "  <font size=\"+1\" face=\"homa\">\n",
        "\n",
        "\n",
        "<p dir=\"rtl\" align=\"justify\">\n",
        "<font face=\"homa\">\n",
        "<br>\n",
        "هدف از این تمرین این است که شما الگوریتم داده شده را از چندین جهت مورد ارزیابی قرار دهید:\n",
        "<br>\n",
        "1. تعداد لایه های میانی\n",
        "<br>\n",
        "2. اندازه لایه ها یا همان تعداد نورون ها\n",
        "<br>\n",
        "3. تعداد تکرار یا همان تعداد اپک\n",
        "<br>\n",
        "4. اندازه دسته یا همان اندازه بچ\n",
        "<br>\n",
        "توجه داشته باشید که هدف ما این است که روی داده آزمایش به بهترین نتیجه برسیم نه روی داده آموزشی. \n",
        "<br>\n",
        "به دانشجویی که بالاترین دقت را کسب کند نمره بالایی در نظر گرفته خواهد شد\n",
        "<br>\n"
      ],
      "metadata": {
        "id": "eGNTyZ86_ORd"
      }
    },
    {
      "cell_type": "code",
      "execution_count": 13,
      "metadata": {
        "colab": {
          "base_uri": "https://localhost:8080/",
          "height": 35
        },
        "id": "E1O117N5ZwQD",
        "outputId": "df9f9c43-8dec-4f6c-aadb-7eae982e56bc"
      },
      "outputs": [
        {
          "output_type": "execute_result",
          "data": {
            "text/plain": [
              "'2.9.0'"
            ],
            "application/vnd.google.colaboratory.intrinsic+json": {
              "type": "string"
            }
          },
          "metadata": {},
          "execution_count": 13
        }
      ],
      "source": [
        "import keras\n",
        "keras.__version__"
      ]
    },
    {
      "cell_type": "code",
      "source": [
        "import numpy as np\n",
        "import pandas as pd\n",
        "import imageio\n",
        "import random\n",
        "import numpy as np\n",
        "from PIL import Image\n",
        "import os\n",
        "from glob import glob\n",
        "import tensorflow as tf \n",
        "from tensorflow import keras\n",
        "from tensorflow.keras.callbacks import EarlyStopping, ReduceLROnPlateau\n",
        "from tensorflow.keras.layers import Activation, Input, Conv2D, MaxPooling2D, BatchNormalization, Conv2DTranspose, concatenate\n",
        "from tensorflow.keras.models import Model, load_model\n",
        "from sklearn.model_selection import train_test_split\n",
        "from tensorflow.keras.models import Model, load_model\n",
        "from glob import glob\n",
        "import matplotlib.pyplot as plt\n",
        "import warnings"
      ],
      "metadata": {
        "id": "scFnxlMC8KmU"
      },
      "execution_count": 14,
      "outputs": []
    },
    {
      "cell_type": "markdown",
      "source": [
        "<p dir=\"rtl\" align=\"justify\">\n",
        "<font face=\"homa\">\n",
        "خواندن داده از github و خارج کردن داده ها از حالت زیپ:\n",
        "<br><br>\n"
      ],
      "metadata": {
        "id": "an1_8XVP_ihr"
      }
    },
    {
      "cell_type": "code",
      "source": [
        "!wget https://raw.githubusercontent.com/Amin-Golzari-Oskouei/Deep_Learning_Course-2022/main/mask_detection_project.rar\n",
        "!pip install unrar\n",
        "!unrar x /content/Mask_detection_project.rar"
      ],
      "metadata": {
        "id": "NixKt_p6jSQj",
        "colab": {
          "base_uri": "https://localhost:8080/"
        },
        "outputId": "3d9619cf-150b-4135-ff53-ffca487568f7"
      },
      "execution_count": 42,
      "outputs": [
        {
          "output_type": "stream",
          "name": "stdout",
          "text": [
            "--2022-11-22 21:41:07--  https://raw.githubusercontent.com/Amin-Golzari-Oskouei/Deep_Learning_Course-2022/main/mask_detection_project.rar\n",
            "Resolving raw.githubusercontent.com (raw.githubusercontent.com)... 185.199.110.133, 185.199.108.133, 185.199.111.133, ...\n",
            "Connecting to raw.githubusercontent.com (raw.githubusercontent.com)|185.199.110.133|:443... connected.\n",
            "HTTP request sent, awaiting response... 404 Not Found\n",
            "2022-11-22 21:41:07 ERROR 404: Not Found.\n",
            "\n",
            "Looking in indexes: https://pypi.org/simple, https://us-python.pkg.dev/colab-wheels/public/simple/\n",
            "Requirement already satisfied: unrar in /usr/local/lib/python3.7/dist-packages (0.4)\n",
            "\n",
            "UNRAR 5.50 freeware      Copyright (c) 1993-2017 Alexander Roshal\n",
            "\n",
            "\n",
            "Extracting from /content/Mask_detection_project.rar\n",
            "\n",
            "\n",
            "Would you like to replace the existing file mask_detection_project/no_mask/n1.jpg\n",
            "  2522 bytes, modified on 2020-05-22 02:49\n",
            "with a new one\n",
            "  2522 bytes, modified on 2020-05-22 02:49\n",
            "\n",
            "[Y]es, [N]o, [A]ll, n[E]ver, [R]ename, [Q]uit a\n",
            "\n",
            "Extracting  mask_detection_project/no_mask/n1.jpg                        \b\b\b\b  0%\b\b\b\b\b  OK \n",
            "Extracting  mask_detection_project/no_mask/n10.jpg                       \b\b\b\b  0%\b\b\b\b\b  OK \n",
            "Extracting  mask_detection_project/no_mask/n11.jpg                       \b\b\b\b  1%\b\b\b\b\b  OK \n",
            "Extracting  mask_detection_project/no_mask/n12.jpg                       \b\b\b\b  1%\b\b\b\b\b  OK \n",
            "Extracting  mask_detection_project/no_mask/n13.jpg                       \b\b\b\b  1%\b\b\b\b\b  OK \n",
            "Extracting  mask_detection_project/no_mask/n14.jpg                       \b\b\b\b  2%\b\b\b\b\b  OK \n",
            "Extracting  mask_detection_project/no_mask/n15.jpg                       \b\b\b\b  2%\b\b\b\b\b  OK \n",
            "Extracting  mask_detection_project/no_mask/n16.jpg                       \b\b\b\b  2%\b\b\b\b\b  OK \n",
            "Extracting  mask_detection_project/no_mask/n17.jpg                       \b\b\b\b  3%\b\b\b\b\b  OK \n",
            "Extracting  mask_detection_project/no_mask/n18.jpg                       \b\b\b\b  3%\b\b\b\b\b  OK \n",
            "Extracting  mask_detection_project/no_mask/n19.jpg                       \b\b\b\b  3%\b\b\b\b\b  OK \n",
            "Extracting  mask_detection_project/no_mask/n2.jpg                        \b\b\b\b  4%\b\b\b\b\b  OK \n",
            "Extracting  mask_detection_project/no_mask/n20.jpg                       \b\b\b\b  4%\b\b\b\b\b  OK \n",
            "Extracting  mask_detection_project/no_mask/n21.jpg                       \b\b\b\b  5%\b\b\b\b\b  OK \n",
            "Extracting  mask_detection_project/no_mask/n22.jpg                       \b\b\b\b  5%\b\b\b\b\b  OK \n",
            "Extracting  mask_detection_project/no_mask/n23.jpg                       \b\b\b\b  6%\b\b\b\b\b  OK \n",
            "Extracting  mask_detection_project/no_mask/n24.jpg                       \b\b\b\b  7%\b\b\b\b\b  OK \n",
            "Extracting  mask_detection_project/no_mask/n25.jpg                       \b\b\b\b  7%\b\b\b\b\b  OK \n",
            "Extracting  mask_detection_project/no_mask/n26.jpg                       \b\b\b\b  8%\b\b\b\b\b  OK \n",
            "Extracting  mask_detection_project/no_mask/n27.jpg                       \b\b\b\b  8%\b\b\b\b\b  OK \n",
            "Extracting  mask_detection_project/no_mask/n28.jpg                       \b\b\b\b  9%\b\b\b\b\b  OK \n",
            "Extracting  mask_detection_project/no_mask/n29.jpg                       \b\b\b\b  9%\b\b\b\b\b  OK \n",
            "Extracting  mask_detection_project/no_mask/n3.jpg                        \b\b\b\b  9%\b\b\b\b\b  OK \n",
            "Extracting  mask_detection_project/no_mask/n30.jpg                       \b\b\b\b 10%\b\b\b\b\b  OK \n",
            "Extracting  mask_detection_project/no_mask/n31.jpg                       \b\b\b\b 10%\b\b\b\b\b  OK \n",
            "Extracting  mask_detection_project/no_mask/n32.jpg                       \b\b\b\b 10%\b\b\b\b\b  OK \n",
            "Extracting  mask_detection_project/no_mask/n33.jpg                       \b\b\b\b 11%\b\b\b\b\b  OK \n",
            "Extracting  mask_detection_project/no_mask/n34.jpg                       \b\b\b\b 11%\b\b\b\b\b  OK \n",
            "Extracting  mask_detection_project/no_mask/n35.jpg                       \b\b\b\b 12%\b\b\b\b\b  OK \n",
            "Extracting  mask_detection_project/no_mask/n36.jpg                       \b\b\b\b 12%\b\b\b\b\b  OK \n",
            "Extracting  mask_detection_project/no_mask/n37.jpg                       \b\b\b\b 12%\b\b\b\b\b  OK \n",
            "Extracting  mask_detection_project/no_mask/n38.jpg                       \b\b\b\b 13%\b\b\b\b\b  OK \n",
            "Extracting  mask_detection_project/no_mask/n39.jpg                       \b\b\b\b 13%\b\b\b\b\b  OK \n",
            "Extracting  mask_detection_project/no_mask/n4.jpg                        \b\b\b\b 13%\b\b\b\b\b  OK \n",
            "Extracting  mask_detection_project/no_mask/n40.jpg                       \b\b\b\b 13%\b\b\b\b\b  OK \n",
            "Extracting  mask_detection_project/no_mask/n41.jpg                       \b\b\b\b 14%\b\b\b\b\b  OK \n",
            "Extracting  mask_detection_project/no_mask/n42.jpg                       \b\b\b\b 14%\b\b\b\b\b  OK \n",
            "Extracting  mask_detection_project/no_mask/n43.jpg                       \b\b\b\b 15%\b\b\b\b\b  OK \n",
            "Extracting  mask_detection_project/no_mask/n44.jpg                       \b\b\b\b 15%\b\b\b\b\b  OK \n",
            "Extracting  mask_detection_project/no_mask/n45.jpg                       \b\b\b\b 16%\b\b\b\b\b  OK \n",
            "Extracting  mask_detection_project/no_mask/n46.jpg                       \b\b\b\b 16%\b\b\b\b\b  OK \n",
            "Extracting  mask_detection_project/no_mask/n47.jpg                       \b\b\b\b 16%\b\b\b\b\b  OK \n",
            "Extracting  mask_detection_project/no_mask/n48.jpg                       \b\b\b\b 17%\b\b\b\b\b  OK \n",
            "Extracting  mask_detection_project/no_mask/n5.jpg                        \b\b\b\b 17%\b\b\b\b\b  OK \n",
            "Extracting  mask_detection_project/no_mask/n6.jpg                        \b\b\b\b 17%\b\b\b\b\b  OK \n",
            "Extracting  mask_detection_project/no_mask/n7.jpg                        \b\b\b\b 18%\b\b\b\b\b  OK \n",
            "Extracting  mask_detection_project/no_mask/n8.jpg                        \b\b\b\b 18%\b\b\b\b\b  OK \n",
            "Extracting  mask_detection_project/no_mask/n9.jpg                        \b\b\b\b 19%\b\b\b\b\b  OK \n",
            "Extracting  mask_detection_project/qualified_mask/q1.jpg                 \b\b\b\b 19%\b\b\b\b\b  OK \n",
            "Extracting  mask_detection_project/qualified_mask/q10.jpg                \b\b\b\b 19%\b\b\b\b\b  OK \n",
            "Extracting  mask_detection_project/qualified_mask/q100.jpg               \b\b\b\b 20%\b\b\b\b\b  OK \n",
            "Extracting  mask_detection_project/qualified_mask/q101.jpg               \b\b\b\b 20%\b\b\b\b\b  OK \n",
            "Extracting  mask_detection_project/qualified_mask/q102.jpg               \b\b\b\b 20%\b\b\b\b\b  OK \n",
            "Extracting  mask_detection_project/qualified_mask/q103.jpg               \b\b\b\b 21%\b\b\b\b\b  OK \n",
            "Extracting  mask_detection_project/qualified_mask/q104.jpg               \b\b\b\b 21%\b\b\b\b\b  OK \n",
            "Extracting  mask_detection_project/qualified_mask/q105.jpg               \b\b\b\b 21%\b\b\b\b\b  OK \n",
            "Extracting  mask_detection_project/qualified_mask/q106.jpg               \b\b\b\b 22%\b\b\b\b\b  OK \n",
            "Extracting  mask_detection_project/qualified_mask/q107.jpg               \b\b\b\b 22%\b\b\b\b\b  OK \n",
            "Extracting  mask_detection_project/qualified_mask/q108.jpg               \b\b\b\b 22%\b\b\b\b\b  OK \n",
            "Extracting  mask_detection_project/qualified_mask/q109.jpg               \b\b\b\b 23%\b\b\b\b\b  OK \n",
            "Extracting  mask_detection_project/qualified_mask/q11.jpg                \b\b\b\b 23%\b\b\b\b\b  OK \n",
            "Extracting  mask_detection_project/qualified_mask/q110.jpg               \b\b\b\b 24%\b\b\b\b\b  OK \n",
            "Extracting  mask_detection_project/qualified_mask/q111.jpg               \b\b\b\b 24%\b\b\b\b\b  OK \n",
            "Extracting  mask_detection_project/qualified_mask/q112.jpg               \b\b\b\b 25%\b\b\b\b\b  OK \n",
            "Extracting  mask_detection_project/qualified_mask/q113.jpg               \b\b\b\b 25%\b\b\b\b\b  OK \n",
            "Extracting  mask_detection_project/qualified_mask/q114.jpg               \b\b\b\b 25%\b\b\b\b\b  OK \n",
            "Extracting  mask_detection_project/qualified_mask/q115.jpg               \b\b\b\b 26%\b\b\b\b\b  OK \n",
            "Extracting  mask_detection_project/qualified_mask/q116.jpg               \b\b\b\b 26%\b\b\b\b\b  OK \n",
            "Extracting  mask_detection_project/qualified_mask/q117.jpg               \b\b\b\b 26%\b\b\b\b\b  OK \n",
            "Extracting  mask_detection_project/qualified_mask/q118.jpg               \b\b\b\b 27%\b\b\b\b\b  OK \n",
            "Extracting  mask_detection_project/qualified_mask/q119.jpg               \b\b\b\b 27%\b\b\b\b\b  OK \n",
            "Extracting  mask_detection_project/qualified_mask/q12.jpg                \b\b\b\b 27%\b\b\b\b\b  OK \n",
            "Extracting  mask_detection_project/qualified_mask/q120.jpg               \b\b\b\b 28%\b\b\b\b\b  OK \n",
            "Extracting  mask_detection_project/qualified_mask/q121.jpg               \b\b\b\b 28%\b\b\b\b\b  OK \n",
            "Extracting  mask_detection_project/qualified_mask/q122.jpg               \b\b\b\b 29%\b\b\b\b\b  OK \n",
            "Extracting  mask_detection_project/qualified_mask/q123.jpg               \b\b\b\b 29%\b\b\b\b\b  OK \n",
            "Extracting  mask_detection_project/qualified_mask/q124.jpg               \b\b\b\b 29%\b\b\b\b\b  OK \n",
            "Extracting  mask_detection_project/qualified_mask/q125.jpg               \b\b\b\b 30%\b\b\b\b\b  OK \n",
            "Extracting  mask_detection_project/qualified_mask/q126.jpg               \b\b\b\b 30%\b\b\b\b\b  OK \n",
            "Extracting  mask_detection_project/qualified_mask/q127.jpg               \b\b\b\b 31%\b\b\b\b\b  OK \n",
            "Extracting  mask_detection_project/qualified_mask/q128.jpg               \b\b\b\b 31%\b\b\b\b\b  OK \n",
            "Extracting  mask_detection_project/qualified_mask/q129.jpg               \b\b\b\b 31%\b\b\b\b\b  OK \n",
            "Extracting  mask_detection_project/qualified_mask/q13.jpg                \b\b\b\b 32%\b\b\b\b\b  OK \n",
            "Extracting  mask_detection_project/qualified_mask/q130.jpg               \b\b\b\b 32%\b\b\b\b\b  OK \n",
            "Extracting  mask_detection_project/qualified_mask/q131.jpg               \b\b\b\b 33%\b\b\b\b\b  OK \n",
            "Extracting  mask_detection_project/qualified_mask/q132.jpg               \b\b\b\b 33%\b\b\b\b\b  OK \n",
            "Extracting  mask_detection_project/qualified_mask/q133.jpg               \b\b\b\b 33%\b\b\b\b\b  OK \n",
            "Extracting  mask_detection_project/qualified_mask/q134.jpg               \b\b\b\b 33%\b\b\b\b\b  OK \n",
            "Extracting  mask_detection_project/qualified_mask/q135.jpg               \b\b\b\b 34%\b\b\b\b\b  OK \n",
            "Extracting  mask_detection_project/qualified_mask/q136.jpg               \b\b\b\b 34%\b\b\b\b\b  OK \n",
            "Extracting  mask_detection_project/qualified_mask/q137.jpg               \b\b\b\b 34%\b\b\b\b\b  OK \n",
            "Extracting  mask_detection_project/qualified_mask/q138.jpg               \b\b\b\b 35%\b\b\b\b\b  OK \n",
            "Extracting  mask_detection_project/qualified_mask/q139.jpg               \b\b\b\b 35%\b\b\b\b\b  OK \n",
            "Extracting  mask_detection_project/qualified_mask/q14.jpg                \b\b\b\b 36%\b\b\b\b\b  OK \n",
            "Extracting  mask_detection_project/qualified_mask/q140.jpg               \b\b\b\b 36%\b\b\b\b\b  OK \n",
            "Extracting  mask_detection_project/qualified_mask/q141.jpg               \b\b\b\b 36%\b\b\b\b\b  OK \n",
            "Extracting  mask_detection_project/qualified_mask/q142.jpg               \b\b\b\b 37%\b\b\b\b\b  OK \n",
            "Extracting  mask_detection_project/qualified_mask/q143.jpg               \b\b\b\b 37%\b\b\b\b\b  OK \n",
            "Extracting  mask_detection_project/qualified_mask/q144.jpg               \b\b\b\b 37%\b\b\b\b\b  OK \n",
            "Extracting  mask_detection_project/qualified_mask/q145.jpg               \b\b\b\b 38%\b\b\b\b\b  OK \n",
            "Extracting  mask_detection_project/qualified_mask/q146.jpg               \b\b\b\b 38%\b\b\b\b\b  OK \n",
            "Extracting  mask_detection_project/qualified_mask/q147.jpg               \b\b\b\b 39%\b\b\b\b\b  OK \n",
            "Extracting  mask_detection_project/qualified_mask/q148.jpg               \b\b\b\b 39%\b\b\b\b\b  OK \n",
            "Extracting  mask_detection_project/qualified_mask/q149.jpg               \b\b\b\b 40%\b\b\b\b\b  OK \n",
            "Extracting  mask_detection_project/qualified_mask/q15.jpg                \b\b\b\b 40%\b\b\b\b\b  OK \n",
            "Extracting  mask_detection_project/qualified_mask/q150.jpg               \b\b\b\b 41%\b\b\b\b\b  OK \n",
            "Extracting  mask_detection_project/qualified_mask/q151.jpg               \b\b\b\b 41%\b\b\b\b\b  OK \n",
            "Extracting  mask_detection_project/qualified_mask/q152.jpg               \b\b\b\b 42%\b\b\b\b\b  OK \n",
            "Extracting  mask_detection_project/qualified_mask/q153.jpg               \b\b\b\b 42%\b\b\b\b\b  OK \n",
            "Extracting  mask_detection_project/qualified_mask/q154.jpg               \b\b\b\b 42%\b\b\b\b\b  OK \n",
            "Extracting  mask_detection_project/qualified_mask/q155.jpg               \b\b\b\b 43%\b\b\b\b\b  OK \n",
            "Extracting  mask_detection_project/qualified_mask/q156.jpg               \b\b\b\b 43%\b\b\b\b\b  OK \n",
            "Extracting  mask_detection_project/qualified_mask/q157.jpg               \b\b\b\b 44%\b\b\b\b\b  OK \n",
            "Extracting  mask_detection_project/qualified_mask/q158.jpg               \b\b\b\b 45%\b\b\b\b\b  OK \n",
            "Extracting  mask_detection_project/qualified_mask/q159.jpg               \b\b\b\b 45%\b\b\b\b\b  OK \n",
            "Extracting  mask_detection_project/qualified_mask/q16.jpg                \b\b\b\b 45%\b\b\b\b\b  OK \n",
            "Extracting  mask_detection_project/qualified_mask/q160.jpg               \b\b\b\b 46%\b\b\b\b\b  OK \n",
            "Extracting  mask_detection_project/qualified_mask/q161.jpg               \b\b\b\b 46%\b\b\b\b\b  OK \n",
            "Extracting  mask_detection_project/qualified_mask/q162.jpg               \b\b\b\b 47%\b\b\b\b\b  OK \n",
            "Extracting  mask_detection_project/qualified_mask/q17.jpg                \b\b\b\b 47%\b\b\b\b\b  OK \n",
            "Extracting  mask_detection_project/qualified_mask/q18.jpg                \b\b\b\b 47%\b\b\b\b\b  OK \n",
            "Extracting  mask_detection_project/qualified_mask/q19.jpg                \b\b\b\b 48%\b\b\b\b\b  OK \n",
            "Extracting  mask_detection_project/qualified_mask/q2.jpg                 \b\b\b\b 48%\b\b\b\b\b  OK \n",
            "Extracting  mask_detection_project/qualified_mask/q20.jpg                \b\b\b\b 49%\b\b\b\b\b  OK \n",
            "Extracting  mask_detection_project/qualified_mask/q21.jpg                \b\b\b\b 49%\b\b\b\b\b  OK \n",
            "Extracting  mask_detection_project/qualified_mask/q22.jpg                \b\b\b\b 49%\b\b\b\b\b  OK \n",
            "Extracting  mask_detection_project/qualified_mask/q23.jpg                \b\b\b\b 50%\b\b\b\b\b  OK \n",
            "Extracting  mask_detection_project/qualified_mask/q24.jpg                \b\b\b\b 50%\b\b\b\b\b  OK \n",
            "Extracting  mask_detection_project/qualified_mask/q25.jpg                \b\b\b\b 51%\b\b\b\b\b  OK \n",
            "Extracting  mask_detection_project/qualified_mask/q26.jpg                \b\b\b\b 51%\b\b\b\b\b  OK \n",
            "Extracting  mask_detection_project/qualified_mask/q27.jpg                \b\b\b\b 51%\b\b\b\b\b  OK \n",
            "Extracting  mask_detection_project/qualified_mask/q28.jpg                \b\b\b\b 52%\b\b\b\b\b  OK \n",
            "Extracting  mask_detection_project/qualified_mask/q29.jpg                \b\b\b\b 52%\b\b\b\b\b  OK \n",
            "Extracting  mask_detection_project/qualified_mask/q3.jpg                 \b\b\b\b 53%\b\b\b\b\b  OK \n",
            "Extracting  mask_detection_project/qualified_mask/q30.jpg                \b\b\b\b 53%\b\b\b\b\b  OK \n",
            "Extracting  mask_detection_project/qualified_mask/q31.jpg                \b\b\b\b 53%\b\b\b\b\b  OK \n",
            "Extracting  mask_detection_project/qualified_mask/q32.jpg                \b\b\b\b 54%\b\b\b\b\b  OK \n",
            "Extracting  mask_detection_project/qualified_mask/q33.jpg                \b\b\b\b 54%\b\b\b\b\b  OK \n",
            "Extracting  mask_detection_project/qualified_mask/q34.jpg                \b\b\b\b 54%\b\b\b\b\b  OK \n",
            "Extracting  mask_detection_project/qualified_mask/q35.jpg                \b\b\b\b 55%\b\b\b\b\b  OK \n",
            "Extracting  mask_detection_project/qualified_mask/q36.jpg                \b\b\b\b 55%\b\b\b\b\b  OK \n",
            "Extracting  mask_detection_project/qualified_mask/q37.jpg                \b\b\b\b 56%\b\b\b\b\b  OK \n",
            "Extracting  mask_detection_project/qualified_mask/q38.jpg                \b\b\b\b 56%\b\b\b\b\b  OK \n",
            "Extracting  mask_detection_project/qualified_mask/q39.jpg                \b\b\b\b 56%\b\b\b\b\b  OK \n",
            "Extracting  mask_detection_project/qualified_mask/q4.jpg                 \b\b\b\b 57%\b\b\b\b\b  OK \n",
            "Extracting  mask_detection_project/qualified_mask/q40.jpg                \b\b\b\b 57%\b\b\b\b\b  OK \n",
            "Extracting  mask_detection_project/qualified_mask/q41.jpg                \b\b\b\b 57%\b\b\b\b\b  OK \n",
            "Extracting  mask_detection_project/qualified_mask/q42.jpg                \b\b\b\b 57%\b\b\b\b\b  OK \n",
            "Extracting  mask_detection_project/qualified_mask/q43.jpg                \b\b\b\b 58%\b\b\b\b\b  OK \n",
            "Extracting  mask_detection_project/qualified_mask/q44.jpg                \b\b\b\b 58%\b\b\b\b\b  OK \n",
            "Extracting  mask_detection_project/qualified_mask/q45.jpg                \b\b\b\b 58%\b\b\b\b\b  OK \n",
            "Extracting  mask_detection_project/qualified_mask/q46.jpg                \b\b\b\b 59%\b\b\b\b\b  OK \n",
            "Extracting  mask_detection_project/qualified_mask/q47.jpg                \b\b\b\b 59%\b\b\b\b\b  OK \n",
            "Extracting  mask_detection_project/qualified_mask/q48.jpg                \b\b\b\b 60%\b\b\b\b\b  OK \n",
            "Extracting  mask_detection_project/qualified_mask/q49.jpg                \b\b\b\b 60%\b\b\b\b\b  OK \n",
            "Extracting  mask_detection_project/qualified_mask/q5.jpg                 \b\b\b\b 61%\b\b\b\b\b  OK \n",
            "Extracting  mask_detection_project/qualified_mask/q50.jpg                \b\b\b\b 61%\b\b\b\b\b  OK \n",
            "Extracting  mask_detection_project/qualified_mask/q51.jpg                \b\b\b\b 61%\b\b\b\b\b  OK \n",
            "Extracting  mask_detection_project/qualified_mask/q52.jpg                \b\b\b\b 62%\b\b\b\b\b  OK \n",
            "Extracting  mask_detection_project/qualified_mask/q53.jpg                \b\b\b\b 62%\b\b\b\b\b  OK \n",
            "Extracting  mask_detection_project/qualified_mask/q54.jpg                \b\b\b\b 62%\b\b\b\b\b  OK \n",
            "Extracting  mask_detection_project/qualified_mask/q55.jpg                \b\b\b\b 63%\b\b\b\b\b  OK \n",
            "Extracting  mask_detection_project/qualified_mask/q56.jpg                \b\b\b\b 64%\b\b\b\b\b  OK \n",
            "Extracting  mask_detection_project/qualified_mask/q57.jpg                \b\b\b\b 65%\b\b\b\b\b  OK \n",
            "Extracting  mask_detection_project/qualified_mask/q58.jpg                \b\b\b\b 65%\b\b\b\b\b  OK \n",
            "Extracting  mask_detection_project/qualified_mask/q59.jpg                \b\b\b\b 65%\b\b\b\b\b  OK \n",
            "Extracting  mask_detection_project/qualified_mask/q6.jpg                 \b\b\b\b 66%\b\b\b\b\b  OK \n",
            "Extracting  mask_detection_project/qualified_mask/q60.jpg                \b\b\b\b 66%\b\b\b\b\b  OK \n",
            "Extracting  mask_detection_project/qualified_mask/q61.jpg                \b\b\b\b 67%\b\b\b\b\b  OK \n",
            "Extracting  mask_detection_project/qualified_mask/q62.jpg                \b\b\b\b 67%\b\b\b\b\b  OK \n",
            "Extracting  mask_detection_project/qualified_mask/q63.jpg                \b\b\b\b 67%\b\b\b\b\b  OK \n",
            "Extracting  mask_detection_project/qualified_mask/q64.jpg                \b\b\b\b 68%\b\b\b\b\b  OK \n",
            "Extracting  mask_detection_project/qualified_mask/q65.jpg                \b\b\b\b 68%\b\b\b\b\b  OK \n",
            "Extracting  mask_detection_project/qualified_mask/q66.jpg                \b\b\b\b 68%\b\b\b\b\b  OK \n",
            "Extracting  mask_detection_project/qualified_mask/q67.jpg                \b\b\b\b 69%\b\b\b\b\b  OK \n",
            "Extracting  mask_detection_project/qualified_mask/q68.jpg                \b\b\b\b 69%\b\b\b\b\b  OK \n",
            "Extracting  mask_detection_project/qualified_mask/q69.jpg                \b\b\b\b 69%\b\b\b\b\b  OK \n",
            "Extracting  mask_detection_project/qualified_mask/q7.jpg                 \b\b\b\b 70%\b\b\b\b\b  OK \n",
            "Extracting  mask_detection_project/qualified_mask/q70.jpg                \b\b\b\b 70%\b\b\b\b\b  OK \n",
            "Extracting  mask_detection_project/qualified_mask/q71.jpg                \b\b\b\b 70%\b\b\b\b\b  OK \n",
            "Extracting  mask_detection_project/qualified_mask/q72.jpg                \b\b\b\b 71%\b\b\b\b\b  OK \n",
            "Extracting  mask_detection_project/qualified_mask/q73.jpg                \b\b\b\b 71%\b\b\b\b\b  OK \n",
            "Extracting  mask_detection_project/qualified_mask/q74.jpg                \b\b\b\b 71%\b\b\b\b\b  OK \n",
            "Extracting  mask_detection_project/qualified_mask/q75.jpg                \b\b\b\b 72%\b\b\b\b\b  OK \n",
            "Extracting  mask_detection_project/qualified_mask/q76.jpg                \b\b\b\b 72%\b\b\b\b\b  OK \n",
            "Extracting  mask_detection_project/qualified_mask/q77.jpg                \b\b\b\b 73%\b\b\b\b\b  OK \n",
            "Extracting  mask_detection_project/qualified_mask/q78.jpg                \b\b\b\b 73%\b\b\b\b\b  OK \n",
            "Extracting  mask_detection_project/qualified_mask/q79.jpg                \b\b\b\b 73%\b\b\b\b\b  OK \n",
            "Extracting  mask_detection_project/qualified_mask/q8.jpg                 \b\b\b\b 74%\b\b\b\b\b  OK \n",
            "Extracting  mask_detection_project/qualified_mask/q80.jpg                \b\b\b\b 74%\b\b\b\b\b  OK \n",
            "Extracting  mask_detection_project/qualified_mask/q81.jpg                \b\b\b\b 75%\b\b\b\b\b  OK \n",
            "Extracting  mask_detection_project/qualified_mask/q82.jpg                \b\b\b\b 75%\b\b\b\b\b  OK \n",
            "Extracting  mask_detection_project/qualified_mask/q83.jpg                \b\b\b\b 75%\b\b\b\b\b  OK \n",
            "Extracting  mask_detection_project/qualified_mask/q84.jpg                \b\b\b\b 76%\b\b\b\b\b  OK \n",
            "Extracting  mask_detection_project/qualified_mask/q85.jpg                \b\b\b\b 76%\b\b\b\b\b  OK \n",
            "Extracting  mask_detection_project/qualified_mask/q86.jpg                \b\b\b\b 77%\b\b\b\b\b  OK \n",
            "Extracting  mask_detection_project/qualified_mask/q87.jpg                \b\b\b\b 77%\b\b\b\b\b  OK \n",
            "Extracting  mask_detection_project/qualified_mask/q88.jpg                \b\b\b\b 78%\b\b\b\b\b  OK \n",
            "Extracting  mask_detection_project/qualified_mask/q89.jpg                \b\b\b\b 79%\b\b\b\b\b  OK \n",
            "Extracting  mask_detection_project/qualified_mask/q9.jpg                 \b\b\b\b 79%\b\b\b\b\b  OK \n",
            "Extracting  mask_detection_project/qualified_mask/q90.jpg                \b\b\b\b 80%\b\b\b\b\b  OK \n",
            "Extracting  mask_detection_project/qualified_mask/q91.jpg                \b\b\b\b 80%\b\b\b\b\b  OK \n",
            "Extracting  mask_detection_project/qualified_mask/q92.jpg                \b\b\b\b 81%\b\b\b\b\b  OK \n",
            "Extracting  mask_detection_project/qualified_mask/q93.jpg                \b\b\b\b 81%\b\b\b\b\b  OK \n",
            "Extracting  mask_detection_project/qualified_mask/q94.jpg                \b\b\b\b 82%\b\b\b\b\b  OK \n",
            "Extracting  mask_detection_project/qualified_mask/q95.jpg                \b\b\b\b 82%\b\b\b\b\b  OK \n",
            "Extracting  mask_detection_project/qualified_mask/q96.jpg                \b\b\b\b 82%\b\b\b\b\b  OK \n",
            "Extracting  mask_detection_project/qualified_mask/q97.jpg                \b\b\b\b 83%\b\b\b\b\b  OK \n",
            "Extracting  mask_detection_project/qualified_mask/q98.jpg                \b\b\b\b 83%\b\b\b\b\b  OK \n",
            "Extracting  mask_detection_project/qualified_mask/q99.jpg                \b\b\b\b 83%\b\b\b\b\b  OK \n",
            "Extracting  mask_detection_project/unqualified_mask/u1.jpg               \b\b\b\b 84%\b\b\b\b\b  OK \n",
            "Extracting  mask_detection_project/unqualified_mask/u10.jpg              \b\b\b\b 84%\b\b\b\b\b  OK \n",
            "Extracting  mask_detection_project/unqualified_mask/u11.jpg              \b\b\b\b 84%\b\b\b\b\b  OK \n",
            "Extracting  mask_detection_project/unqualified_mask/u12.jpg              \b\b\b\b 85%\b\b\b\b\b  OK \n",
            "Extracting  mask_detection_project/unqualified_mask/u13.jpg              \b\b\b\b 85%\b\b\b\b\b  OK \n",
            "Extracting  mask_detection_project/unqualified_mask/u14.jpg              \b\b\b\b 85%\b\b\b\b\b  OK \n",
            "Extracting  mask_detection_project/unqualified_mask/u15.jpg              \b\b\b\b 86%\b\b\b\b\b  OK \n",
            "Extracting  mask_detection_project/unqualified_mask/u16.jpg              \b\b\b\b 86%\b\b\b\b\b  OK \n",
            "Extracting  mask_detection_project/unqualified_mask/u17.jpg              \b\b\b\b 86%\b\b\b\b\b  OK \n",
            "Extracting  mask_detection_project/unqualified_mask/u18.jpg              \b\b\b\b 87%\b\b\b\b\b  OK \n",
            "Extracting  mask_detection_project/unqualified_mask/u19.jpg              \b\b\b\b 87%\b\b\b\b\b  OK \n",
            "Extracting  mask_detection_project/unqualified_mask/u2.jpg               \b\b\b\b 88%\b\b\b\b\b  OK \n",
            "Extracting  mask_detection_project/unqualified_mask/u20.jpg              \b\b\b\b 88%\b\b\b\b\b  OK \n",
            "Extracting  mask_detection_project/unqualified_mask/u21.jpg              \b\b\b\b 88%\b\b\b\b\b  OK \n",
            "Extracting  mask_detection_project/unqualified_mask/u22.jpg              \b\b\b\b 89%\b\b\b\b\b  OK \n",
            "Extracting  mask_detection_project/unqualified_mask/u23.jpg              \b\b\b\b 89%\b\b\b\b\b  OK \n",
            "Extracting  mask_detection_project/unqualified_mask/u24.jpg              \b\b\b\b 90%\b\b\b\b\b  OK \n",
            "Extracting  mask_detection_project/unqualified_mask/u25.jpg              \b\b\b\b 90%\b\b\b\b\b  OK \n",
            "Extracting  mask_detection_project/unqualified_mask/u26.jpg              \b\b\b\b 91%\b\b\b\b\b  OK \n",
            "Extracting  mask_detection_project/unqualified_mask/u27.jpg              \b\b\b\b 91%\b\b\b\b\b  OK \n",
            "Extracting  mask_detection_project/unqualified_mask/u28.jpg              \b\b\b\b 92%\b\b\b\b\b  OK \n",
            "Extracting  mask_detection_project/unqualified_mask/u29.jpg              \b\b\b\b 92%\b\b\b\b\b  OK \n",
            "Extracting  mask_detection_project/unqualified_mask/u3.jpg               \b\b\b\b 92%\b\b\b\b\b  OK \n",
            "Extracting  mask_detection_project/unqualified_mask/u30.jpg              \b\b\b\b 93%\b\b\b\b\b  OK \n",
            "Extracting  mask_detection_project/unqualified_mask/u31.jpg              \b\b\b\b 93%\b\b\b\b\b  OK \n",
            "Extracting  mask_detection_project/unqualified_mask/u32.jpg              \b\b\b\b 94%\b\b\b\b\b  OK \n",
            "Extracting  mask_detection_project/unqualified_mask/u33.jpg              \b\b\b\b 94%\b\b\b\b\b  OK \n",
            "Extracting  mask_detection_project/unqualified_mask/u34.jpg              \b\b\b\b 94%\b\b\b\b\b  OK \n",
            "Extracting  mask_detection_project/unqualified_mask/u35.jpg              \b\b\b\b 95%\b\b\b\b\b  OK \n",
            "Extracting  mask_detection_project/unqualified_mask/u36.jpg              \b\b\b\b 95%\b\b\b\b\b  OK \n",
            "Extracting  mask_detection_project/unqualified_mask/u37.jpg              \b\b\b\b 96%\b\b\b\b\b  OK \n",
            "Extracting  mask_detection_project/unqualified_mask/u38.jpg              \b\b\b\b 96%\b\b\b\b\b  OK \n",
            "Extracting  mask_detection_project/unqualified_mask/u4.jpg               \b\b\b\b 98%\b\b\b\b\b  OK \n",
            "Extracting  mask_detection_project/unqualified_mask/u5.jpg               \b\b\b\b 98%\b\b\b\b\b  OK \n",
            "Extracting  mask_detection_project/unqualified_mask/u6.jpg               \b\b\b\b 98%\b\b\b\b\b  OK \n",
            "Extracting  mask_detection_project/unqualified_mask/u7.jpg               \b\b\b\b 99%\b\b\b\b\b  OK \n",
            "Extracting  mask_detection_project/unqualified_mask/u8.jpg               \b\b\b\b 99%\b\b\b\b\b  OK \n",
            "Extracting  mask_detection_project/unqualified_mask/u9.jpg               \b\b\b\b 99%\b\b\b\b\b  OK \n",
            "All OK\n"
          ]
        }
      ]
    },
    {
      "cell_type": "markdown",
      "source": [
        "<p dir=\"rtl\" align=\"justify\">\n",
        "<font face=\"homa\">\n",
        "ذخیره کردن مسیر هر تصویر از پوشه های مختلف:\n",
        "<br><br>\n"
      ],
      "metadata": {
        "id": "kM9zXabZ_zl6"
      }
    },
    {
      "cell_type": "code",
      "source": [
        "from glob import glob\n",
        "import os\n",
        "image_no_mask_path = sorted(glob(os.path.join( \"/content/mask_detection_project/no_mask/*\")))\n",
        "image_qualified_mask_path = sorted(glob(os.path.join( \"/content/mask_detection_project/qualified_mask/*\")))\n",
        "image_unqualified_mask_path = sorted(glob(os.path.join( \"/content/mask_detection_project/unqualified_mask/*\")))"
      ],
      "metadata": {
        "id": "khXDKe_2fF5I"
      },
      "execution_count": 43,
      "outputs": []
    },
    {
      "cell_type": "markdown",
      "source": [
        "<p dir=\"rtl\" align=\"justify\">\n",
        "<font face=\"homa\">\n",
        "تجمیع تمامی مسیرهای داده در و ذخیره در لیست data و مشخص کردن و ذخیره کردن لیبل ها در یک لیست:\n",
        "<br><br>\n"
      ],
      "metadata": {
        "id": "Govs4wIIADlc"
      }
    },
    {
      "cell_type": "code",
      "source": [
        "import numpy as np\n",
        "import imageio\n",
        "data = []\n",
        "labels = []\n",
        "\n",
        "for i in image_no_mask_path:\n",
        "  data.append(i)\n",
        "  labels.append(0)\n",
        "\n",
        "for i in image_qualified_mask_path:\n",
        "  data.append(i)\n",
        "  labels.append(1)\n",
        "\n",
        "for i in image_unqualified_mask_path:\n",
        "  data.append(i)\n",
        "  labels.append(2)"
      ],
      "metadata": {
        "id": "SOwj-daWr4aL"
      },
      "execution_count": 44,
      "outputs": []
    },
    {
      "cell_type": "code",
      "source": [
        "image_paths = data\n",
        "number_of_images, number_of_masks = len(data), len(labels)\n",
        "print(f\"There are {number_of_images} images in our dataset\")"
      ],
      "metadata": {
        "colab": {
          "base_uri": "https://localhost:8080/"
        },
        "id": "QPJ_2MO81TYT",
        "outputId": "b526c594-9336-48db-97f9-37e373ff5954"
      },
      "execution_count": 45,
      "outputs": [
        {
          "output_type": "stream",
          "name": "stdout",
          "text": [
            "There are 248 images in our dataset\n"
          ]
        }
      ]
    },
    {
      "cell_type": "code",
      "source": [
        "import random\n",
        "import matplotlib.pyplot as plt\n",
        "\n",
        "number_of_samples = len(data)\n",
        "\n",
        "for i in range(3):\n",
        "    N = random.randint(0, number_of_samples - 1)\n",
        "    img = imageio.imread(data[N])\n",
        "    plt.imshow(img)\n",
        "    plt.title(f'label is {labels[N]}')\n",
        "    plt.figure()"
      ],
      "metadata": {
        "colab": {
          "base_uri": "https://localhost:8080/",
          "height": 826
        },
        "id": "u4-ULWIS1TWE",
        "outputId": "df53dc55-f60a-4441-899b-41907f81b24a"
      },
      "execution_count": 46,
      "outputs": [
        {
          "output_type": "display_data",
          "data": {
            "text/plain": [
              "<Figure size 432x288 with 1 Axes>"
            ],
            "image/png": "[encoded data removed]"
          },
          "metadata": {
            "needs_background": "light"
          }
        },
        {
          "output_type": "display_data",
          "data": {
            "text/plain": [
              "<Figure size 432x288 with 1 Axes>"
            ],
            "image/png": "[encoded data removed]"
          },
          "metadata": {
            "needs_background": "light"
          }
        },
        {
          "output_type": "display_data",
          "data": {
            "text/plain": [
              "<Figure size 432x288 with 1 Axes>"
            ],
            "image/png": "[encoded data removed]"
          },
          "metadata": {
            "needs_background": "light"
          }
        },
        {
          "output_type": "display_data",
          "data": {
            "text/plain": [
              "<Figure size 432x288 with 0 Axes>"
            ]
          },
          "metadata": {}
        }
      ]
    },
    {
      "cell_type": "markdown",
      "source": [
        "<p dir=\"rtl\" align=\"justify\">\n",
        "<font face=\"homa\">\n",
        "جدا کردن 70 دصد کل داده ها به عنوان آموزش و 30 درصد به عنوان تست و بر زدن داده ها:\n",
        "<br><br>\n"
      ],
      "metadata": {
        "id": "-o8sUSnHAY2r"
      }
    },
    {
      "cell_type": "code",
      "source": [
        "from sklearn.model_selection import train_test_split\n",
        "# First split the image paths into training and validation sets\n",
        "train_image_paths, test_image_paths, train_labels, test_labels = train_test_split(data, labels, train_size=0.70, random_state=42)"
      ],
      "metadata": {
        "id": "XA-7TMCc1TTr"
      },
      "execution_count": 47,
      "outputs": []
    },
    {
      "cell_type": "markdown",
      "source": [
        "<p dir=\"rtl\" align=\"justify\">\n",
        "<font face=\"homa\">\n",
        "خواندن یک به یک تصاویر و ذخیره در یک آرایه نامپای:\n",
        "<br><br>\n"
      ],
      "metadata": {
        "id": "DH9yZINUAmIO"
      }
    },
    {
      "cell_type": "code",
      "source": [
        "def read_image(image_path):\n",
        "    data_resized= np.zeros([len(image_path), 128,  128, 3])\n",
        "    n = 0\n",
        "    for i in image_path:\n",
        "        data_resized [n] = np.array(Image.open(i).resize((128,128)))\n",
        "        n+=1\n",
        "    return data_resized"
      ],
      "metadata": {
        "id": "fNiv0yeM1TRD"
      },
      "execution_count": 48,
      "outputs": []
    },
    {
      "cell_type": "markdown",
      "source": [
        "<p dir=\"rtl\" align=\"justify\">\n",
        "<font face=\"homa\">\n",
        "train_images و train_labels از مجموعه آموزشی، داده‌هایی هستند که مدل یاد خواهد گرفت. سپس، مدل با مجموعه آزمایش  test_images و test_labels مورد آزمایش قرار خواهد گرفت.\n",
        "تصاویر به عنوان آرایه‌های نام‌پای کدگذاری می‌شوند و برچسب‌ها آرایه‌ا‌ی از ارقام هستند که دامنه‌شان از صفر تا دو است.\n",
        "<br><br>\n",
        "داده‌های آموزشی به شکل زیر می‌باشند:"
      ],
      "metadata": {
        "id": "XvDD-hAqA2k8"
      }
    },
    {
      "cell_type": "code",
      "source": [
        "train_images = read_image(train_image_paths)\n",
        "test_images  = read_image(test_image_paths)"
      ],
      "metadata": {
        "id": "EvVtGy088ovN"
      },
      "execution_count": 49,
      "outputs": []
    },
    {
      "cell_type": "code",
      "execution_count": 50,
      "metadata": {
        "colab": {
          "base_uri": "https://localhost:8080/"
        },
        "id": "qZhahCf1ZwQM",
        "outputId": "91e182c9-9395-473a-adca-bd0ad56ebbca"
      },
      "outputs": [
        {
          "output_type": "execute_result",
          "data": {
            "text/plain": [
              "(173, 128, 128, 3)"
            ]
          },
          "metadata": {},
          "execution_count": 50
        }
      ],
      "source": [
        "train_images.shape"
      ]
    },
    {
      "cell_type": "code",
      "execution_count": 51,
      "metadata": {
        "colab": {
          "base_uri": "https://localhost:8080/"
        },
        "id": "5XfJlzKvZwQN",
        "outputId": "4f2084b5-549f-4aba-add8-ecef6996d926"
      },
      "outputs": [
        {
          "output_type": "execute_result",
          "data": {
            "text/plain": [
              "173"
            ]
          },
          "metadata": {},
          "execution_count": 51
        }
      ],
      "source": [
        "len(train_labels)"
      ]
    },
    {
      "cell_type": "code",
      "execution_count": 52,
      "metadata": {
        "colab": {
          "base_uri": "https://localhost:8080/"
        },
        "id": "hL0g_e6DZwQO",
        "outputId": "b6e89da3-f3ff-419d-fac1-19eb13ff84b8",
        "scrolled": false
      },
      "outputs": [
        {
          "output_type": "execute_result",
          "data": {
            "text/plain": [
              "[1,\n",
              " 1,\n",
              " 1,\n",
              " 0,\n",
              " 1,\n",
              " 1,\n",
              " 2,\n",
              " 1,\n",
              " 1,\n",
              " 1,\n",
              " 1,\n",
              " 2,\n",
              " 1,\n",
              " 0,\n",
              " 0,\n",
              " 0,\n",
              " 0,\n",
              " 0,\n",
              " 1,\n",
              " 0,\n",
              " 1,\n",
              " 1,\n",
              " 2,\n",
              " 1,\n",
              " 1,\n",
              " 1,\n",
              " 1,\n",
              " 1,\n",
              " 0,\n",
              " 1,\n",
              " 1,\n",
              " 1,\n",
              " 1,\n",
              " 0,\n",
              " 2,\n",
              " 1,\n",
              " 1,\n",
              " 1,\n",
              " 0,\n",
              " 0,\n",
              " 1,\n",
              " 0,\n",
              " 1,\n",
              " 1,\n",
              " 1,\n",
              " 1,\n",
              " 1,\n",
              " 1,\n",
              " 1,\n",
              " 1,\n",
              " 1,\n",
              " 0,\n",
              " 1,\n",
              " 1,\n",
              " 2,\n",
              " 1,\n",
              " 0,\n",
              " 2,\n",
              " 0,\n",
              " 2,\n",
              " 0,\n",
              " 1,\n",
              " 0,\n",
              " 1,\n",
              " 1,\n",
              " 1,\n",
              " 1,\n",
              " 1,\n",
              " 1,\n",
              " 2,\n",
              " 1,\n",
              " 1,\n",
              " 1,\n",
              " 1,\n",
              " 0,\n",
              " 1,\n",
              " 0,\n",
              " 1,\n",
              " 1,\n",
              " 0,\n",
              " 1,\n",
              " 1,\n",
              " 1,\n",
              " 0,\n",
              " 1,\n",
              " 0,\n",
              " 1,\n",
              " 2,\n",
              " 1,\n",
              " 0,\n",
              " 1,\n",
              " 2,\n",
              " 0,\n",
              " 1,\n",
              " 1,\n",
              " 1,\n",
              " 2,\n",
              " 2,\n",
              " 2,\n",
              " 1,\n",
              " 1,\n",
              " 1,\n",
              " 0,\n",
              " 1,\n",
              " 0,\n",
              " 1,\n",
              " 1,\n",
              " 1,\n",
              " 1,\n",
              " 2,\n",
              " 2,\n",
              " 1,\n",
              " 0,\n",
              " 0,\n",
              " 1,\n",
              " 2,\n",
              " 1,\n",
              " 0,\n",
              " 1,\n",
              " 1,\n",
              " 2,\n",
              " 1,\n",
              " 2,\n",
              " 2,\n",
              " 1,\n",
              " 1,\n",
              " 1,\n",
              " 1,\n",
              " 1,\n",
              " 1,\n",
              " 1,\n",
              " 1,\n",
              " 2,\n",
              " 1,\n",
              " 2,\n",
              " 1,\n",
              " 1,\n",
              " 1,\n",
              " 1,\n",
              " 0,\n",
              " 1,\n",
              " 1,\n",
              " 1,\n",
              " 2,\n",
              " 1,\n",
              " 1,\n",
              " 1,\n",
              " 0,\n",
              " 1,\n",
              " 2,\n",
              " 0,\n",
              " 1,\n",
              " 1,\n",
              " 1,\n",
              " 1,\n",
              " 1,\n",
              " 1,\n",
              " 1,\n",
              " 1,\n",
              " 1,\n",
              " 1,\n",
              " 2,\n",
              " 2,\n",
              " 1,\n",
              " 2,\n",
              " 0,\n",
              " 1,\n",
              " 1,\n",
              " 1,\n",
              " 0,\n",
              " 1,\n",
              " 1,\n",
              " 1]"
            ]
          },
          "metadata": {},
          "execution_count": 52
        }
      ],
      "source": [
        "train_labels"
      ]
    },
    {
      "cell_type": "markdown",
      "metadata": {
        "id": "hvvXOFTGZwQO"
      },
      "source": [
        "<p dir=\"rtl\" align=\"justify\">\n",
        "<font face=\"homa\">\n",
        "و داده‌های آزمایش بدین قرار هستند:"
      ]
    },
    {
      "cell_type": "code",
      "execution_count": 53,
      "metadata": {
        "colab": {
          "base_uri": "https://localhost:8080/"
        },
        "id": "pjmaHbJnZwQP",
        "outputId": "5c2df7fd-e686-4992-84bc-788044eb5721"
      },
      "outputs": [
        {
          "output_type": "execute_result",
          "data": {
            "text/plain": [
              "(75, 128, 128, 3)"
            ]
          },
          "metadata": {},
          "execution_count": 53
        }
      ],
      "source": [
        "test_images.shape"
      ]
    },
    {
      "cell_type": "code",
      "execution_count": 54,
      "metadata": {
        "colab": {
          "base_uri": "https://localhost:8080/"
        },
        "id": "ddO8WVhCZwQQ",
        "outputId": "bba3ef81-c8e4-47cb-85b6-2d8024773cdf"
      },
      "outputs": [
        {
          "output_type": "execute_result",
          "data": {
            "text/plain": [
              "75"
            ]
          },
          "metadata": {},
          "execution_count": 54
        }
      ],
      "source": [
        "len(test_labels)"
      ]
    },
    {
      "cell_type": "code",
      "execution_count": 55,
      "metadata": {
        "colab": {
          "base_uri": "https://localhost:8080/"
        },
        "id": "rnH0v6qyZwQQ",
        "outputId": "1947c240-e34a-4da0-8b4d-0210342a661e"
      },
      "outputs": [
        {
          "output_type": "execute_result",
          "data": {
            "text/plain": [
              "[0,\n",
              " 0,\n",
              " 1,\n",
              " 1,\n",
              " 1,\n",
              " 2,\n",
              " 1,\n",
              " 1,\n",
              " 0,\n",
              " 2,\n",
              " 2,\n",
              " 2,\n",
              " 2,\n",
              " 1,\n",
              " 1,\n",
              " 1,\n",
              " 1,\n",
              " 0,\n",
              " 1,\n",
              " 0,\n",
              " 1,\n",
              " 0,\n",
              " 1,\n",
              " 1,\n",
              " 2,\n",
              " 2,\n",
              " 1,\n",
              " 0,\n",
              " 0,\n",
              " 1,\n",
              " 2,\n",
              " 2,\n",
              " 1,\n",
              " 0,\n",
              " 2,\n",
              " 0,\n",
              " 1,\n",
              " 1,\n",
              " 1,\n",
              " 0,\n",
              " 1,\n",
              " 1,\n",
              " 1,\n",
              " 1,\n",
              " 0,\n",
              " 1,\n",
              " 1,\n",
              " 1,\n",
              " 0,\n",
              " 1,\n",
              " 1,\n",
              " 2,\n",
              " 1,\n",
              " 1,\n",
              " 2,\n",
              " 1,\n",
              " 1,\n",
              " 1,\n",
              " 1,\n",
              " 1,\n",
              " 1,\n",
              " 1,\n",
              " 1,\n",
              " 1,\n",
              " 1,\n",
              " 1,\n",
              " 1,\n",
              " 1,\n",
              " 1,\n",
              " 1,\n",
              " 1,\n",
              " 1,\n",
              " 1,\n",
              " 1,\n",
              " 0]"
            ]
          },
          "metadata": {},
          "execution_count": 55
        }
      ],
      "source": [
        "test_labels"
      ]
    },
    {
      "cell_type": "markdown",
      "metadata": {
        "id": "920QcqhSZwQQ"
      },
      "source": [
        "<p dir=\"rtl\" align=\"justify\">\n",
        "<font face=\"homa\">\n",
        "روند کار بدین شکل خواهد بود: ابتدا، داده‌های آموزشی را به عنوان ورودی به شبکه عصبی خواهیم داد؛ train_images و train_labels. سپس، شبکه ارتباط تصاویر و برچسب‌ها به همدیگر را یاد خواهد گرفت. نهایتاً، از شبکه خواهیم خواست تا پیش‌بینی‌هایی را برای test_images تولید کند و همخوانی یا عدم همخوانی این پیش‌بینی‌ها با برچسب‌های test_labels را بررسی خواهیم کرد.\n",
        "<br><br>\n"
      ]
    },
    {
      "cell_type": "code",
      "execution_count": 56,
      "metadata": {
        "collapsed": true,
        "id": "pLUfNkdAZwQR"
      },
      "outputs": [],
      "source": [
        "from keras import models\n",
        "from keras import layers\n",
        "\n",
        "network = models.Sequential()\n",
        "network.add(layers.Dense(512, activation='relu', input_shape=(128 * 128 * 3,)))\n",
        "network.add(layers.Dense(3, activation='softmax'))\n"
      ]
    },
    {
      "cell_type": "markdown",
      "metadata": {
        "id": "svf6Pb0bZwQR"
      },
      "source": [
        "<p dir=\"rtl\" align=\"justify\">\n",
        "<font face=\"homa\">\n",
        "اصلی‌ترین بلوک سازنده شبکه‌های عصبی، لایه است. لایه، عبارت است از ماژول پردازش داده‌ها که می‌توان آن‌ را فیلتر داده‌ها دانست. داده‌ها وارد شبکه شده و به شکل مناسب‌تری از آن خارج می‌شوند. بالأخص، لایه‌ها از داده‌های وارد شده بازنمایی‌ها  را استخراج می‌کنند (در بهترین حالت، بازنمایی‌هایی که برای مسئله موردنظر ما معنادارتر هستند). یادگیری عمیق عمدتاً شامل به هم پیوستن لایه‌های ساده‌ای است که نوعی عصاره‌گیری مرحله‌به‌مرحله  را اجرا خواهند کرد. مدل یادگیری عمیق شبیه یک غربال برای پردازش داده‌هاست، لایه‌ها به عنوان فیلترهای داده‌ای عمل می‌کنند که رفته‌رفته پالایش می‌شوند.\n",
        "<br><br>\n",
        "در اینجا، شبکه ما متشکل از دولایه متراکم  متوالی است، اتصال بین این لایه‌ها متراکم است و از این رو لایه‌های تمام متصل  نیز نامیده می‌شوند دومین (آخرین) لایه، یک‌لایه با 3-خروجی است که سافت‌مکس  نامیده می‌شود، یعنی آرایه‌ای با 3 امتیاز احتمال (که مجموعشان برابر یک است) را باز خواهد گرداند. هر امتیاز، عبارت از احتمالی خواهد بود که بیانگر احتمال تعلق تصویر مورد نظر به یکی از کلاس‌های 3 رقمی ما را نشان می‌دهد.\n",
        "<br><br>\n",
        "به‌منظور آماده کردن شبکه برای آموزش، باید سه مورد زیر را به عنوان بخشی از مرحله کامپایل  در نظر بگیریم:\n",
        "<br>\n",
        "\n",
        "<ul dir=\"rtl\">\n",
        "  <li>تابع هزینه: شبکه چگونه خواهد توانست عملکرد خود در مورد داده‌های آموزشی را ارزیابی نماید و بدین ترتیب چگونه خواهد توانست خودش را به مسیر درست هدایت کند.</li>\n",
        "</ul>\n",
        "\n",
        "<ul dir=\"rtl\">\n",
        "  <li>\tبهینه‌ساز: مکانیسمی است که شبکه به ‌واسطه آن خود را به‌روز خواهد کرد. به‌روزرسانی بر مبنای تابع هزینه و داده‌هایی است که شبکه به عنوان ورودی دریافت می‌کند.</li>\n",
        "</ul>\n",
        "\n",
        "<ul dir=\"rtl\">\n",
        "  <li>\tمعیار‌هایی که در طول آموزش و آزمایش ثبت می‌شوند: در اینجا، تنها معیار دقت را مورد استفاده قرار می‌دهیم (تعداد تصاویری که به‌ درستی دسته‌بندی شده‌اند).</li>\n",
        "</ul>\n",
        "\n",
        "<p dir=\"rtl\" align=\"justify\">\n",
        "<font face=\"Vazir\">\n",
        "هدف دقیق تابع هزینه و بهینه‌ساز در دو فصل بعدی کاملاً روشن خواهد شد."
      ]
    },
    {
      "cell_type": "code",
      "execution_count": 57,
      "metadata": {
        "collapsed": true,
        "id": "KrkUlw5LZwQS"
      },
      "outputs": [],
      "source": [
        "network.compile(optimizer='rmsprop',\n",
        "                loss='categorical_crossentropy',\n",
        "                metrics=['accuracy'])"
      ]
    },
    {
      "cell_type": "markdown",
      "metadata": {
        "id": "qTZPHGtwZwQS"
      },
      "source": [
        "<p dir=\"rtl\" align=\"justify\">\n",
        "<font face=\"homa\">\n",
        "قبل از آموزش، داده‌ها پیش‌پردازش می‌شوند؛ یعنی شکل آن‌ها به صورتی تغییر داده می‌شود که شبکه انتظارش را دارد و نیز مقادیر آن به ‌گونه‌ای مقیاس بندی می‌شود که در بازه [0,1] قرار بگیرند. به عنوان مثال، تصاویر آموزشی ما قبلاً در آرایه‌ای به شکل (3, 128 ,128 ,62) و نوع unit8 و با مقادیری در بازه [0,255] ذخیره شده بودند. ما آن‌ها را به صورت آرایه float32 به شکل (3*128*128 ,62) با مقادیر بین 0 و 1 تبدیل می‌کنیم."
      ]
    },
    {
      "cell_type": "code",
      "execution_count": 58,
      "metadata": {
        "collapsed": true,
        "id": "4IUkwG9sZwQS"
      },
      "outputs": [],
      "source": [
        "train_images = train_images.reshape((len(train_labels), 128 * 128 * 3))\n",
        "train_images = train_images.astype('float32') / 255\n",
        "\n",
        "test_images = test_images.reshape((len(test_labels), 128 * 128 * 3))\n",
        "test_images = test_images.astype('float32') / 255"
      ]
    },
    {
      "cell_type": "markdown",
      "metadata": {
        "id": "ANzUDqYBZwQT"
      },
      "source": [
        "<p dir=\"rtl\" align=\"justify\">\n",
        "<font face=\"homa\">\n",
        "همچنین، باید برچسب‌ها را بر اساس دسته‌ای که به آن تعلق دارند کدگذاری کنیم؛ این گام را در فصل ۳ توضیح خواهیم داد."
      ]
    },
    {
      "cell_type": "code",
      "execution_count": 59,
      "metadata": {
        "colab": {
          "base_uri": "https://localhost:8080/"
        },
        "id": "kGF4HoElZwQT",
        "outputId": "8283657e-62dc-4e0a-8356-55d45139522e"
      },
      "outputs": [
        {
          "output_type": "execute_result",
          "data": {
            "text/plain": [
              "array([[0., 1., 0.],\n",
              "       [0., 1., 0.],\n",
              "       [0., 1., 0.],\n",
              "       [1., 0., 0.],\n",
              "       [0., 1., 0.],\n",
              "       [0., 1., 0.],\n",
              "       [0., 0., 1.],\n",
              "       [0., 1., 0.],\n",
              "       [0., 1., 0.],\n",
              "       [0., 1., 0.],\n",
              "       [0., 1., 0.],\n",
              "       [0., 0., 1.],\n",
              "       [0., 1., 0.],\n",
              "       [1., 0., 0.],\n",
              "       [1., 0., 0.],\n",
              "       [1., 0., 0.],\n",
              "       [1., 0., 0.],\n",
              "       [1., 0., 0.],\n",
              "       [0., 1., 0.],\n",
              "       [1., 0., 0.],\n",
              "       [0., 1., 0.],\n",
              "       [0., 1., 0.],\n",
              "       [0., 0., 1.],\n",
              "       [0., 1., 0.],\n",
              "       [0., 1., 0.],\n",
              "       [0., 1., 0.],\n",
              "       [0., 1., 0.],\n",
              "       [0., 1., 0.],\n",
              "       [1., 0., 0.],\n",
              "       [0., 1., 0.],\n",
              "       [0., 1., 0.],\n",
              "       [0., 1., 0.],\n",
              "       [0., 1., 0.],\n",
              "       [1., 0., 0.],\n",
              "       [0., 0., 1.],\n",
              "       [0., 1., 0.],\n",
              "       [0., 1., 0.],\n",
              "       [0., 1., 0.],\n",
              "       [1., 0., 0.],\n",
              "       [1., 0., 0.],\n",
              "       [0., 1., 0.],\n",
              "       [1., 0., 0.],\n",
              "       [0., 1., 0.],\n",
              "       [0., 1., 0.],\n",
              "       [0., 1., 0.],\n",
              "       [0., 1., 0.],\n",
              "       [0., 1., 0.],\n",
              "       [0., 1., 0.],\n",
              "       [0., 1., 0.],\n",
              "       [0., 1., 0.],\n",
              "       [0., 1., 0.],\n",
              "       [1., 0., 0.],\n",
              "       [0., 1., 0.],\n",
              "       [0., 1., 0.],\n",
              "       [0., 0., 1.],\n",
              "       [0., 1., 0.],\n",
              "       [1., 0., 0.],\n",
              "       [0., 0., 1.],\n",
              "       [1., 0., 0.],\n",
              "       [0., 0., 1.],\n",
              "       [1., 0., 0.],\n",
              "       [0., 1., 0.],\n",
              "       [1., 0., 0.],\n",
              "       [0., 1., 0.],\n",
              "       [0., 1., 0.],\n",
              "       [0., 1., 0.],\n",
              "       [0., 1., 0.],\n",
              "       [0., 1., 0.],\n",
              "       [0., 1., 0.],\n",
              "       [0., 0., 1.],\n",
              "       [0., 1., 0.],\n",
              "       [0., 1., 0.],\n",
              "       [0., 1., 0.],\n",
              "       [0., 1., 0.],\n",
              "       [1., 0., 0.],\n",
              "       [0., 1., 0.],\n",
              "       [1., 0., 0.],\n",
              "       [0., 1., 0.],\n",
              "       [0., 1., 0.],\n",
              "       [1., 0., 0.],\n",
              "       [0., 1., 0.],\n",
              "       [0., 1., 0.],\n",
              "       [0., 1., 0.],\n",
              "       [1., 0., 0.],\n",
              "       [0., 1., 0.],\n",
              "       [1., 0., 0.],\n",
              "       [0., 1., 0.],\n",
              "       [0., 0., 1.],\n",
              "       [0., 1., 0.],\n",
              "       [1., 0., 0.],\n",
              "       [0., 1., 0.],\n",
              "       [0., 0., 1.],\n",
              "       [1., 0., 0.],\n",
              "       [0., 1., 0.],\n",
              "       [0., 1., 0.],\n",
              "       [0., 1., 0.],\n",
              "       [0., 0., 1.],\n",
              "       [0., 0., 1.],\n",
              "       [0., 0., 1.],\n",
              "       [0., 1., 0.],\n",
              "       [0., 1., 0.],\n",
              "       [0., 1., 0.],\n",
              "       [1., 0., 0.],\n",
              "       [0., 1., 0.],\n",
              "       [1., 0., 0.],\n",
              "       [0., 1., 0.],\n",
              "       [0., 1., 0.],\n",
              "       [0., 1., 0.],\n",
              "       [0., 1., 0.],\n",
              "       [0., 0., 1.],\n",
              "       [0., 0., 1.],\n",
              "       [0., 1., 0.],\n",
              "       [1., 0., 0.],\n",
              "       [1., 0., 0.],\n",
              "       [0., 1., 0.],\n",
              "       [0., 0., 1.],\n",
              "       [0., 1., 0.],\n",
              "       [1., 0., 0.],\n",
              "       [0., 1., 0.],\n",
              "       [0., 1., 0.],\n",
              "       [0., 0., 1.],\n",
              "       [0., 1., 0.],\n",
              "       [0., 0., 1.],\n",
              "       [0., 0., 1.],\n",
              "       [0., 1., 0.],\n",
              "       [0., 1., 0.],\n",
              "       [0., 1., 0.],\n",
              "       [0., 1., 0.],\n",
              "       [0., 1., 0.],\n",
              "       [0., 1., 0.],\n",
              "       [0., 1., 0.],\n",
              "       [0., 1., 0.],\n",
              "       [0., 0., 1.],\n",
              "       [0., 1., 0.],\n",
              "       [0., 0., 1.],\n",
              "       [0., 1., 0.],\n",
              "       [0., 1., 0.],\n",
              "       [0., 1., 0.],\n",
              "       [0., 1., 0.],\n",
              "       [1., 0., 0.],\n",
              "       [0., 1., 0.],\n",
              "       [0., 1., 0.],\n",
              "       [0., 1., 0.],\n",
              "       [0., 0., 1.],\n",
              "       [0., 1., 0.],\n",
              "       [0., 1., 0.],\n",
              "       [0., 1., 0.],\n",
              "       [1., 0., 0.],\n",
              "       [0., 1., 0.],\n",
              "       [0., 0., 1.],\n",
              "       [1., 0., 0.],\n",
              "       [0., 1., 0.],\n",
              "       [0., 1., 0.],\n",
              "       [0., 1., 0.],\n",
              "       [0., 1., 0.],\n",
              "       [0., 1., 0.],\n",
              "       [0., 1., 0.],\n",
              "       [0., 1., 0.],\n",
              "       [0., 1., 0.],\n",
              "       [0., 1., 0.],\n",
              "       [0., 1., 0.],\n",
              "       [0., 0., 1.],\n",
              "       [0., 0., 1.],\n",
              "       [0., 1., 0.],\n",
              "       [0., 0., 1.],\n",
              "       [1., 0., 0.],\n",
              "       [0., 1., 0.],\n",
              "       [0., 1., 0.],\n",
              "       [0., 1., 0.],\n",
              "       [1., 0., 0.],\n",
              "       [0., 1., 0.],\n",
              "       [0., 1., 0.],\n",
              "       [0., 1., 0.]], dtype=float32)"
            ]
          },
          "metadata": {},
          "execution_count": 59
        }
      ],
      "source": [
        "from tensorflow.keras.utils import to_categorical\n",
        "\n",
        "train_labels = to_categorical(train_labels)\n",
        "test_labels = to_categorical(test_labels)\n",
        "train_labels"
      ]
    },
    {
      "cell_type": "markdown",
      "metadata": {
        "id": "Ywe5p7spZwQT"
      },
      "source": [
        "<p dir=\"rtl\" align=\"justify\">\n",
        "<font face=\"homa\">\n",
        "حال آماده آموزش شبکه هستیم. در کراس آموزش از طریق فراخوانی متد fit صورت می‌گیرد. ما مدل را براساس داده‌های آموزشی‌اش برازش  می‌کنیم:"
      ]
    },
    {
      "cell_type": "code",
      "execution_count": 60,
      "metadata": {
        "colab": {
          "base_uri": "https://localhost:8080/"
        },
        "id": "CAfT4OXvZwQU",
        "outputId": "ac153a57-1038-4748-c0c4-eb916d8d003f"
      },
      "outputs": [
        {
          "output_type": "stream",
          "name": "stdout",
          "text": [
            "Epoch 1/100\n",
            "6/6 [==============================] - 0s 17ms/step - loss: 161.3955 - accuracy: 0.5087\n",
            "Epoch 2/100\n",
            "6/6 [==============================] - 0s 15ms/step - loss: 70.5450 - accuracy: 0.4624\n",
            "Epoch 3/100\n",
            "6/6 [==============================] - 0s 15ms/step - loss: 36.6951 - accuracy: 0.5318\n",
            "Epoch 4/100\n",
            "6/6 [==============================] - 0s 14ms/step - loss: 28.1006 - accuracy: 0.5145\n",
            "Epoch 5/100\n",
            "6/6 [==============================] - 0s 17ms/step - loss: 27.4800 - accuracy: 0.5376\n",
            "Epoch 6/100\n",
            "6/6 [==============================] - 0s 15ms/step - loss: 38.7484 - accuracy: 0.5087\n",
            "Epoch 7/100\n",
            "6/6 [==============================] - 0s 14ms/step - loss: 23.2161 - accuracy: 0.5780\n",
            "Epoch 8/100\n",
            "6/6 [==============================] - 0s 14ms/step - loss: 21.8965 - accuracy: 0.5434\n",
            "Epoch 9/100\n",
            "6/6 [==============================] - 0s 15ms/step - loss: 20.1288 - accuracy: 0.5838\n",
            "Epoch 10/100\n",
            "6/6 [==============================] - 0s 15ms/step - loss: 16.8472 - accuracy: 0.5896\n",
            "Epoch 11/100\n",
            "6/6 [==============================] - 0s 15ms/step - loss: 28.7785 - accuracy: 0.4913\n",
            "Epoch 12/100\n",
            "6/6 [==============================] - 0s 15ms/step - loss: 9.7835 - accuracy: 0.6185\n",
            "Epoch 13/100\n",
            "6/6 [==============================] - 0s 14ms/step - loss: 28.0840 - accuracy: 0.4913\n",
            "Epoch 14/100\n",
            "6/6 [==============================] - 0s 14ms/step - loss: 16.5435 - accuracy: 0.6069\n",
            "Epoch 15/100\n",
            "6/6 [==============================] - 0s 15ms/step - loss: 9.6568 - accuracy: 0.6416\n",
            "Epoch 16/100\n",
            "6/6 [==============================] - 0s 15ms/step - loss: 22.0316 - accuracy: 0.5202\n",
            "Epoch 17/100\n",
            "6/6 [==============================] - 0s 15ms/step - loss: 15.7564 - accuracy: 0.5665\n",
            "Epoch 18/100\n",
            "6/6 [==============================] - 0s 14ms/step - loss: 12.0404 - accuracy: 0.6243\n",
            "Epoch 19/100\n",
            "6/6 [==============================] - 0s 14ms/step - loss: 15.7122 - accuracy: 0.5665\n",
            "Epoch 20/100\n",
            "6/6 [==============================] - 0s 14ms/step - loss: 8.7541 - accuracy: 0.6705\n",
            "Epoch 21/100\n",
            "6/6 [==============================] - 0s 15ms/step - loss: 9.6558 - accuracy: 0.6301\n",
            "Epoch 22/100\n",
            "6/6 [==============================] - 0s 16ms/step - loss: 16.8102 - accuracy: 0.5607\n",
            "Epoch 23/100\n",
            "6/6 [==============================] - 0s 14ms/step - loss: 17.5571 - accuracy: 0.4971\n",
            "Epoch 24/100\n",
            "6/6 [==============================] - 0s 14ms/step - loss: 17.5566 - accuracy: 0.4509\n",
            "Epoch 25/100\n",
            "6/6 [==============================] - 0s 15ms/step - loss: 12.0775 - accuracy: 0.5260\n",
            "Epoch 26/100\n",
            "6/6 [==============================] - 0s 14ms/step - loss: 5.6113 - accuracy: 0.7341\n",
            "Epoch 27/100\n",
            "6/6 [==============================] - 0s 15ms/step - loss: 12.4347 - accuracy: 0.5318\n",
            "Epoch 28/100\n",
            "6/6 [==============================] - 0s 15ms/step - loss: 9.4554 - accuracy: 0.6416\n",
            "Epoch 29/100\n",
            "6/6 [==============================] - 0s 15ms/step - loss: 15.1788 - accuracy: 0.5087\n",
            "Epoch 30/100\n",
            "6/6 [==============================] - 0s 15ms/step - loss: 9.8240 - accuracy: 0.5376\n",
            "Epoch 31/100\n",
            "6/6 [==============================] - 0s 15ms/step - loss: 8.5771 - accuracy: 0.5665\n",
            "Epoch 32/100\n",
            "6/6 [==============================] - 0s 14ms/step - loss: 10.3349 - accuracy: 0.6069\n",
            "Epoch 33/100\n",
            "6/6 [==============================] - 0s 15ms/step - loss: 11.0751 - accuracy: 0.4913\n",
            "Epoch 34/100\n",
            "6/6 [==============================] - 0s 15ms/step - loss: 4.4978 - accuracy: 0.7746\n",
            "Epoch 35/100\n",
            "6/6 [==============================] - 0s 15ms/step - loss: 9.1152 - accuracy: 0.6243\n",
            "Epoch 36/100\n",
            "6/6 [==============================] - 0s 14ms/step - loss: 6.8116 - accuracy: 0.6821\n",
            "Epoch 37/100\n",
            "6/6 [==============================] - 0s 15ms/step - loss: 7.6038 - accuracy: 0.6647\n",
            "Epoch 38/100\n",
            "6/6 [==============================] - 0s 14ms/step - loss: 10.2768 - accuracy: 0.5434\n",
            "Epoch 39/100\n",
            "6/6 [==============================] - 0s 14ms/step - loss: 1.8763 - accuracy: 0.8497\n",
            "Epoch 40/100\n",
            "6/6 [==============================] - 0s 14ms/step - loss: 8.3311 - accuracy: 0.5896\n",
            "Epoch 41/100\n",
            "6/6 [==============================] - 0s 15ms/step - loss: 5.6399 - accuracy: 0.7746\n",
            "Epoch 42/100\n",
            "6/6 [==============================] - 0s 14ms/step - loss: 8.6787 - accuracy: 0.5491\n",
            "Epoch 43/100\n",
            "6/6 [==============================] - 0s 14ms/step - loss: 8.5926 - accuracy: 0.6301\n",
            "Epoch 44/100\n",
            "6/6 [==============================] - 0s 15ms/step - loss: 3.9058 - accuracy: 0.6474\n",
            "Epoch 45/100\n",
            "6/6 [==============================] - 0s 14ms/step - loss: 5.0740 - accuracy: 0.5954\n",
            "Epoch 46/100\n",
            "6/6 [==============================] - 0s 14ms/step - loss: 3.2911 - accuracy: 0.6936\n",
            "Epoch 47/100\n",
            "6/6 [==============================] - 0s 14ms/step - loss: 11.4795 - accuracy: 0.5260\n",
            "Epoch 48/100\n",
            "6/6 [==============================] - 0s 14ms/step - loss: 3.3551 - accuracy: 0.6705\n",
            "Epoch 49/100\n",
            "6/6 [==============================] - 0s 14ms/step - loss: 6.9521 - accuracy: 0.6185\n",
            "Epoch 50/100\n",
            "6/6 [==============================] - 0s 15ms/step - loss: 1.2145 - accuracy: 0.7977\n",
            "Epoch 51/100\n",
            "6/6 [==============================] - 0s 14ms/step - loss: 2.6652 - accuracy: 0.7630\n",
            "Epoch 52/100\n",
            "6/6 [==============================] - 0s 14ms/step - loss: 8.5483 - accuracy: 0.6185\n",
            "Epoch 53/100\n",
            "6/6 [==============================] - 0s 14ms/step - loss: 0.9840 - accuracy: 0.8382\n",
            "Epoch 54/100\n",
            "6/6 [==============================] - 0s 16ms/step - loss: 5.2844 - accuracy: 0.6474\n",
            "Epoch 55/100\n",
            "6/6 [==============================] - 0s 15ms/step - loss: 5.0563 - accuracy: 0.6763\n",
            "Epoch 56/100\n",
            "6/6 [==============================] - 0s 14ms/step - loss: 2.6128 - accuracy: 0.8497\n",
            "Epoch 57/100\n",
            "6/6 [==============================] - 0s 14ms/step - loss: 1.4115 - accuracy: 0.8324\n",
            "Epoch 58/100\n",
            "6/6 [==============================] - 0s 14ms/step - loss: 4.4654 - accuracy: 0.6474\n",
            "Epoch 59/100\n",
            "6/6 [==============================] - 0s 15ms/step - loss: 4.3047 - accuracy: 0.7457\n",
            "Epoch 60/100\n",
            "6/6 [==============================] - 0s 14ms/step - loss: 1.8115 - accuracy: 0.8035\n",
            "Epoch 61/100\n",
            "6/6 [==============================] - 0s 14ms/step - loss: 4.6463 - accuracy: 0.6358\n",
            "Epoch 62/100\n",
            "6/6 [==============================] - 0s 14ms/step - loss: 4.1749 - accuracy: 0.7630\n",
            "Epoch 63/100\n",
            "6/6 [==============================] - 0s 15ms/step - loss: 2.0612 - accuracy: 0.7861\n",
            "Epoch 64/100\n",
            "6/6 [==============================] - 0s 14ms/step - loss: 3.9476 - accuracy: 0.7052\n",
            "Epoch 65/100\n",
            "6/6 [==============================] - 0s 14ms/step - loss: 1.3622 - accuracy: 0.7861\n",
            "Epoch 66/100\n",
            "6/6 [==============================] - 0s 14ms/step - loss: 2.0676 - accuracy: 0.7746\n",
            "Epoch 67/100\n",
            "6/6 [==============================] - 0s 14ms/step - loss: 2.1662 - accuracy: 0.6879\n",
            "Epoch 68/100\n",
            "6/6 [==============================] - 0s 14ms/step - loss: 0.7377 - accuracy: 0.8613\n",
            "Epoch 69/100\n",
            "6/6 [==============================] - 0s 14ms/step - loss: 8.1498 - accuracy: 0.5260\n",
            "Epoch 70/100\n",
            "6/6 [==============================] - 0s 14ms/step - loss: 1.1597 - accuracy: 0.8266\n",
            "Epoch 71/100\n",
            "6/6 [==============================] - 0s 14ms/step - loss: 0.5222 - accuracy: 0.8728\n",
            "Epoch 72/100\n",
            "6/6 [==============================] - 0s 14ms/step - loss: 3.5095 - accuracy: 0.7746\n",
            "Epoch 73/100\n",
            "6/6 [==============================] - 0s 14ms/step - loss: 2.3437 - accuracy: 0.7399\n",
            "Epoch 74/100\n",
            "6/6 [==============================] - 0s 14ms/step - loss: 3.2606 - accuracy: 0.6647\n",
            "Epoch 75/100\n",
            "6/6 [==============================] - 0s 14ms/step - loss: 2.7623 - accuracy: 0.7283\n",
            "Epoch 76/100\n",
            "6/6 [==============================] - 0s 15ms/step - loss: 0.2461 - accuracy: 0.9075\n",
            "Epoch 77/100\n",
            "6/6 [==============================] - 0s 15ms/step - loss: 3.6805 - accuracy: 0.6590\n",
            "Epoch 78/100\n",
            "6/6 [==============================] - 0s 14ms/step - loss: 0.6165 - accuracy: 0.8728\n",
            "Epoch 79/100\n",
            "6/6 [==============================] - 0s 15ms/step - loss: 6.1797 - accuracy: 0.5896\n",
            "Epoch 80/100\n",
            "6/6 [==============================] - 0s 15ms/step - loss: 0.2690 - accuracy: 0.9133\n",
            "Epoch 81/100\n",
            "6/6 [==============================] - 0s 14ms/step - loss: 0.0959 - accuracy: 0.9711\n",
            "Epoch 82/100\n",
            "6/6 [==============================] - 0s 15ms/step - loss: 3.2065 - accuracy: 0.7225\n",
            "Epoch 83/100\n",
            "6/6 [==============================] - 0s 14ms/step - loss: 2.3062 - accuracy: 0.7283\n",
            "Epoch 84/100\n",
            "6/6 [==============================] - 0s 15ms/step - loss: 0.8194 - accuracy: 0.7803\n",
            "Epoch 85/100\n",
            "6/6 [==============================] - 0s 14ms/step - loss: 3.2362 - accuracy: 0.6879\n",
            "Epoch 86/100\n",
            "6/6 [==============================] - 0s 15ms/step - loss: 0.3490 - accuracy: 0.8728\n",
            "Epoch 87/100\n",
            "6/6 [==============================] - 0s 15ms/step - loss: 1.0165 - accuracy: 0.8035\n",
            "Epoch 88/100\n",
            "6/6 [==============================] - 0s 15ms/step - loss: 3.1691 - accuracy: 0.7457\n",
            "Epoch 89/100\n",
            "6/6 [==============================] - 0s 14ms/step - loss: 0.3992 - accuracy: 0.8960\n",
            "Epoch 90/100\n",
            "6/6 [==============================] - 0s 14ms/step - loss: 1.2369 - accuracy: 0.8324\n",
            "Epoch 91/100\n",
            "6/6 [==============================] - 0s 15ms/step - loss: 1.9912 - accuracy: 0.7457\n",
            "Epoch 92/100\n",
            "6/6 [==============================] - 0s 14ms/step - loss: 1.8949 - accuracy: 0.8324\n",
            "Epoch 93/100\n",
            "6/6 [==============================] - 0s 15ms/step - loss: 0.1808 - accuracy: 0.9364\n",
            "Epoch 94/100\n",
            "6/6 [==============================] - 0s 14ms/step - loss: 1.8016 - accuracy: 0.8092\n",
            "Epoch 95/100\n",
            "6/6 [==============================] - 0s 15ms/step - loss: 0.6972 - accuracy: 0.8671\n",
            "Epoch 96/100\n",
            "6/6 [==============================] - 0s 14ms/step - loss: 1.3905 - accuracy: 0.8266\n",
            "Epoch 97/100\n",
            "6/6 [==============================] - 0s 14ms/step - loss: 0.6061 - accuracy: 0.9306\n",
            "Epoch 98/100\n",
            "6/6 [==============================] - 0s 15ms/step - loss: 1.4997 - accuracy: 0.8208\n",
            "Epoch 99/100\n",
            "6/6 [==============================] - 0s 14ms/step - loss: 1.0999 - accuracy: 0.8728\n",
            "Epoch 100/100\n",
            "6/6 [==============================] - 0s 14ms/step - loss: 0.4174 - accuracy: 0.9191\n"
          ]
        },
        {
          "output_type": "execute_result",
          "data": {
            "text/plain": [
              "<keras.callbacks.History at 0x7f3e8235c850>"
            ]
          },
          "metadata": {},
          "execution_count": 60
        }
      ],
      "source": [
        "network.fit(train_images, train_labels, epochs=100, batch_size=32)"
      ]
    },
    {
      "cell_type": "markdown",
      "metadata": {
        "id": "ZdDP2YhjZwQU"
      },
      "source": [
        "<p dir=\"rtl\" align=\"justify\">\n",
        "<font face=\"homa\">\n",
        "دو کمیت در طول آموزش نمایش داده می‌شوند: خطا و دقت شبکه روی داده‌های آموزشی. \n",
        "<br><br>\n",
        "ما به‌ سرعت به دقت بالا در داده‌های آموزشی رسیدیم. اکنون اجازه دهید که مدل را در مجموعه آزمایش نیز بررسی کنیم:"
      ]
    },
    {
      "cell_type": "code",
      "execution_count": 61,
      "metadata": {
        "colab": {
          "base_uri": "https://localhost:8080/"
        },
        "id": "wqILoUCiZwQU",
        "outputId": "1836331d-d904-4927-80b5-99b75e4c5843"
      },
      "outputs": [
        {
          "output_type": "stream",
          "name": "stdout",
          "text": [
            "3/3 [==============================] - 0s 6ms/step - loss: 3.0344 - accuracy: 0.6533\n"
          ]
        }
      ],
      "source": [
        "test_loss, test_acc = network.evaluate(test_images, test_labels)"
      ]
    },
    {
      "cell_type": "code",
      "execution_count": 62,
      "metadata": {
        "colab": {
          "base_uri": "https://localhost:8080/"
        },
        "id": "e8kRoGAKZwQV",
        "outputId": "88ff8a11-5169-48bf-8ed9-cce338bb401a"
      },
      "outputs": [
        {
          "output_type": "stream",
          "name": "stdout",
          "text": [
            "test_acc: 0.653333306312561\n"
          ]
        }
      ],
      "source": [
        "print('test_acc:', test_acc)"
      ]
    },
    {
      "cell_type": "code",
      "source": [
        "import matplotlib.pyplot as plt\n",
        "import numpy as np\n",
        "\n",
        "img_inx = np.random.randint(0, len(test_images))\n",
        "\n",
        "pre = np.round(network.predict(test_images[img_inx:img_inx + 1]), 2)\n",
        "plt.imshow(np.reshape(test_images[img_inx], [128, 128, 3]))\n",
        "\n",
        "print(f'Lable: {test_labels[img_inx]}')\n",
        "print(f'Predicted Lable: {pre}')"
      ],
      "metadata": {
        "colab": {
          "base_uri": "https://localhost:8080/",
          "height": 320
        },
        "id": "OocSdNBkhldh",
        "outputId": "c5bc5392-1f4d-4623-ce43-c5f99d41a683"
      },
      "execution_count": 63,
      "outputs": [
        {
          "output_type": "stream",
          "name": "stdout",
          "text": [
            "1/1 [==============================] - 0s 39ms/step\n",
            "Lable: [1. 0. 0.]\n",
            "Predicted Lable: [[0.17 0.83 0.  ]]\n"
          ]
        },
        {
          "output_type": "display_data",
          "data": {
            "text/plain": [
              "<Figure size 432x288 with 1 Axes>"
            ],
            "image/png": "[encoded data removed]"
          },
          "metadata": {
            "needs_background": "light"
          }
        }
      ]
    },
    {
      "cell_type": "markdown",
      "metadata": {
        "id": "dlXEReMsZwQV"
      },
      "source": [
        "<p dir=\"rtl\" align=\"justify\">\n",
        "<font face=\"homa\">\n",
        "میزان دقت مجموعه آزمایش خیلی کمتر از میزان دقت مجموعه آموزش است. این شکاف بین دقت آموزش و دقت آزمایش نمونه‌ای از بیش برازش است؛ یعنی گویای این واقعیت است که مدل‌های یادگیری ماشین روی ‌داده‌های جدید، نسبت به داده‌های آموزشی خودشان، عملکرد بدتری دارند. \n",
        "<br><br>\n"
      ]
    }
  ],
  "metadata": {
    "accelerator": "GPU",
    "colab": {
      "provenance": []
    },
    "gpuClass": "standard",
    "kernelspec": {
      "display_name": "Python 3",
      "language": "python",
      "name": "python3"
    },
    "language_info": {
      "codemirror_mode": {
        "name": "ipython",
        "version": 3
      },
      "file_extension": ".py",
      "mimetype": "text/x-python",
      "name": "python",
      "nbconvert_exporter": "python",
      "pygments_lexer": "ipython3",
      "version": "3.8.8"
    },
    "vscode": {
      "interpreter": {
        "hash": "5b3ded1ccb95c1d9bd405e7b823d9e85424cde40fbb5985eb47e999ef50e15b4"
      }
    }
  },
  "nbformat": 4,
  "nbformat_minor": 0
}